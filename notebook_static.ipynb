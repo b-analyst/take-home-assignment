{
 "cells": [
  {
   "cell_type": "markdown",
   "metadata": {
    "id": "YrLgKY3Usves"
   },
   "source": [
    "# Required Installations"
   ]
  },
  {
   "cell_type": "code",
   "execution_count": null,
   "metadata": {
    "id": "pe8zeejH5a8m"
   },
   "outputs": [],
   "source": [
    "%%capture\n",
    "!pip install gguf\n",
    "import os, re\n",
    "import torch; v = re.match(r\"[0-9\\.]{3,}\", str(torch.__version__)).group(0)\n",
    "xformers = \"xformers==\" + (\"0.0.32.post2\" if v == \"2.8.0\" else \"0.0.29.post3\")\n",
    "!pip install --no-deps bitsandbytes accelerate {xformers} peft trl triton cut_cross_entropy unsloth_zoo\n",
    "!pip install sentencepiece protobuf \"datasets>=3.4.1,<4.0.0\" \"huggingface_hub>=0.34.0\" hf_transfer\n",
    "!pip install --no-deps unsloth\n",
    "!pip install transformers==4.55.4\n",
    "!pip install -U packaging ninja\n",
    "!pip install -U flash-attn --no-build-isolation\n",
    "!pip install -q evaluate\n",
    "!pip install -U wandb"
   ]
  },
  {
   "cell_type": "markdown",
   "metadata": {
    "id": "VeVv_wXwtOFX"
   },
   "source": [
    "# Data Preprocessing"
   ]
  },
  {
   "cell_type": "code",
   "execution_count": null,
   "metadata": {
    "id": "W0kpFuEm8qcL",
    "outputId": "b660eceb-fb48-4e7c-8187-ae0491cff62d"
   },
   "outputs": [
    {
     "data": {
      "text/plain": [
       "                                                question  \\\n",
       "0                               What is (are) Glaucoma ?   \n",
       "1                               What is (are) Glaucoma ?   \n",
       "2                               What is (are) Glaucoma ?   \n",
       "3                         Who is at risk for Glaucoma? ?   \n",
       "4                              How to prevent Glaucoma ?   \n",
       "...                                                  ...   \n",
       "16401  What is (are) Diabetic Neuropathies: The Nerve...   \n",
       "16402  What is (are) Diabetic Neuropathies: The Nerve...   \n",
       "16403  What is (are) Diabetic Neuropathies: The Nerve...   \n",
       "16404  How to prevent Diabetic Neuropathies: The Nerv...   \n",
       "16405  How to diagnose Diabetic Neuropathies: The Ner...   \n",
       "\n",
       "                                                  answer  \n",
       "0      Glaucoma is a group of diseases that can damag...  \n",
       "1      The optic nerve is a bundle of more than 1 mil...  \n",
       "2      Open-angle glaucoma is the most common form of...  \n",
       "3      Anyone can develop glaucoma. Some people are a...  \n",
       "4      At this time, we do not know how to prevent gl...  \n",
       "...                                                  ...  \n",
       "16401  Autonomic neuropathy affects the nerves that c...  \n",
       "16402  Proximal neuropathy, sometimes called lumbosac...  \n",
       "16403  Focal neuropathy appears suddenly and affects ...  \n",
       "16404  The best way to prevent neuropathy is to keep ...  \n",
       "16405  Doctors diagnose neuropathy on the basis of sy...  \n",
       "\n",
       "[16406 rows x 2 columns]"
      ]
     },
     "execution_count": 3,
     "metadata": {},
     "output_type": "execute_result"
    }
   ],
   "source": [
    "import pandas as pd\n",
    "data = pd.read_csv('/content/mle_screening_dataset.csv')\n",
    "data"
   ]
  },
  {
   "cell_type": "code",
   "execution_count": null,
   "metadata": {
    "id": "kMvHm3hw80fM",
    "outputId": "b6e82b74-5cab-4d98-dc4d-009d73ee20e4"
   },
   "outputs": [
    {
     "data": {
      "text/plain": [
       "\"Glaucoma is a group of diseases that can damage the eye's optic nerve and result in vision loss and blindness. The most common form of the disease is open-angle glaucoma. With early treatment, you can often protect your eyes against serious vision loss. (Watch the video to learn more about glaucoma. To enlarge the video, click the brackets in the lower right-hand corner. To reduce the video, press the Escape (Esc) button on your keyboard.)  See this graphic for a quick overview of glaucoma, including how many people it affects, whos at risk, what to do if you have it, and how to learn more.  See a glossary of glaucoma terms.\""
      ]
     },
     "execution_count": 8,
     "metadata": {},
     "output_type": "execute_result"
    }
   ],
   "source": [
    "data[\"answer\"][0]"
   ]
  },
  {
   "cell_type": "code",
   "execution_count": null,
   "metadata": {
    "id": "NW9Emrb689Bj",
    "outputId": "6d6b5f88-b7f9-4e9d-b82f-41192eb1c166"
   },
   "outputs": [
    {
     "data": {
      "text/plain": [
       "'The optic nerve is a bundle of more than 1 million nerve fibers. It connects the retina to the brain.'"
      ]
     },
     "execution_count": 9,
     "metadata": {},
     "output_type": "execute_result"
    }
   ],
   "source": [
    "data[\"answer\"][1]"
   ]
  },
  {
   "cell_type": "code",
   "execution_count": null,
   "metadata": {
    "id": "TkMwpCK59Efy",
    "outputId": "63f43de9-0fe3-423b-b1b5-50d6e7efd283"
   },
   "outputs": [
    {
     "data": {
      "text/plain": [
       "'Open-angle glaucoma is the most common form of glaucoma. In the normal eye, the clear fluid leaves the anterior chamber at the open angle where the cornea and iris meet. When the fluid reaches the angle, it flows through a spongy meshwork, like a drain, and leaves the eye. Sometimes, when the fluid reaches the angle, it passes too slowly through the meshwork drain, causing the pressure inside the eye to build. If the pressure damages the optic nerve, open-angle glaucoma -- and vision loss -- may result.'"
      ]
     },
     "execution_count": 10,
     "metadata": {},
     "output_type": "execute_result"
    }
   ],
   "source": [
    "data[\"answer\"][2]"
   ]
  },
  {
   "cell_type": "code",
   "execution_count": null,
   "metadata": {
    "id": "XLwBNF6BB2FW",
    "outputId": "ade9c502-487b-48cb-b1ce-59c7235df03c"
   },
   "outputs": [
    {
     "data": {
      "text/plain": [
       "                                                question  \\\n",
       "0                      Do you have information about A1C   \n",
       "1              Do you have information about Acupuncture   \n",
       "2                 Do you have information about Adoption   \n",
       "3       Do you have information about Advance Directives   \n",
       "4      Do you have information about African American...   \n",
       "...                                                  ...   \n",
       "14976  what research (or clinical trials) is being do...   \n",
       "14977  what research (or clinical trials) is being do...   \n",
       "14978  what research (or clinical trials) is being do...   \n",
       "14979  what research is being done for Tuberculosis (...   \n",
       "14980  what types of infections does vancomycin-resis...   \n",
       "\n",
       "                                                 answers  \n",
       "0      (Summary : A1C is a blood test for type 2 diab...  \n",
       "1      (Summary : Acupuncture has been practiced in C...  \n",
       "2      (Summary : Adoption brings a child born to oth...  \n",
       "3      (Summary : What kind of medical care would you...  \n",
       "4      (Summary : Every racial or ethnic group has sp...  \n",
       "...                                                  ...  \n",
       "14976  (New types of treatment are being tested in cl...  \n",
       "14977  (The National Institute of Neurological Disord...  \n",
       "14978  (The National Institute of Neurological Disord...  \n",
       "14979  (TB Epidemiologic Studies Consortium\\n  \\n The...  \n",
       "14980  (On this Page General Information What is vanc...  \n",
       "\n",
       "[14981 rows x 2 columns]"
      ]
     },
     "execution_count": 4,
     "metadata": {},
     "output_type": "execute_result"
    }
   ],
   "source": [
    "# group duplicate questions with multiple answers together in a tuple.\n",
    "grouped = data.groupby(\"question\")\n",
    "grouped_ds = pd.DataFrame(columns=[\"question\", \"answers\"])\n",
    "\n",
    "questions = []\n",
    "answers = []\n",
    "for q, a in grouped:\n",
    "    questions.append(q)\n",
    "    answers.append(tuple(a[\"answer\"]))\n",
    "\n",
    "grouped_ds[\"question\"] = questions\n",
    "grouped_ds[\"answers\"] = answers\n",
    "\n",
    "grouped_ds"
   ]
  },
  {
   "cell_type": "code",
   "execution_count": null,
   "metadata": {
    "id": "cKDGbP5MECFG",
    "outputId": "cfd70fd8-b960-4382-f0b8-bdc698ca3832"
   },
   "outputs": [
    {
     "data": {
      "text/plain": [
       "                                                question  \\\n",
       "0                      Do you have information about A1C   \n",
       "1              Do you have information about Acupuncture   \n",
       "2                 Do you have information about Adoption   \n",
       "3       Do you have information about Advance Directives   \n",
       "4      Do you have information about African American...   \n",
       "...                                                  ...   \n",
       "14976  what research (or clinical trials) is being do...   \n",
       "14977  what research (or clinical trials) is being do...   \n",
       "14978  what research (or clinical trials) is being do...   \n",
       "14979  what research is being done for Tuberculosis (...   \n",
       "14980  what types of infections does vancomycin-resis...   \n",
       "\n",
       "                                                 answers  multi-answers  \n",
       "0      (Summary : A1C is a blood test for type 2 diab...          False  \n",
       "1      (Summary : Acupuncture has been practiced in C...          False  \n",
       "2      (Summary : Adoption brings a child born to oth...          False  \n",
       "3      (Summary : What kind of medical care would you...          False  \n",
       "4      (Summary : Every racial or ethnic group has sp...          False  \n",
       "...                                                  ...            ...  \n",
       "14976  (New types of treatment are being tested in cl...          False  \n",
       "14977  (The National Institute of Neurological Disord...          False  \n",
       "14978  (The National Institute of Neurological Disord...          False  \n",
       "14979  (TB Epidemiologic Studies Consortium\\n  \\n The...          False  \n",
       "14980  (On this Page General Information What is vanc...          False  \n",
       "\n",
       "[14981 rows x 3 columns]"
      ]
     },
     "execution_count": 5,
     "metadata": {},
     "output_type": "execute_result"
    }
   ],
   "source": [
    "grouped_ds[\"multi-answers\"] = grouped_ds[\"answers\"].map(lambda x: len(x) > 1)\n",
    "grouped_ds"
   ]
  },
  {
   "cell_type": "code",
   "execution_count": null,
   "metadata": {
    "id": "-9KL-EP-Fkw_",
    "outputId": "8469b29d-fa66-40e7-9b68-a6e6e5b9ab4a"
   },
   "outputs": [
    {
     "data": {
      "text/plain": [
       "<Axes: ylabel='multi-answers'>"
      ]
     },
     "execution_count": 13,
     "metadata": {},
     "output_type": "execute_result"
    },
    {
     "data": {
      "image/png": "[encoded data removed]",
      "text/plain": [
       "<Figure size 640x480 with 1 Axes>"
      ]
     },
     "metadata": {},
     "output_type": "display_data"
    }
   ],
   "source": [
    "from matplotlib import pyplot as plt\n",
    "grouped_ds.groupby('multi-answers').size().plot(kind='barh')"
   ]
  },
  {
   "cell_type": "code",
   "execution_count": null,
   "metadata": {
    "id": "E9PqHmp3Hq0l",
    "outputId": "fa3d3ff4-2062-4bfb-c477-e975ca133ec2"
   },
   "outputs": [
    {
     "data": {
      "text/plain": [
       "                                                question  \\\n",
       "1431   How to diagnose Adrenal Insufficiency and Addi...   \n",
       "1444            How to diagnose Alzheimer's Caregiving ?   \n",
       "1445               How to diagnose Alzheimer's Disease ?   \n",
       "1448    How to diagnose Amyloidosis and Kidney Disease ?   \n",
       "1488                     How to diagnose Breast Cancer ?   \n",
       "...                                                  ...   \n",
       "14901  what research (or clinical trials) is being do...   \n",
       "14905  what research (or clinical trials) is being do...   \n",
       "14907  what research (or clinical trials) is being do...   \n",
       "14927  what research (or clinical trials) is being do...   \n",
       "14938  what research (or clinical trials) is being do...   \n",
       "\n",
       "                                                 answers  multi-answers  \n",
       "1431   (In its early stages, adrenal insufficiency ca...           True  \n",
       "1444   (Now that your family member or friend has rec...           True  \n",
       "1445   (The only definitive way to diagnose Alzheimer...           True  \n",
       "1448   (A health care provider diagnoses primary amyl...           True  \n",
       "1488   (Most cancers in their early, most treatable s...           True  \n",
       "...                                                  ...            ...  \n",
       "14901  (The National Institute on Deafness and Other ...           True  \n",
       "14905  (Scientists continue to look at new ways to pr...           True  \n",
       "14907  (Scientists who are working to better understa...           True  \n",
       "14927  (Many Areas of Research Scientists are constan...           True  \n",
       "14938  (The National Institute of Neurological Disord...           True  \n",
       "\n",
       "[889 rows x 3 columns]"
      ]
     },
     "execution_count": 6,
     "metadata": {},
     "output_type": "execute_result"
    }
   ],
   "source": [
    "# I need to pick the best answer for the duplicated questions\n",
    "# I need to drop the questions with nonsense answers\n",
    "\n",
    "dups = grouped_ds.loc[grouped_ds[\"multi-answers\"] == True]\n",
    "dups"
   ]
  },
  {
   "cell_type": "code",
   "execution_count": null,
   "metadata": {
    "id": "t-ZyfRhOJbBu",
    "outputId": "8b56e48e-59ac-4543-93c9-f0011e2310d2"
   },
   "outputs": [
    {
     "name": "stderr",
     "output_type": "stream",
     "text": [
      "/tmp/ipython-input-3256613378.py:9: SettingWithCopyWarning: \n",
      "A value is trying to be set on a copy of a slice from a DataFrame.\n",
      "Try using .loc[row_indexer,col_indexer] = value instead\n",
      "\n",
      "See the caveats in the documentation: https://pandas.pydata.org/pandas-docs/stable/user_guide/indexing.html#returning-a-view-versus-a-copy\n",
      "  dups[\"inputs\"] = inputs\n"
     ]
    },
    {
     "data": {
      "text/plain": [
       "                                                question  \\\n",
       "1431   How to diagnose Adrenal Insufficiency and Addi...   \n",
       "1444            How to diagnose Alzheimer's Caregiving ?   \n",
       "1445               How to diagnose Alzheimer's Disease ?   \n",
       "1448    How to diagnose Amyloidosis and Kidney Disease ?   \n",
       "1488                     How to diagnose Breast Cancer ?   \n",
       "...                                                  ...   \n",
       "14901  what research (or clinical trials) is being do...   \n",
       "14905  what research (or clinical trials) is being do...   \n",
       "14907  what research (or clinical trials) is being do...   \n",
       "14927  what research (or clinical trials) is being do...   \n",
       "14938  what research (or clinical trials) is being do...   \n",
       "\n",
       "                                                 answers  multi-answers  \\\n",
       "1431   (In its early stages, adrenal insufficiency ca...           True   \n",
       "1444   (Now that your family member or friend has rec...           True   \n",
       "1445   (The only definitive way to diagnose Alzheimer...           True   \n",
       "1448   (A health care provider diagnoses primary amyl...           True   \n",
       "1488   (Most cancers in their early, most treatable s...           True   \n",
       "...                                                  ...            ...   \n",
       "14901  (The National Institute on Deafness and Other ...           True   \n",
       "14905  (Scientists continue to look at new ways to pr...           True   \n",
       "14907  (Scientists who are working to better understa...           True   \n",
       "14927  (Many Areas of Research Scientists are constan...           True   \n",
       "14938  (The National Institute of Neurological Disord...           True   \n",
       "\n",
       "                                                  inputs  \n",
       "1431   {'question': 'How to diagnose Adrenal Insuffic...  \n",
       "1444   {'question': 'How to diagnose Alzheimer's Care...  \n",
       "1445   {'question': 'How to diagnose Alzheimer's Dise...  \n",
       "1448   {'question': 'How to diagnose Amyloidosis and ...  \n",
       "1488   {'question': 'How to diagnose Breast Cancer ?'...  \n",
       "...                                                  ...  \n",
       "14901  {'question': 'what research (or clinical trial...  \n",
       "14905  {'question': 'what research (or clinical trial...  \n",
       "14907  {'question': 'what research (or clinical trial...  \n",
       "14927  {'question': 'what research (or clinical trial...  \n",
       "14938  {'question': 'what research (or clinical trial...  \n",
       "\n",
       "[889 rows x 4 columns]"
      ]
     },
     "execution_count": 7,
     "metadata": {},
     "output_type": "execute_result"
    }
   ],
   "source": [
    "# create a column with question and answers grouped together to create input format\n",
    "inputs = []\n",
    "for row in zip(*dups.to_dict(\"list\").values()):\n",
    "    entry = {\n",
    "        \"question\": row[0],\n",
    "        \"choices\": row[1]\n",
    "    }\n",
    "    inputs.append(entry)\n",
    "dups[\"inputs\"] = inputs\n",
    "dups"
   ]
  },
  {
   "cell_type": "code",
   "execution_count": null,
   "metadata": {
    "id": "slWy84UTUrtV",
    "outputId": "b392af6e-3701-4f3e-ff3d-de7869c4c665"
   },
   "outputs": [
    {
     "data": {
      "text/plain": [
       "[(\"Glaucoma is a group of diseases that can damage the eye's optic nerve and result in vision loss and blindness. The most common form of the disease is open-angle glaucoma. With early treatment, you can often protect your eyes against serious vision loss. (Watch the video to learn more about glaucoma. To enlarge the video, click the brackets in the lower right-hand corner. To reduce the video, press the Escape (Esc) button on your keyboard.)  See this graphic for a quick overview of glaucoma, including how many people it affects, whos at risk, what to do if you have it, and how to learn more.  See a glossary of glaucoma terms.\",\n",
       "  'The optic nerve is a bundle of more than 1 million nerve fibers. It connects the retina to the brain.',\n",
       "  'Open-angle glaucoma is the most common form of glaucoma. In the normal eye, the clear fluid leaves the anterior chamber at the open angle where the cornea and iris meet. When the fluid reaches the angle, it flows through a spongy meshwork, like a drain, and leaves the eye. Sometimes, when the fluid reaches the angle, it passes too slowly through the meshwork drain, causing the pressure inside the eye to build. If the pressure damages the optic nerve, open-angle glaucoma -- and vision loss -- may result.',\n",
       "  'National Eye Institute  National Institutes of Health  2020 Vision Place  Bethesda, MD 20892-3655  301-496-5248  E-mail: 2020@nei.nih.gov  www.nei.nih.gov The Glaucoma Foundation  80 Maiden Lane, Suite 700  New York, NY 10038  212-285-0080 Glaucoma Research Foundation  251 Post Street, Suite 600  San Francisco, CA 94108  1-800-826-6693',\n",
       "  \"Glaucoma is a group of diseases that can damage the eye's optic nerve. It is a leading cause of blindness in the United States. It usually happens when the fluid pressure inside the eyes slowly rises, damaging the optic nerve. Often there are no symptoms at first. Without treatment, people with glaucoma will slowly lose their peripheral, or side vision. They seem to be looking through a tunnel. Over time, straight-ahead vision may decrease until no vision remains.    A comprehensive eye exam can tell if you have glaucoma. People at risk should get eye exams at least every two years. They include       -  African Americans over age 40    -  People over age 60, especially Mexican Americans    -  People with a family history of glaucoma       There is no cure, but glaucoma can usually be controlled. Early treatment can help protect your eyes against vision loss. Treatments usually include prescription eyedrops and/or surgery.    NIH: National Eye Institute\")]"
      ]
     },
     "execution_count": 8,
     "metadata": {},
     "output_type": "execute_result"
    }
   ],
   "source": [
    "dups.loc[dups[\"question\"] == \"What is (are) Glaucoma ?\"][\"answers\"].tolist()"
   ]
  },
  {
   "cell_type": "code",
   "execution_count": null,
   "metadata": {
    "id": "SuFfiLqtLLJP",
    "outputId": "a32ef331-b28f-4af5-e9e0-037ddc9e2828"
   },
   "outputs": [
    {
     "name": "stdout",
     "output_type": "stream",
     "text": [
      "You are a highly intelligent assistant who reviews a medical related question answer dataset scraped from the web. Your job is to review the following answers for the provided question and determine which answer is the best one according to these criteria:\n",
      "\n",
      "1: It answers the immediate question succinctly, but completely without leaving out important detail. prioritize answer completeness over conciseness.\n",
      "2: It does not provide irrelevant information, does not give links or unverified contact information such as email or phone numbers, and focuses on answering the question at hand\n",
      "\n",
      "Output instructions: you will only output a single integer as your output which will denote which answer option is the best one. The indexing should begin at 1. \n",
      "\n",
      "Note: if none of the answers provided are satisfactory, use the special index 0 as your output.\n",
      "<|QUESTION|>How to diagnose Adrenal Insufficiency and Addison's Disease ?<|QUESTION|>\n",
      "\n",
      "<|OPTION 1|>In its early stages, adrenal insufficiency can be difficult to diagnose. A health care provider may suspect it after reviewing a persons medical history and symptoms.\n",
      "                \n",
      "A diagnosis of adrenal insufficiency is confirmed through hormonal blood and urine tests. A health care provider uses these tests first to determine whether cortisol levels are too low and then to establish the cause. Imaging studies of the adrenal and pituitary glands can be useful in helping to establish the cause.\n",
      "                \n",
      "A lab technician performs the following tests in a health care providers office, a commercial facility, or a hospital.\n",
      "                \n",
      "Hormonal Blood and Urine Tests\n",
      "                \n",
      "- ACTH stimulation test. The ACTH stimulation test is the most commonly used test for diagnosing adrenal insufficiency. In this test, the patient is given an intravenous (IV) injection of synthetic ACTH, and samples of blood, urine, or both are taken before and after the injection. The cortisol levels in the blood and urine samples are measured in a lab. The normal response after an ACTH injection is a rise in blood and urine cortisol levels. People with Addisons disease or longstanding secondary adrenal insufficiency have little or no increase in cortisol levels.  Both low- and high-dose ACTH stimulation tests may be used depending on the suspected cause of adrenal insufficiency. For example, if secondary adrenal insufficiency is mild or has only recently occurred, the adrenal glands may still respond to ACTH because they have not yet shut down their own production of hormone. Some studies have suggested a low dose1 microgram (mcg)may be more effective in detecting secondary adrenal insufficiency because the low dose is still enough to raise cortisol levels in healthy people, yet not in people with mild or recent secondary adrenal insufficiency. However, recent research has shown that a significant proportion of healthy children and adults can fail the low-dose test, which may lead to unnecessary treatment. Therefore, some health care providers favor using a 250 mcg ACTH test for more accurate results.   - CRH stimulation test. When the response to the ACTH test is abnormal, a CRH stimulation test can help determine the cause of adrenal insufficiency. In this test, the patient is given an IV injection of synthetic CRH, and blood is taken before and 30, 60, 90, and 120 minutes after the injection. The cortisol levels in the blood samples are measured in a lab. People with Addisons disease respond by producing high levels of ACTH, yet no cortisol. People with secondary adrenal insufficiency do not produce ACTH or have a delayed response. CRH will not stimulate ACTH secretion if the pituitary is damaged, so no ACTH response points to the pituitary as the cause. A delayed ACTH response points to the hypothalamus as the cause.\n",
      "                \n",
      "Diagnosis during Adrenal Crisis\n",
      "                \n",
      "Although a reliable diagnosis is not possible during adrenal crisis, measurement of blood ACTH and cortisol during the crisisbefore treatment with corticosteroids is givenis often enough to make a preliminary diagnosis. Low blood sodium, low blood glucose, and high blood potassium are also sometimes present at the time of adrenal crisis. Once the crisis is controlled, an ACTH stimulation test can be performed to help make a specific diagnosis. More complex lab tests are sometimes used if the diagnosis remains unclear.<|OPTION 1|>\n",
      "\n",
      "<|OPTION 2|>After Addisons disease is diagnosed, health care providers may use the following tests to look at the adrenal glands, find out whether the disease is related to TB, or identify antibodies associated with autoimmune Addisons disease.\n",
      "                \n",
      "- Ultrasound of the abdomen. Ultrasound uses a device, called a transducer, that bounces safe, painless sound waves off organs to create an image of their structure. A specially trained technician performs the procedure in a health care providers office, an outpatient center, or a hospital, and a radiologista doctor who specializes in medical imaginginterprets the images; a patient does not need anesthesia. The images can show abnormalities in the adrenal glands, such as enlargement or small size, nodules, or signs of calcium deposits, which may indicate bleeding.   - Tuberculin skin test. A tuberculin skin test measures how a patients immune system reacts to the bacteria that cause TB. A small needle is used to put some testing material, called tuberculin, under the skin. A nurse or lab technician performs the test in a health care providers office; a patient does not need anesthesia. In 2 to 3 days, the patient returns to the health care provider, who will check to see if the patient had a reaction to the test. The test can show if adrenal insufficiency could be related to TB.  To test whether a person has TB infection, which is when TB bacteria live in the body without making the person sick, a special TB blood test is used. To test whether a person has TB disease, which is when TB bacteria are actively attacking a persons lungs and making the person sick, other tests such as a chest x ray and a sample of sputumphlegm that is coughed up from deep in the lungsmay be needed.   - Antibody blood tests. A blood test involves drawing blood at a health care providers office or a commercial facility and sending the sample to a lab for analysis. The blood test can detect antibodiesproteins made by the immune system to protect the body from foreign substancesassociated with autoimmune Addisons disease.\n",
      "                \n",
      "After secondary adrenal insufficiency is diagnosed, health care providers may use the following tests to obtain a detailed view of the pituitary gland and assess how it is functioning:\n",
      "                \n",
      "- Computerized tomography (CT) scan. CT scans use a combination of x rays and computer technology to create images. For a CT scan, the patient may be given a solution to drink and an injection of a special dye, called contrast medium. CT scans require the patient to lie on a table that slides into a tunnel-shaped device where the x rays are taken. An x-ray technician performs the procedure in an outpatient center or a hospital, and a radiologist interprets the images. The patient does not need anesthesia. A CT scan can show size and shape of the pituitary gland to find out if an abnormality is present.   - Magnetic resonance imaging (MRI). MRI machines use radio waves and magnets to produce detailed pictures of the bodys internal organs and soft tissues without using x rays. An MRI may include the injection of contrast medium. With most MRI machines, the patient lies on a table that slides into a tunnel-shaped device that may be open ended or closed at one end; some machines are designed to allow the patient to lie in a more open space. A specially trained technician performs the procedure in an outpatient center or a hospital, and a radiologist interprets the images. The patient does not need anesthesia, though people with a fear of confined spaces may receive light sedation, taken by mouth. MRIs can be used to produce a three-dimensional (3-D) image of the hypothalamus and the pituitary gland to find out if an abnormality is present.   - Hormonal blood tests. Hormonal blood tests can assess how the pituitary gland is functioning and its ability to produce other hormones.<|OPTION 2|>\n"
     ]
    }
   ],
   "source": [
    "# system prompt for deduplication\n",
    "dedup_system_prompt = \"\"\"You are a highly intelligent assistant who reviews a medical related question answer dataset scraped \\\n",
    "from the web. Your job is to review the following answers for the provided question and determine which \\\n",
    "answer is the best one according to these criteria:\\n\\n1: It answers the immediate question succinctly, but completely without leaving out important detail. \\\n",
    "prioritize answer completeness over conciseness.\\n2: It does not provide irrelevant information, does not give links or unverified contact information \\\n",
    "such as email or phone numbers, and focuses on answering the question at hand\\n\\nOutput instructions: you will only output a single integer as your output which will \\\n",
    "denote which answer option is the best one. The indexing should begin at 1. \\n\\nNote: if none of the answers provided are satisfactory, use the special index 0 as your output.\"\"\"\n",
    "\n",
    "print(dedup_system_prompt)\n",
    "\n",
    "def format_dedup_input(inp):\n",
    "    p = f\"<|QUESTION|>{inp[\"question\"]}<|QUESTION|>\"\n",
    "    for i, ans in enumerate(inp[\"choices\"]):\n",
    "        p += f\"\\n\\n<|OPTION {i+1}|>{ans}<|OPTION {i+1}|>\"\n",
    "    return p\n",
    "\n",
    "print(format_dedup_input(inputs[0]))"
   ]
  },
  {
   "cell_type": "code",
   "execution_count": null,
   "metadata": {
    "id": "qIIe3T4ZaxMd",
    "outputId": "62103ce6-c61e-4ae0-8926-79759d877166"
   },
   "outputs": [
    {
     "name": "stderr",
     "output_type": "stream",
     "text": [
      "/tmp/ipython-input-2861849638.py:1: SettingWithCopyWarning: \n",
      "A value is trying to be set on a copy of a slice from a DataFrame.\n",
      "Try using .loc[row_indexer,col_indexer] = value instead\n",
      "\n",
      "See the caveats in the documentation: https://pandas.pydata.org/pandas-docs/stable/user_guide/indexing.html#returning-a-view-versus-a-copy\n",
      "  dups[\"prompts\"] = dups[\"inputs\"].apply(lambda x: format_dedup_input(x))\n"
     ]
    },
    {
     "data": {
      "text/plain": [
       "                                                question  \\\n",
       "1431   How to diagnose Adrenal Insufficiency and Addi...   \n",
       "1444            How to diagnose Alzheimer's Caregiving ?   \n",
       "1445               How to diagnose Alzheimer's Disease ?   \n",
       "1448    How to diagnose Amyloidosis and Kidney Disease ?   \n",
       "1488                     How to diagnose Breast Cancer ?   \n",
       "...                                                  ...   \n",
       "14901  what research (or clinical trials) is being do...   \n",
       "14905  what research (or clinical trials) is being do...   \n",
       "14907  what research (or clinical trials) is being do...   \n",
       "14927  what research (or clinical trials) is being do...   \n",
       "14938  what research (or clinical trials) is being do...   \n",
       "\n",
       "                                                 answers  multi-answers  \\\n",
       "1431   (In its early stages, adrenal insufficiency ca...           True   \n",
       "1444   (Now that your family member or friend has rec...           True   \n",
       "1445   (The only definitive way to diagnose Alzheimer...           True   \n",
       "1448   (A health care provider diagnoses primary amyl...           True   \n",
       "1488   (Most cancers in their early, most treatable s...           True   \n",
       "...                                                  ...            ...   \n",
       "14901  (The National Institute on Deafness and Other ...           True   \n",
       "14905  (Scientists continue to look at new ways to pr...           True   \n",
       "14907  (Scientists who are working to better understa...           True   \n",
       "14927  (Many Areas of Research Scientists are constan...           True   \n",
       "14938  (The National Institute of Neurological Disord...           True   \n",
       "\n",
       "                                                  inputs  \\\n",
       "1431   {'question': 'How to diagnose Adrenal Insuffic...   \n",
       "1444   {'question': 'How to diagnose Alzheimer's Care...   \n",
       "1445   {'question': 'How to diagnose Alzheimer's Dise...   \n",
       "1448   {'question': 'How to diagnose Amyloidosis and ...   \n",
       "1488   {'question': 'How to diagnose Breast Cancer ?'...   \n",
       "...                                                  ...   \n",
       "14901  {'question': 'what research (or clinical trial...   \n",
       "14905  {'question': 'what research (or clinical trial...   \n",
       "14907  {'question': 'what research (or clinical trial...   \n",
       "14927  {'question': 'what research (or clinical trial...   \n",
       "14938  {'question': 'what research (or clinical trial...   \n",
       "\n",
       "                                                 prompts  \n",
       "1431   <|QUESTION|>How to diagnose Adrenal Insufficie...  \n",
       "1444   <|QUESTION|>How to diagnose Alzheimer's Caregi...  \n",
       "1445   <|QUESTION|>How to diagnose Alzheimer's Diseas...  \n",
       "1448   <|QUESTION|>How to diagnose Amyloidosis and Ki...  \n",
       "1488   <|QUESTION|>How to diagnose Breast Cancer ?<|Q...  \n",
       "...                                                  ...  \n",
       "14901  <|QUESTION|>what research (or clinical trials)...  \n",
       "14905  <|QUESTION|>what research (or clinical trials)...  \n",
       "14907  <|QUESTION|>what research (or clinical trials)...  \n",
       "14927  <|QUESTION|>what research (or clinical trials)...  \n",
       "14938  <|QUESTION|>what research (or clinical trials)...  \n",
       "\n",
       "[889 rows x 5 columns]"
      ]
     },
     "execution_count": 10,
     "metadata": {},
     "output_type": "execute_result"
    }
   ],
   "source": [
    "dups[\"prompts\"] = dups[\"inputs\"].apply(lambda x: format_dedup_input(x))\n",
    "dups"
   ]
  },
  {
   "cell_type": "code",
   "execution_count": null,
   "metadata": {
    "id": "jCpl4eN7yhZB",
    "outputId": "48a62f29-9b7a-4eba-848a-06716912c059"
   },
   "outputs": [
    {
     "name": "stdout",
     "output_type": "stream",
     "text": [
      "🦥 Unsloth: Will patch your computer to enable 2x faster free finetuning.\n",
      "🦥 Unsloth Zoo will now patch everything to make training faster!\n",
      "==((====))==  Unsloth 2025.8.10: Fast Qwen3 patching. Transformers: 4.55.4.\n",
      "   \\\\   /|    NVIDIA A100-SXM4-40GB. Num GPUs = 1. Max memory: 39.557 GB. Platform: Linux.\n",
      "O^O/ \\_/ \\    Torch: 2.8.0+cu126. CUDA: 8.0. CUDA Toolkit: 12.6. Triton: 3.4.0\n",
      "\\        /    Bfloat16 = TRUE. FA [Xformers = None. FA2 = True]\n",
      " \"-____-\"     Free license: http://github.com/unslothai/unsloth\n",
      "Unsloth: Fast downloading is enabled - ignore downloading bars which are red colored!\n"
     ]
    },
    {
     "data": {
      "text/plain": [
       "model.safetensors.index.json: 0.00B [00:00, ?B/s]"
      ]
     },
     "metadata": {},
     "output_type": "display_data"
    },
    {
     "data": {
      "text/plain": [
       "model-00001-of-00002.safetensors:   0%|          | 0.00/4.97G [00:00<?, ?B/s]"
      ]
     },
     "metadata": {},
     "output_type": "display_data"
    },
    {
     "data": {
      "text/plain": [
       "model-00002-of-00002.safetensors:   0%|          | 0.00/3.08G [00:00<?, ?B/s]"
      ]
     },
     "metadata": {},
     "output_type": "display_data"
    },
    {
     "data": {
      "text/plain": [
       "Loading checkpoint shards:   0%|          | 0/2 [00:00<?, ?it/s]"
      ]
     },
     "metadata": {},
     "output_type": "display_data"
    },
    {
     "data": {
      "text/plain": [
       "generation_config.json:   0%|          | 0.00/237 [00:00<?, ?B/s]"
      ]
     },
     "metadata": {},
     "output_type": "display_data"
    },
    {
     "data": {
      "text/plain": [
       "tokenizer_config.json: 0.00B [00:00, ?B/s]"
      ]
     },
     "metadata": {},
     "output_type": "display_data"
    },
    {
     "data": {
      "text/plain": [
       "vocab.json: 0.00B [00:00, ?B/s]"
      ]
     },
     "metadata": {},
     "output_type": "display_data"
    },
    {
     "data": {
      "text/plain": [
       "merges.txt: 0.00B [00:00, ?B/s]"
      ]
     },
     "metadata": {},
     "output_type": "display_data"
    },
    {
     "data": {
      "text/plain": [
       "tokenizer.json:   0%|          | 0.00/11.4M [00:00<?, ?B/s]"
      ]
     },
     "metadata": {},
     "output_type": "display_data"
    },
    {
     "data": {
      "text/plain": [
       "added_tokens.json:   0%|          | 0.00/707 [00:00<?, ?B/s]"
      ]
     },
     "metadata": {},
     "output_type": "display_data"
    },
    {
     "data": {
      "text/plain": [
       "special_tokens_map.json:   0%|          | 0.00/614 [00:00<?, ?B/s]"
      ]
     },
     "metadata": {},
     "output_type": "display_data"
    },
    {
     "data": {
      "text/plain": [
       "chat_template.jinja: 0.00B [00:00, ?B/s]"
      ]
     },
     "metadata": {},
     "output_type": "display_data"
    }
   ],
   "source": [
    "from unsloth import FastModel\n",
    "import torch\n",
    "\n",
    "# load Unsloth model\n",
    "model, tokenizer = FastModel.from_pretrained(\n",
    "    model_name = \"unsloth/Qwen3-4B-Instruct-2507\",\n",
    "    max_seq_length = 16384,\n",
    "    load_in_4bit = False,\n",
    "    load_in_8bit = True,\n",
    "    full_finetuning = False,\n",
    "    device_map=\"auto\",\n",
    "    attn_implementation=\"flash_attention_2\"\n",
    ")"
   ]
  },
  {
   "cell_type": "code",
   "execution_count": null,
   "metadata": {
    "id": "pSMbFMZNALn-",
    "outputId": "ec20375a-3aaa-444d-da44-3c00e375eca8"
   },
   "outputs": [
    {
     "data": {
      "text/plain": [
       "     Unnamed: 0.1  Unnamed: 0  \\\n",
       "0               0           0   \n",
       "1               2           2   \n",
       "2               3           3   \n",
       "3               4           4   \n",
       "4               5           5   \n",
       "..            ...         ...   \n",
       "852           884         884   \n",
       "853           885         885   \n",
       "854           886         886   \n",
       "855           887         887   \n",
       "856           888         888   \n",
       "\n",
       "                                              question  \\\n",
       "0    How to diagnose Adrenal Insufficiency and Addi...   \n",
       "1                How to diagnose Alzheimer's Disease ?   \n",
       "2     How to diagnose Amyloidosis and Kidney Disease ?   \n",
       "3                      How to diagnose Breast Cancer ?   \n",
       "4                               How to diagnose COPD ?   \n",
       "..                                                 ...   \n",
       "852  what research (or clinical trials) is being do...   \n",
       "853  what research (or clinical trials) is being do...   \n",
       "854  what research (or clinical trials) is being do...   \n",
       "855  what research (or clinical trials) is being do...   \n",
       "856  what research (or clinical trials) is being do...   \n",
       "\n",
       "                                               answers  multi-answers  \\\n",
       "0    ('In its early stages, adrenal insufficiency c...           True   \n",
       "1    ('The only definitive way to diagnose Alzheime...           True   \n",
       "2    ('A health care provider diagnoses primary amy...           True   \n",
       "3    (\"Most cancers in their early, most treatable ...           True   \n",
       "4    ('To confirm a COPD diagnosis, a doctor will u...           True   \n",
       "..                                                 ...            ...   \n",
       "852  ('The National Institute on Deafness and Other...           True   \n",
       "853  (\"Scientists continue to look at new ways to p...           True   \n",
       "854  ('Scientists who are working to better underst...           True   \n",
       "855  ('Many Areas of Research Scientists are consta...           True   \n",
       "856  (\"The National Institute of Neurological Disor...           True   \n",
       "\n",
       "                                                inputs  \\\n",
       "0    {'question': \"How to diagnose Adrenal Insuffic...   \n",
       "1    {'question': \"How to diagnose Alzheimer's Dise...   \n",
       "2    {'question': 'How to diagnose Amyloidosis and ...   \n",
       "3    {'question': 'How to diagnose Breast Cancer ?'...   \n",
       "4    {'question': 'How to diagnose COPD ?', 'choice...   \n",
       "..                                                 ...   \n",
       "852  {'question': 'what research (or clinical trial...   \n",
       "853  {'question': 'what research (or clinical trial...   \n",
       "854  {'question': 'what research (or clinical trial...   \n",
       "855  {'question': 'what research (or clinical trial...   \n",
       "856  {'question': 'what research (or clinical trial...   \n",
       "\n",
       "                                               prompts  outputs  \\\n",
       "0    <|im_start|>system\\nYou are a highly intellige...        1   \n",
       "1    <|im_start|>system\\nYou are a highly intellige...        1   \n",
       "2    <|im_start|>system\\nYou are a highly intellige...        1   \n",
       "3    <|im_start|>system\\nYou are a highly intellige...        3   \n",
       "4    <|im_start|>system\\nYou are a highly intellige...        1   \n",
       "..                                                 ...      ...   \n",
       "852  <|im_start|>system\\nYou are a highly intellige...        1   \n",
       "853  <|im_start|>system\\nYou are a highly intellige...        1   \n",
       "854  <|im_start|>system\\nYou are a highly intellige...        1   \n",
       "855  <|im_start|>system\\nYou are a highly intellige...        1   \n",
       "856  <|im_start|>system\\nYou are a highly intellige...        1   \n",
       "\n",
       "                                                 final  \n",
       "0    In its early stages, adrenal insufficiency can...  \n",
       "1    The only definitive way to diagnose Alzheimer'...  \n",
       "2    A health care provider diagnoses primary amylo...  \n",
       "3    Tests that examine the breasts are used to det...  \n",
       "4    To confirm a COPD diagnosis, a doctor will use...  \n",
       "..                                                 ...  \n",
       "852  The National Institute on Deafness and Other C...  \n",
       "853  Scientists continue to look at new ways to pre...  \n",
       "854  Scientists who are working to better understan...  \n",
       "855  Many Areas of Research Scientists are constant...  \n",
       "856  The National Institute of Neurological Disorde...  \n",
       "\n",
       "[857 rows x 9 columns]"
      ]
     },
     "execution_count": 21,
     "metadata": {},
     "output_type": "execute_result"
    }
   ],
   "source": [
    "# prepare the model input\n",
    "def apply_template(system_prompt, user_prompt):\n",
    "    message = [\n",
    "        {\"role\": \"system\", \"content\": system_prompt},\n",
    "        {\"role\": \"user\", \"content\": user_prompt}\n",
    "    ]\n",
    "    return tokenizer.apply_chat_template(\n",
    "        message,\n",
    "        tokenize=False,\n",
    "        add_generation_prompt=True,\n",
    "    )\n",
    "\n",
    "dups[\"prompts\"] = dups[\"prompts\"].apply(lambda x: apply_template(dedup_system_prompt, x))\n",
    "dups"
   ]
  },
  {
   "cell_type": "code",
   "execution_count": null,
   "metadata": {
    "id": "GyB-ERythGtE"
   },
   "outputs": [],
   "source": [
    "dups.to_csv(\"dups.csv\", index=False)"
   ]
  },
  {
   "cell_type": "code",
   "execution_count": null,
   "metadata": {
    "id": "am4whSv8fNWA"
   },
   "outputs": [],
   "source": [
    "from torch.utils.data import Dataset, DataLoader\n",
    "from tqdm.auto import tqdm\n",
    "import torch\n",
    "import pandas as pd\n",
    "\n",
    "dups = pd.read_csv(\"dups.csv\")\n",
    "\n",
    "# Create text dataset\n",
    "class TextDataset(Dataset):\n",
    "    def __init__(self, texts):\n",
    "        self.texts = texts\n",
    "\n",
    "    def __len__(self):\n",
    "        return len(self.texts)\n",
    "\n",
    "    def __getitem__(self, idx):\n",
    "        text = self.texts[idx]\n",
    "        return text\n",
    "\n",
    "dataset = TextDataset(dups[\"prompts\"].tolist())\n",
    "dataloader = DataLoader(dataset, batch_size=2, shuffle=False)\n",
    "\n",
    "# Turns out the overhead of tokenization was negligible, but I clean it up later.\n",
    "out = []\n",
    "for batch_text in tqdm(dataloader):\n",
    "    model_inputs = tokenizer.batch_encode_plus(\n",
    "        batch_text,\n",
    "        padding=\"longest\",\n",
    "        padding_side=\"left\",\n",
    "        truncation=True,\n",
    "        return_tensors=\"pt\",\n",
    "    ).to(model.device)\n",
    "    with torch.no_grad():\n",
    "        outputs = model.generate(\n",
    "            **model_inputs,\n",
    "            temperature=0.8,\n",
    "            top_p=0.8,\n",
    "            top_k=20,\n",
    "            max_new_tokens=10\n",
    "        )\n",
    "    decoded = tokenizer.batch_decode(\n",
    "        outputs,\n",
    "        skip_special_tokens=True\n",
    "    )\n",
    "    out.extend(decoded)"
   ]
  },
  {
   "cell_type": "code",
   "execution_count": null,
   "metadata": {
    "id": "3jpGLmUD4oy8"
   },
   "outputs": [],
   "source": [
    "responses = []\n",
    "for o in out:\n",
    "    res = o.split(\"assistant\\n\")[1]\n",
    "    responses.append(res)\n",
    "dups[\"outputs\"] = responses"
   ]
  },
  {
   "cell_type": "code",
   "execution_count": null,
   "metadata": {
    "id": "IL6sahlX5dD1"
   },
   "outputs": [],
   "source": [
    "dups.to_csv(\"dups_with_outputs.csv\", index=False)"
   ]
  },
  {
   "cell_type": "code",
   "execution_count": null,
   "metadata": {
    "id": "3hE3TBEn5on2",
    "outputId": "bceae2e1-be3c-4039-bc9e-a1292ea02cac"
   },
   "outputs": [
    {
     "data": {
      "text/plain": [
       "     Unnamed: 0                                           question  \\\n",
       "0             0  How to diagnose Adrenal Insufficiency and Addi...   \n",
       "2             2              How to diagnose Alzheimer's Disease ?   \n",
       "3             3   How to diagnose Amyloidosis and Kidney Disease ?   \n",
       "4             4                    How to diagnose Breast Cancer ?   \n",
       "5             5                             How to diagnose COPD ?   \n",
       "..          ...                                                ...   \n",
       "884         884  what research (or clinical trials) is being do...   \n",
       "885         885  what research (or clinical trials) is being do...   \n",
       "886         886  what research (or clinical trials) is being do...   \n",
       "887         887  what research (or clinical trials) is being do...   \n",
       "888         888  what research (or clinical trials) is being do...   \n",
       "\n",
       "                                               answers  multi-answers  \\\n",
       "0    ('In its early stages, adrenal insufficiency c...           True   \n",
       "2    ('The only definitive way to diagnose Alzheime...           True   \n",
       "3    ('A health care provider diagnoses primary amy...           True   \n",
       "4    (\"Most cancers in their early, most treatable ...           True   \n",
       "5    ('To confirm a COPD diagnosis, a doctor will u...           True   \n",
       "..                                                 ...            ...   \n",
       "884  ('The National Institute on Deafness and Other...           True   \n",
       "885  (\"Scientists continue to look at new ways to p...           True   \n",
       "886  ('Scientists who are working to better underst...           True   \n",
       "887  ('Many Areas of Research Scientists are consta...           True   \n",
       "888  (\"The National Institute of Neurological Disor...           True   \n",
       "\n",
       "                                                inputs  \\\n",
       "0    {'question': \"How to diagnose Adrenal Insuffic...   \n",
       "2    {'question': \"How to diagnose Alzheimer's Dise...   \n",
       "3    {'question': 'How to diagnose Amyloidosis and ...   \n",
       "4    {'question': 'How to diagnose Breast Cancer ?'...   \n",
       "5    {'question': 'How to diagnose COPD ?', 'choice...   \n",
       "..                                                 ...   \n",
       "884  {'question': 'what research (or clinical trial...   \n",
       "885  {'question': 'what research (or clinical trial...   \n",
       "886  {'question': 'what research (or clinical trial...   \n",
       "887  {'question': 'what research (or clinical trial...   \n",
       "888  {'question': 'what research (or clinical trial...   \n",
       "\n",
       "                                               prompts  outputs  \n",
       "0    <|im_start|>system\\nYou are a highly intellige...        1  \n",
       "2    <|im_start|>system\\nYou are a highly intellige...        1  \n",
       "3    <|im_start|>system\\nYou are a highly intellige...        1  \n",
       "4    <|im_start|>system\\nYou are a highly intellige...        3  \n",
       "5    <|im_start|>system\\nYou are a highly intellige...        1  \n",
       "..                                                 ...      ...  \n",
       "884  <|im_start|>system\\nYou are a highly intellige...        1  \n",
       "885  <|im_start|>system\\nYou are a highly intellige...        1  \n",
       "886  <|im_start|>system\\nYou are a highly intellige...        1  \n",
       "887  <|im_start|>system\\nYou are a highly intellige...        1  \n",
       "888  <|im_start|>system\\nYou are a highly intellige...        1  \n",
       "\n",
       "[857 rows x 7 columns]"
      ]
     },
     "execution_count": 26,
     "metadata": {},
     "output_type": "execute_result"
    }
   ],
   "source": [
    "dups = dups.loc[dups[\"outputs\"] != 0]\n",
    "dups"
   ]
  },
  {
   "cell_type": "code",
   "execution_count": null,
   "metadata": {
    "id": "R1msJ1pS6aUb"
   },
   "outputs": [],
   "source": [
    "import ast\n",
    "\n",
    "# 0 index is reserved for rejection samples\n",
    "# subtract outputs by 1 in order to select the correct answer index\n",
    "final = []\n",
    "for _, row in dups.iterrows():\n",
    "    selected = ast.literal_eval(row[\"answers\"])[int(row[\"outputs\"])-1]\n",
    "    final.append(selected)\n",
    "dups[\"final\"] = final\n",
    "dups\n"
   ]
  },
  {
   "cell_type": "code",
   "execution_count": null,
   "metadata": {
    "id": "dhFXmESp_-dn",
    "outputId": "b49e5483-524e-453f-90ec-7471a32bff16"
   },
   "outputs": [
    {
     "name": "stdout",
     "output_type": "stream",
     "text": [
      "QUESTION: How to diagnose Adrenal Insufficiency and Addison's Disease ?\n",
      "ANSWER: In its early stages, adrenal insufficiency can be difficult to diagnose. A health care provider may suspect it after reviewing a persons medical history and symptoms.\n",
      "                \n",
      "A diagnosis of adrenal insufficiency is confirmed through hormonal blood and urine tests. A health care provider uses these tests first to determine whether cortisol levels are too low and then to establish the cause. Imaging studies of the adrenal and pituitary glands can be useful in helping to establish the cause.\n",
      "                \n",
      "A lab technician performs the following tests in a health care providers office, a commercial facility, or a hospital.\n",
      "                \n",
      "Hormonal Blood and Urine Tests\n",
      "                \n",
      "- ACTH stimulation test. The ACTH stimulation test is the most commonly used test for diagnosing adrenal insufficiency. In this test, the patient is given an intravenous (IV) injection of synthetic ACTH, and samples of blood, urine, or both are taken before and after the injection. The cortisol levels in the blood and urine samples are measured in a lab. The normal response after an ACTH injection is a rise in blood and urine cortisol levels. People with Addisons disease or longstanding secondary adrenal insufficiency have little or no increase in cortisol levels.  Both low- and high-dose ACTH stimulation tests may be used depending on the suspected cause of adrenal insufficiency. For example, if secondary adrenal insufficiency is mild or has only recently occurred, the adrenal glands may still respond to ACTH because they have not yet shut down their own production of hormone. Some studies have suggested a low dose1 microgram (mcg)may be more effective in detecting secondary adrenal insufficiency because the low dose is still enough to raise cortisol levels in healthy people, yet not in people with mild or recent secondary adrenal insufficiency. However, recent research has shown that a significant proportion of healthy children and adults can fail the low-dose test, which may lead to unnecessary treatment. Therefore, some health care providers favor using a 250 mcg ACTH test for more accurate results.   - CRH stimulation test. When the response to the ACTH test is abnormal, a CRH stimulation test can help determine the cause of adrenal insufficiency. In this test, the patient is given an IV injection of synthetic CRH, and blood is taken before and 30, 60, 90, and 120 minutes after the injection. The cortisol levels in the blood samples are measured in a lab. People with Addisons disease respond by producing high levels of ACTH, yet no cortisol. People with secondary adrenal insufficiency do not produce ACTH or have a delayed response. CRH will not stimulate ACTH secretion if the pituitary is damaged, so no ACTH response points to the pituitary as the cause. A delayed ACTH response points to the hypothalamus as the cause.\n",
      "                \n",
      "Diagnosis during Adrenal Crisis\n",
      "                \n",
      "Although a reliable diagnosis is not possible during adrenal crisis, measurement of blood ACTH and cortisol during the crisisbefore treatment with corticosteroids is givenis often enough to make a preliminary diagnosis. Low blood sodium, low blood glucose, and high blood potassium are also sometimes present at the time of adrenal crisis. Once the crisis is controlled, an ACTH stimulation test can be performed to help make a specific diagnosis. More complex lab tests are sometimes used if the diagnosis remains unclear.\n",
      "\n",
      "QUESTION: How to diagnose Alzheimer's Disease ?\n",
      "ANSWER: The only definitive way to diagnose Alzheimer's disease is to find out whether plaques and tangles exist in brain tissue. To look at brain tissue, doctors perform a brain autopsy, an examination of the brain done after a person dies. Doctors can only make a diagnosis of \"possible\" or probable Alzheimers disease while a person is alive. Doctors with special training can diagnose Alzheimer's disease correctly up to 90 percent of the time. Doctors who can diagnose Alzheimers include geriatricians, geriatric psychiatrists, and neurologists. A geriatrician specializes in the treatment of older adults. A geriatric psychiatrist specializes in mental problems in older adults. A neurologist specializes in brain and nervous system disorders. To diagnose Alzheimer's disease, doctors may - ask questions about overall health, past medical problems, ability to carry out daily activities, and changes in behavior and personality  - conduct tests to measure memory, problem solving, attention, counting, and language skills   - carry out standard medical tests, such as blood and urine tests  - perform brain scans to look for anything in the brain that does not look normal. ask questions about overall health, past medical problems, ability to carry out daily activities, and changes in behavior and personality conduct tests to measure memory, problem solving, attention, counting, and language skills carry out standard medical tests, such as blood and urine tests perform brain scans to look for anything in the brain that does not look normal.\n",
      "\n",
      "QUESTION: How to diagnose Amyloidosis and Kidney Disease ?\n",
      "ANSWER: A health care provider diagnoses primary amyloidosis of the kidneys with\n",
      "                \n",
      "- a medical and family history  - a physical exam  - urinalysis  - blood tests  - a kidney biopsy\n",
      "                \n",
      "Medical and Family History\n",
      "                \n",
      "Taking a medical and family history may help a health care provider diagnose amyloidosis of the kidneys. He or she will ask the patient to provide a medical and family history.\n",
      "                \n",
      "Physical Exam\n",
      "                \n",
      "A physical exam may help diagnose primary amyloidosis of the kidneys. During a physical exam, a health care provider usually\n",
      "                \n",
      "- examines a patients body to check for swelling  - uses a stethoscope to listen to the lungs  - taps on specific areas of the patients body\n",
      "                \n",
      "Urinalysis\n",
      "                \n",
      "A health care provider may use urinalysisthe testing of a urine sampleto check for albumin and amyloid proteins in urine. The patient provides a urine sample in a special container at a health care providers office or a commercial facility. A nurse or technician can test the sample in the same location or send it to a lab for analysis. More-than-normal amounts of albumin in urine may indicate kidney damage due to primary amyloidosis. Amyloid proteins in urine may indicate amyloidosis.\n",
      "                \n",
      "Blood Tests\n",
      "                \n",
      "The health care provider may use blood tests to see how well the kidneys are working and to check for amyloid proteins and hyperlipidemia. A blood test involves drawing a patients blood at a health care providers office or a commercial facility and sending the sample to a lab for analysis. Blood tests for kidney function measure the waste products in the blood that healthy kidneys normally filter out. Hyperlipidemia may indicate nephrotic syndrome. Amyloid proteins in blood may indicate amyloidosis.\n",
      "                \n",
      "Kidney Biopsy\n",
      "                \n",
      "Only a biopsy can show the amyloid protein deposits in the kidneys. A health care provider may recommend a kidney biopsy if other tests show kidney damage. A kidney biopsy is a procedure that involves taking a piece of kidney tissue for examination with a microscope. A health care provider performs a kidney biopsy in a hospital with light sedation and local anesthetic. The health care provider uses imaging techniques such as ultrasound or a computerized tomography (CT) scan to guide the biopsy needle into the kidney and take the tissue sample. A pathologista doctor who specializes in diagnosing diseasesexamines the tissue in a lab for amyloid proteins and kidney damage.\n",
      "                \n",
      "The biopsy results can help the health care provider determine the best course of treatment. More information is provided in the NIDDK health topic, Kidney Biopsy.\n",
      "\n",
      "QUESTION: How to diagnose Breast Cancer ?\n",
      "ANSWER: Tests that examine the breasts are used to detect (find) and diagnose breast cancer.\n",
      "                    Check with your doctor if you notice any changes in your breasts. The following tests and procedures may be used:         -   Physical exam and history : An exam of the body to check general signs of health, including checking for signs of disease, such as lumps or anything else that seems unusual. A history of the patients health habits and past illnesses and treatments will also be taken.     -   Clinical breast exam (CBE): An exam of the breast by a doctor or other health professional. The doctor will carefully feel the breasts and under the arms for lumps or anything else that seems unusual.    -  Mammogram: An x-ray of the breast.     -   Ultrasound exam: A procedure in which high-energy sound waves (ultrasound) are bounced off internal tissues or organs and make echoes. The echoes form a picture of body tissues called a sonogram. The picture can be printed to be looked at later.    -    MRI (magnetic resonance imaging): A procedure that uses a magnet, radio waves, and a computer to make a series of detailed pictures of both breasts. This procedure is also called nuclear magnetic resonance imaging (NMRI).    -   Blood chemistry studies : A procedure in which a blood sample is checked to measure the amounts of certain substances released into the blood by organs and tissues in the body. An unusual (higher or lower than normal) amount of a substance can be a sign of disease.     -   Biopsy : The removal of cells or tissues so they can be viewed under a microscope by a pathologist to check for signs of cancer. If a lump in the breast is found, a biopsy may be done.  There are four types of biopsy used to check for breast cancer:               -  Excisional biopsy : The removal of an entire lump of tissue.       -  Incisional biopsy : The removal of part of a lump or a sample of tissue.       -  Core biopsy : The removal of tissue using a wide needle.       -  Fine-needle aspiration (FNA) biopsy : The removal of tissue or fluid, using a thin needle.\n",
      "                \n",
      "                \n",
      "                    If cancer is found, tests are done to study the cancer cells.\n",
      "                    Decisions about the best treatment are based on the results of these tests. The tests give information about:         - how quickly the cancer may grow.    - how likely it is that the cancer will spread through the body.    - how well certain treatments might work.    - how likely the cancer is to recur (come back).        Tests include the following:         -   Estrogen and progesterone receptor test : A test to measure the amount of estrogen and progesterone (hormones) receptors in cancer tissue. If there are more estrogen and progesterone receptors than normal, the cancer is called estrogen and/or progesterone receptor positive. This type of breast cancer may grow more quickly. The test results show whether treatment to block estrogen and progesterone may stop the cancer from growing.    -   Human epidermal growth factor type 2 receptor (HER2/neu) test : A laboratory test to measure how many HER2/neu genes there are and how much HER2/neu protein is made in a sample of tissue. If there are more HER2/neu genes or higher levels of HER2/neu protein than normal, the cancer is called HER2/neu positive. This type of breast cancer may grow more quickly and is more likely to spread to other parts of the body. The cancer may be treated with drugs that target the HER2/neu protein, such as trastuzumab and pertuzumab.    -  Multigene tests: Tests in which samples of tissue are studied to look at the activity of many genes at the same time. These tests may help predict whether cancer will spread to other parts of the body or recur (come back). There are many types of multigene tests. The following multigene tests have been studied in clinical trials:               -  Oncotype DX : This test helps predict whether stage I or stage II breast cancer that is estrogen receptor positive and node negative will spread to other parts of the body. If the risk that the cancer will spread is high, chemotherapy may be given to lower the risk.      -  MammaPrint : This test helps predict whether stage I or stage II breast cancer that is node negative will spread to other parts of the body. If the risk that the cancer will spread is high, chemotherapy may be given to lower the risk.                 Based on these tests, breast cancer is described as one of the following types:         -  Hormone receptor positive (estrogen and/or progesterone receptor positive) or hormone receptor negative (estrogen and/or progesterone receptor negative).    - HER2/neu positive or HER2/neu negative.    -  Triple negative (estrogen receptor, progesterone receptor, and HER2/neu negative).         This information helps the doctor decide which treatments will work best for your cancer.\n",
      "\n",
      "QUESTION: How to diagnose COPD ?\n",
      "ANSWER: To confirm a COPD diagnosis, a doctor will use a breathing test called spirometry. The test is easy and painless. It shows how well the lungs are working. The spirometer measures how much air the lungs can hold and how fast air is blown out of the lungs. Other tests, such as bronchodilator reversibility testing, a chest X-ray, and arterial blood gas test, may be ordered.\n",
      "\n"
     ]
    }
   ],
   "source": [
    "# inspecting outputs\n",
    "for i, row in dups.head().iterrows():\n",
    "    print(f\"QUESTION: {row[\"question\"]}\")\n",
    "    print(f\"ANSWER: {row[\"final\"]}\")\n",
    "    print()"
   ]
  },
  {
   "cell_type": "code",
   "execution_count": null,
   "metadata": {
    "id": "3pN3jUhsBUQl"
   },
   "outputs": [],
   "source": [
    "dups.to_csv(\"dups_processed.csv\", index=False)"
   ]
  },
  {
   "cell_type": "code",
   "execution_count": null,
   "metadata": {
    "id": "u40nKcsLBsp1",
    "outputId": "5e303547-345e-4e13-c6cd-499355397901"
   },
   "outputs": [
    {
     "name": "stdout",
     "output_type": "stream",
     "text": [
      "QUESTION: How to diagnose Alzheimer's Caregiving ?\n",
      "ANSWER: ('Now that your family member or friend has received a diagnosis of Alzheimers disease, its important to learn as much as you can about the disease and how to care for someone who has it. You may also want to know the right way to share the news with family and friends. Learning About Alzheimers Sometimes, you may feel that you don\\'t know how to care for the person with Alzheimers. This is a common feeling among caregivers of people with Alzheimers because each day may bring different challenges. Learning about the disease can help you understand and cope with these challenges. Here is some information about Alzheimers and ways you can learn more about it. Alzheimers disease is an illness of the brain. It causes large numbers of nerve cells in the brain to die. This affects a persons ability to remember things and think clearly. People with Alzheimers become forgetful and easily confused and may have a hard time concentrating. They may have trouble taking care of themselves and doing basic things like making meals, bathing, and getting dressed. Alzheimers varies from person to person. It can progress faster in some people than in others, and not everyone will have the same symptoms. In general, though, Alzheimers takes many years to develop, becoming increasingly severe over time. As the disease gets worse, people need more help. Eventually, they require total care. Alzheimer\\'s disease consists of three main stages: mild (sometimes called early-stage), moderate, and severe (sometimes called late-stage). Understanding these stages can help you care for your loved one and plan ahead. Mild Alzheimers Disease In the mild stage of Alzheimers, people often have some memory loss and small changes in personality. They may have trouble remembering recent events or the names of familiar people or things. They may no longer be able to solve simple math problems or balance a checkbook. People with mild Alzheimers also slowly lose the ability to plan and organize. For example, they may have trouble making a grocery list and finding items in the store. Moderate Alzheimers Disease In the moderate stage of Alzheimers, memory loss and confusion become more obvious. People have more trouble organizing, planning, and following instructions. They may need help getting dressed and may start having problems with bladder or bowel control. People with moderate Alzheimers may have trouble recognizing family members and friends. They may not know where they are or what day or year it is. They also may begin to wander, so they should not be left alone. Personality changes can become more serious. For example, people may make threats or accuse others of stealing. Severe Alzheimers Disease In the severe stage of Alzheimer\\'s, people usually need help with all of their daily needs. They may not be able to walk or sit up without help. They may not be able to talk and often cannot recognize family members. They may have trouble swallowing and refuse to eat. For a short overview of Alzheimers, see  Understanding Alzheimers Disease: What You Need to Know. Learn More About Alzheimers Disease So far, there is no cure for Alzheimers, but there are treatments that can prevent some symptoms from getting worse for a limited time. Here are some ways you can learn more about Alzheimers disease. - Talk with a doctor or other healthcare provider who specializes in Alzheimers disease.   - Check out books or videos about Alzheimers from the library.   - Go to educational programs about the disease.   - Visit the website of the National Institute on Agings Alzheimers Disease Education and Referral (ADEAR) Center. The Institute has a guide, Caring for a Person with Alzheimers Disease,which can be viewed online and ordered in print.   - Read about  Alzheimers disease on NIHSeniorHealth.  - Find a support group for caregivers, ideally one in which members are taking care of someone who is in the same stage of Alzheimers as the person you are caring for.  Talk with a doctor or other healthcare provider who specializes in Alzheimers disease. Check out books or videos about Alzheimers from the library. Go to educational programs about the disease. Visit the website of the National Institute on Agings Alzheimers Disease Education and Referral (ADEAR) Center. The Institute has a guide, Caring for a Person with Alzheimers Disease,which can be viewed online and ordered in print. Read about  Alzheimers disease on NIHSeniorHealth. Find a support group for caregivers, ideally one in which members are taking care of someone who is in the same stage of Alzheimers as the person you are caring for. Talking With Family and Friends When you learn that someone has Alzheimers disease, you may wonder when and how to tell your family and friends. You may be worried about how others will react to or treat the person. Others often sense that something is wrong before they are told. Alzheimers disease is hard to keep secret. When the time seems right, be honest with family, friends, and others. Use this as a chance to educate them about Alzheimers disease. You can share information to help them understand what you and the person with Alzheimers are going through. You can also tell them what they can do to help. You can help family and friends understand how to interact with the person who has Alzheimers. - Help them realize what the person can still do and how much he or she can still understand.  - Give them suggestions about how to start talking with the person. For example, \"Hello George, I\\'m John. We used to work together.\"  - Help them avoid correcting the person with Alzheimers if he or she makes a mistake or forgets something.  - Help them plan fun activities with the person, such as going to family reunions or visiting old friends. Help them realize what the person can still do and how much he or she can still understand. Give them suggestions about how to start talking with the person. For example, \"Hello George, I\\'m John. We used to work together.\" Help them avoid correcting the person with Alzheimers if he or she makes a mistake or forgets something. Help them plan fun activities with the person, such as going to family reunions or visiting old friends. Helping Children Understand Alzheimers If the person with Alzheimers has young children or grandchildren, you can help them understand what is happening. Answer their questions simply and honestly. For example, you might tell a young child, \"Grandma has an illness that makes it hard for her to remember things.\" Know that their feelings of sadness and anger are normal. Comfort them. Tell them they didn\\'t cause the disease. If the child lives with someone who has Alzheimers, don\\'t expect him or her to \"babysit\" the person. Make sure the child has time for his or her own interests and needs, such as playing with friends and going to school activities. Spend time with the child, so he or she doesn\\'t feel that all your attention is on the person with Alzheimers. Many younger children will look to you to see how to act around the person with Alzheimers disease. Show children they can still talk with the person and help them enjoy things. Doing fun things together, like arts and crafts or looking through photo albums, can help both the child and the person with Alzheimer\\'s. Challenges for Teens A teenager might find it hard to accept how the person with Alzheimers has changed. He or she may find the changes upsetting or embarrassing and not want to be around the person. Talk with teenagers about their concerns and feelings. Don\\'t force them to spend time with the person who has Alzheimers.  Get more information about helping family and friends understand Alzheimers disease.', \"When you learn that someone has Alzheimers disease, you may wonder when and how to tell your family and friends. You may be worried about how others will react to or treat the person. Others often sense that something is wrong before they are told. Alzheimers disease is hard to keep secret. When the time seems right, be honest with family, friends, and others. Use this as a chance to educate them about Alzheimers disease. You can share information to help them understand what you and the person with Alzheimers are going through. You can also tell them what they can do to help. Get more information about helping family and friends understand Alzheimer's disease.\")\n",
      "\n",
      "QUESTION: How to diagnose Creating a Family Health History ?\n",
      "ANSWER: ('Genetic testing may be helpful whether the test identifies a mutation or not. Test results can -  serve as a relief, eliminating some of the uncertainty about a health condition  - help doctors make recommendations for treatment or monitoring  - give people information to use in making decisions about their and their familys health  - help people take steps to lower the chance of developing a disease through, for example, earlier and more frequent screening or changes in diet and exercise habits   - help people make informed choices about their future, such as whether to have a baby.  serve as a relief, eliminating some of the uncertainty about a health condition help doctors make recommendations for treatment or monitoring give people information to use in making decisions about their and their familys health help people take steps to lower the chance of developing a disease through, for example, earlier and more frequent screening or changes in diet and exercise habits help people make informed choices about their future, such as whether to have a baby.', 'Finding out your test results can affect you emotionally. Learning that you are someone in your family has or is at risk for a disease can be scary. Some people can also feel guilty, angry, anxious, or depressed when they find out their results. Covering the costs of testing can also be a challenge. Genetic testing can cost anywhere from less than $100 to more than $2,000. Health insurance companies may cover part or all of the cost of testing. Genetic testing cannot tell you everything about inherited diseases. For example, a positive result does not always mean you will develop a disease, and it is hard to predict how severe symptoms may be. Geneticists and genetic counselors can talk more specifically about what a particular test will or will not tell you, and can help you decide whether to undergo testing. Many people are worried about discrimination based on their genetic test results. In 2008, Congress enacted the Genetic Information Nondiscrimination Act (GINA) to protect people from discrimination by their health insurance provider or employer. GINA does not apply to long-term care, disability, or life insurance providers. (For more information about genetic discrimination and GINA, see  The Genetic Information Nondiscrimination Act of 2008.')\n",
      "\n",
      "QUESTION: How to diagnose Diagnosis of Diabetes and Prediabetes ?\n",
      "ANSWER: ('Blood tests are used to diagnosis diabetes and prediabetes because early in the disease type 2 diabetes may have no symptoms. All diabetes blood tests involve drawing blood at a health care providers office or commercial facility and sending the sample to a lab for analysis. Lab analysis of blood is needed to ensure test results are accurate. Glucose measuring devices used in a health care providers office, such as finger-stick devices, are not accurate enough for diagnosis but may be used as a quick indicator of high blood glucose.\\n                \\nTesting enables health care providers to find and treat diabetes before complications occur and to find and treat prediabetes, which can delay or prevent type 2 diabetes from developing.\\n                \\nAny one of the following tests can be used for diagnosis:*\\n                \\n- an A1C test, also called the hemoglobin A1c, HbA1c, or glycohemoglobin test  - a fasting plasma glucose (FPG) test  - an oral glucose tolerance test (OGTT)\\n                \\n*Not all tests are recommended for diagnosing all types of diabetes. See the individual test descriptions for details.\\n                \\nAnother blood test, the random plasma glucose (RPG) test, is sometimes used to diagnose diabetes during a regular health checkup. If the RPG measures 200 milligrams per deciliter or above, and the individual also shows symptoms of diabetes, then a health care provider may diagnose diabetes.\\n                \\nSymptoms of diabetes include\\n                \\n- increased urination  - increased thirst  - unexplained weight loss\\n                \\nOther symptoms can include fatigue, blurred vision, increased hunger, and sores that do not heal.\\n                \\nAny test used to diagnose diabetes requires confirmation with a second measurement unless clear symptoms of diabetes exist.\\n                \\nThe following table provides the blood test levels for diagnosis of diabetes for nonpregnant adults and diagnosis of prediabetes.\\n                \\nA1C Test\\n                \\nThe A1C test is used to detect type 2 diabetes and prediabetes but is not recommended for diagnosis of type 1 diabetes or gestational diabetes. The A1C test is a blood test that reflects the average of a persons blood glucose levels over the past 3 months and does not show daily fluctuations. The A1C test is more convenient for patients than the traditional glucose tests because it does not require fasting and can be performed at any time of the day.\\n                \\nThe A1C test result is reported as a percentage. The higher the percentage, the higher a persons blood glucose levels have been. A normal A1C level is below 5.7 percent.\\n                \\nAn A1C of 5.7 to 6.4 percent indicates prediabetes. People diagnosed with prediabetes may be retested in 1 year. People with an A1C below 5.7 percent maystill be at risk for diabetes, depending on the presence of other characteristics that put them at risk, also known as risk factors. People with an A1C above 6.0 percent should be considered at very high risk of developing diabetes. A level of 6.5 percent or above means a person has diabetes.\\n                \\nLaboratory analysis. When the A1C test is used for diagnosis, the blood sample must be sent to a laboratory using a method that is certified by the NGSP to ensure the results are standardized. Blood samples analyzed in a health care providers office, known as point-of-care tests, are not standardized for diagnosing diabetes.\\n                \\nAbnormal results. The A1C test can be unreliable for diagnosing or monitoring diabetes in people with certain conditions known to interfere with the results. Interference should be suspected when A1C results seem very different from the results of a blood glucose test. People of African, Mediterranean, or Southeast Asian descent or people with family members with sickle cell anemia or a thalassemia are particularly at risk of interference.\\n                \\nHowever, not all of the A1C tests are unreliable for people with these diseases. The NGSP provides information about which A1C tests are appropriate to use for specific types of interference and details on any problems with the A1C test at www.ngsp.org.\\n                \\nFalse A1C test results may also occur in people with other problems that affect their blood or hemoglobin such as chronic kidney disease, liver disease, or anemia.\\n                \\nMore information about limitations of the A1C test and different forms of sickle cell anemia is provided in the NIDDK health topic, For People of African, Mediterranean, or Southeast Asian Heritage: Important Information about Diabetes Blood Tests, or by calling 18008608747.\\n                \\nChanges in Diagnostic Testing\\n                \\nIn the past, the A1C test was used to monitor blood glucose levels but not for diagnosis. The A1C test has now been standardized, and in 2009, an international expert committee recommended it be used for diagnosis of type 2 diabetes and prediabetes.2\\n                \\nMore information about the A1C test is provided in the NIDDK health topic, The A1C Test and Diabetes, or by calling 18008608747.\\n                \\nFasting Plasma Glucose Test\\n                \\nThe FPG test is used to detect diabetes and prediabetes. The FPG test has been the most common test used for diagnosing diabetes because it is more convenient than the OGTT and less expensive. The FPG test measures blood glucose in a person who has fasted for at least 8 hours and is most reliable when given in the morning.\\n                \\nPeople with a fasting glucose level of 100 to 125 mg/dL have impaired fasting glucose (IFG), or prediabetes. A level of 126 mg/dL or above, confirmed by repeating the test on another day, means a person has diabetes.\\n                \\nOral Glucose Tolerance Test\\n                \\nThe OGTT can be used to diagnose diabetes, prediabetes, and gestational diabetes. Research has shown that the OGTT is more sensitive than the FPG test, but it is less convenient to administer. When used to test for diabetes or prediabetes, the OGTT measures blood glucose after a person fasts for at least 8 hours and 2 hours after the person drinks a liquid containing 75 grams of glucose dissolved in water.\\n                \\nIf the 2-hour blood glucose level is between 140 and 199 mg/dL, the person has a type of prediabetes called impaired glucose tolerance (IGT). If confirmed by a second test, a 2-hour glucose level of 200 mg/dL or above means a person has diabetes.', 'Health care providers test for gestational diabetes using the OGTT. Women may be tested during their first visit to the health care provider after becoming pregnant or between 24 to 28 weeks of pregnancy depending on their risk factors and symptoms. Women found to have diabetes at the first visit to the health care provider after becoming pregnant may be diagnosed with type 2 diabetes.\\n                \\nDefining Safe Blood Glucose Levels for Pregnancy\\n                \\nMany studies have shown that gestational diabetes can cause complications for the mother and baby. An international, multicenter study, the Hyperglycemia and Adverse Pregnancy Outcome (HAPO) study, showed that the higher a pregnant womans blood glucose is, the higher her risk of pregnancy complications. The HAPO researchers found that pregnancy complications can occur at blood glucose levels that were once considered to be normal.\\n                \\nBased on the results of the HAPO study, new guidelines for diagnosis of gestational diabetes were recommended by the International Association of the Diabetes and Pregnancy Study Groups in 2011. So far, the new guidelines have been adopted by the American Diabetes Association (ADA)3 but not by the American College of Obstetricians and Gynecologists (ACOG)4 or other medical organizations. Researchers estimate these new guidelines, if widely adopted, will increase the proportion of pregnant women diagnosed with gestational diabetes to nearly 18 percent.5\\n                \\nBoth ADA and ACOG guidelines for using the OGTT in diagnosing gestational diabetes are shown in the following tables.\\n                \\nRecommendations for Testing Pregnant Women for Diabetes\\n                \\nTime of testing    ACOG    ADA        At first visit during pregnancy    No recommendation    Test women with risk factors for diabetes using standard testing for diagnosis of type 2 diabetes.  Women found to have diabetes at this time should be diagnosed with type 2 diabetes, not gestational diabetes.        At 24 to 28 weeks of pregnancy    Test women for diabetes based on their history, risk factors, or a 50-gram, 1-hour, nonfasting, glucose challenge testa modified OGTT.  If score is 130140 mg/dL, test again with fasting, 100-gram, 3-hour OGTT.*    Test all women for diabetes who are not already diagnosed, using a fasting, 75-gram, 2-hour OGTT.*\\n                \\n\\n                \\nOGTT Levels for Diagnosis of Gestational Diabetes\\n                \\nTime of Sample Collection    ACOG Levels**,4 (mg/dL)    ADA Levels3(mg/dL)        100-gram Glucose Drink    75-gram Glucose Drink        Fasting, before drinking glucose    95 or above    92 or above        1 hour after drinking glucose    180 or above    180 or above        2 hours after drinking glucose    155 or above    153 or above        3 hours after drinking glucose    140 or above    Not used        Requirements for Diagnosis    TWO or more of the above levels must be met    ONE or more of the above levels must be met\\n                \\n\\n                \\n\\n                \\n\\n                \\nMore information about treating gestational diabetes is provided in the NIDDK health topic, What I need to know about Gestational Diabetes, or by calling 18008608747.')\n",
      "\n",
      "QUESTION: What are the symptoms of Prevent diabetes problems: Keep your heart and blood vessels healthy ?\n",
      "ANSWER: ('You may have one or more of the following warning signs:\\n                \\n- chest pain or discomfort  - pain or discomfort in your arms, back, jaw, or neck  - indigestion or stomach pain  - shortness of breath  - sweating  - nausea  - light-headedness\\n                \\nOr, you may have no warning signs at all. Warning signs may come and go. If you have any of these warning signs, call 911 right away. Getting prompt treatment can reduce damage to the heart.', 'A stroke happens when part of your brain is not getting enough blood and stops working. Depending on the part of the brain that is damaged, a stroke can cause\\n                \\n- sudden weakness or numbness of your face, arm, or leg on one side of your body  - sudden confusion, trouble talking, or trouble understanding  - sudden dizziness, loss of balance, or trouble walking  - sudden trouble seeing in one or both eyes or sudden double vision  - sudden severe headache\\n                \\nSometimes, one or more of these warning signs may happen and then disappear. You might be having a \"mini-stroke,\" also called a TIA or a transient ischemic attack. If you have any of these warning signs, call 911 right away. Getting care for a TIA may reduce or prevent a stroke. Getting prompt treatment for a stroke can reduce the damage to the brain and improve chances for recovery.')\n",
      "\n",
      "QUESTION: What are the treatments for Anxiety Disorders ?\n",
      "ANSWER: ('Most insurance plans, including health maintenance organizations (HMOs), will cover treatment for anxiety disorders. Check with your insurance company and find out. If you dont have insurance, the Health and Human Services division of your county government may offer mental health care at a public mental health center that charges people according to how much they are able to pay. If you are on public assistance, you may be able to get care through your state Medicaid plan. To learn about more mental health resources, see  Help for Mental Illness,  from the National Institute of Mental Health at NIH.', 'Exposure-based treatment has been used for many years to treat specific phobias. The person gradually encounters the object or situation that is feared, perhaps at first only through pictures or tapes, then later face-to-face. Sometimes the therapist will accompany the person to a feared situation to provide support and guidance. Exposure exercises are undertaken once the patient decides he is ready for it and with his cooperation. To be effective, therapy must be directed at the persons specific anxieties and must be tailored to his or her needs. A typical side effect is temporary discomfort involved with thinking about confronting feared situations.')\n",
      "\n"
     ]
    }
   ],
   "source": [
    "# inspecting rejected answers\n",
    "dups = pd.read_csv(\"dups_with_outputs.csv\")\n",
    "dropped = dups.loc[dups[\"outputs\"] == 0]\n",
    "for i, row in dropped.head().iterrows():\n",
    "    print(f\"QUESTION: {row[\"question\"]}\")\n",
    "    print(f\"ANSWER: {row[\"answers\"]}\")\n",
    "    print()"
   ]
  },
  {
   "cell_type": "code",
   "execution_count": null,
   "metadata": {
    "id": "docAYRgwDTZk",
    "outputId": "30f2c28c-4930-416b-8754-57e025235879"
   },
   "outputs": [
    {
     "data": {
      "text/plain": [
       "                                              question  \\\n",
       "0    How to diagnose Adrenal Insufficiency and Addi...   \n",
       "1                How to diagnose Alzheimer's Disease ?   \n",
       "2     How to diagnose Amyloidosis and Kidney Disease ?   \n",
       "3                      How to diagnose Breast Cancer ?   \n",
       "4                               How to diagnose COPD ?   \n",
       "..                                                 ...   \n",
       "852  what research (or clinical trials) is being do...   \n",
       "853  what research (or clinical trials) is being do...   \n",
       "854  what research (or clinical trials) is being do...   \n",
       "855  what research (or clinical trials) is being do...   \n",
       "856  what research (or clinical trials) is being do...   \n",
       "\n",
       "                                               answers  \n",
       "0    In its early stages, adrenal insufficiency can...  \n",
       "1    The only definitive way to diagnose Alzheimer'...  \n",
       "2    A health care provider diagnoses primary amylo...  \n",
       "3    Tests that examine the breasts are used to det...  \n",
       "4    To confirm a COPD diagnosis, a doctor will use...  \n",
       "..                                                 ...  \n",
       "852  The National Institute on Deafness and Other C...  \n",
       "853  Scientists continue to look at new ways to pre...  \n",
       "854  Scientists who are working to better understan...  \n",
       "855  Many Areas of Research Scientists are constant...  \n",
       "856  The National Institute of Neurological Disorde...  \n",
       "\n",
       "[857 rows x 2 columns]"
      ]
     },
     "execution_count": 12,
     "metadata": {},
     "output_type": "execute_result"
    }
   ],
   "source": [
    "dups = pd.read_csv(\"dups_processed.csv\")\n",
    "# create clean dataset to prepare for merge\n",
    "processed = pd.DataFrame(columns=[\"question\", \"answers\"])\n",
    "processed[\"question\"] = dups[\"question\"]\n",
    "processed[\"answers\"] = dups[\"final\"]\n",
    "processed"
   ]
  },
  {
   "cell_type": "code",
   "execution_count": null,
   "metadata": {
    "id": "AVpgaRg5EW8Q",
    "outputId": "700932fd-2a3d-4afd-8698-0507c6d54152"
   },
   "outputs": [
    {
     "data": {
      "text/plain": [
       "                                                question  \\\n",
       "0                      Do you have information about A1C   \n",
       "1              Do you have information about Acupuncture   \n",
       "2                 Do you have information about Adoption   \n",
       "3       Do you have information about Advance Directives   \n",
       "4      Do you have information about African American...   \n",
       "...                                                  ...   \n",
       "14976  what research (or clinical trials) is being do...   \n",
       "14977  what research (or clinical trials) is being do...   \n",
       "14978  what research (or clinical trials) is being do...   \n",
       "14979  what research is being done for Tuberculosis (...   \n",
       "14980  what types of infections does vancomycin-resis...   \n",
       "\n",
       "                                                 answers  multi-answers  \n",
       "0      Summary : A1C is a blood test for type 2 diabe...          False  \n",
       "1      Summary : Acupuncture has been practiced in Ch...          False  \n",
       "2      Summary : Adoption brings a child born to othe...          False  \n",
       "3      Summary : What kind of medical care would you ...          False  \n",
       "4      Summary : Every racial or ethnic group has spe...          False  \n",
       "...                                                  ...            ...  \n",
       "14976  New types of treatment are being tested in cli...          False  \n",
       "14977  The National Institute of Neurological Disorde...          False  \n",
       "14978  The National Institute of Neurological Disorde...          False  \n",
       "14979  TB Epidemiologic Studies Consortium\\n  \\n The ...          False  \n",
       "14980  On this Page General Information What is vanco...          False  \n",
       "\n",
       "[14981 rows x 3 columns]"
      ]
     },
     "execution_count": 13,
     "metadata": {},
     "output_type": "execute_result"
    }
   ],
   "source": [
    "# unpack the tuple answers\n",
    "grouped_ds[\"answers\"] = grouped_ds[\"answers\"].apply(lambda x: x[0])\n",
    "grouped_ds\n"
   ]
  },
  {
   "cell_type": "code",
   "execution_count": null,
   "metadata": {
    "id": "ng3yokguGBot",
    "outputId": "df877319-34b8-46a6-a3ee-77a2dd12c7b5"
   },
   "outputs": [
    {
     "data": {
      "text/plain": [
       "                                              question  \\\n",
       "0                    Do you have information about A1C   \n",
       "1            Do you have information about Acupuncture   \n",
       "2               Do you have information about Adoption   \n",
       "3     Do you have information about Advance Directives   \n",
       "4    Do you have information about African American...   \n",
       "..                                                 ...   \n",
       "852  what research (or clinical trials) is being do...   \n",
       "853  what research (or clinical trials) is being do...   \n",
       "854  what research (or clinical trials) is being do...   \n",
       "855  what research (or clinical trials) is being do...   \n",
       "856  what research (or clinical trials) is being do...   \n",
       "\n",
       "                                               answers multi-answers  \n",
       "0    Summary : A1C is a blood test for type 2 diabe...         False  \n",
       "1    Summary : Acupuncture has been practiced in Ch...         False  \n",
       "2    Summary : Adoption brings a child born to othe...         False  \n",
       "3    Summary : What kind of medical care would you ...         False  \n",
       "4    Summary : Every racial or ethnic group has spe...         False  \n",
       "..                                                 ...           ...  \n",
       "852  The National Institute on Deafness and Other C...           NaN  \n",
       "853  Scientists continue to look at new ways to pre...           NaN  \n",
       "854  Scientists who are working to better understan...           NaN  \n",
       "855  Many Areas of Research Scientists are constant...           NaN  \n",
       "856  The National Institute of Neurological Disorde...           NaN  \n",
       "\n",
       "[15838 rows x 3 columns]"
      ]
     },
     "execution_count": 14,
     "metadata": {},
     "output_type": "execute_result"
    }
   ],
   "source": [
    "# concatenate original grouped dataset with deduplicated dataset\n",
    "processed = pd.concat([grouped_ds, processed])\n",
    "processed"
   ]
  },
  {
   "cell_type": "code",
   "execution_count": null,
   "metadata": {
    "id": "ZGWZ6sIhEoT6",
    "outputId": "7c2dd560-a3c3-4bf5-f758-9f960debbffb"
   },
   "outputs": [
    {
     "data": {
      "text/plain": [
       "                                              question  \\\n",
       "0                    Do you have information about A1C   \n",
       "1            Do you have information about Acupuncture   \n",
       "2               Do you have information about Adoption   \n",
       "3     Do you have information about Advance Directives   \n",
       "4    Do you have information about African American...   \n",
       "..                                                 ...   \n",
       "852  what research (or clinical trials) is being do...   \n",
       "853  what research (or clinical trials) is being do...   \n",
       "854  what research (or clinical trials) is being do...   \n",
       "855  what research (or clinical trials) is being do...   \n",
       "856  what research (or clinical trials) is being do...   \n",
       "\n",
       "                                               answers  \n",
       "0    Summary : A1C is a blood test for type 2 diabe...  \n",
       "1    Summary : Acupuncture has been practiced in Ch...  \n",
       "2    Summary : Adoption brings a child born to othe...  \n",
       "3    Summary : What kind of medical care would you ...  \n",
       "4    Summary : Every racial or ethnic group has spe...  \n",
       "..                                                 ...  \n",
       "852  The National Institute on Deafness and Other C...  \n",
       "853  Scientists continue to look at new ways to pre...  \n",
       "854  Scientists who are working to better understan...  \n",
       "855  Many Areas of Research Scientists are constant...  \n",
       "856  The National Institute of Neurological Disorde...  \n",
       "\n",
       "[14981 rows x 2 columns]"
      ]
     },
     "execution_count": 15,
     "metadata": {},
     "output_type": "execute_result"
    }
   ],
   "source": [
    "processed.drop(columns=[\"multi-answers\"], inplace=True)\n",
    "# keep the last for duplicates because I just deduplicated that and selected the best answer\n",
    "processed.drop_duplicates(subset=[\"question\"], keep=\"last\", inplace=True)\n",
    "processed"
   ]
  },
  {
   "cell_type": "markdown",
   "metadata": {
    "id": "65NKHgkowtqG"
   },
   "source": [
    "# Data Preprocessing Step 2: quality check"
   ]
  },
  {
   "cell_type": "code",
   "execution_count": null,
   "metadata": {
    "id": "_mLZ7zcUGNTs",
    "outputId": "91bf374a-a165-4370-8837-bd132b2e40b8"
   },
   "outputs": [
    {
     "data": {
      "text/plain": [
       "                                              question  \\\n",
       "0                    Do you have information about A1C   \n",
       "1            Do you have information about Acupuncture   \n",
       "2               Do you have information about Adoption   \n",
       "3     Do you have information about Advance Directives   \n",
       "4    Do you have information about African American...   \n",
       "..                                                 ...   \n",
       "852  what research (or clinical trials) is being do...   \n",
       "853  what research (or clinical trials) is being do...   \n",
       "854  what research (or clinical trials) is being do...   \n",
       "855  what research (or clinical trials) is being do...   \n",
       "856  what research (or clinical trials) is being do...   \n",
       "\n",
       "                                               answers  \\\n",
       "0    Summary : A1C is a blood test for type 2 diabe...   \n",
       "1    Summary : Acupuncture has been practiced in Ch...   \n",
       "2    Summary : Adoption brings a child born to othe...   \n",
       "3    Summary : What kind of medical care would you ...   \n",
       "4    Summary : Every racial or ethnic group has spe...   \n",
       "..                                                 ...   \n",
       "852  The National Institute on Deafness and Other C...   \n",
       "853  Scientists continue to look at new ways to pre...   \n",
       "854  Scientists who are working to better understan...   \n",
       "855  Many Areas of Research Scientists are constant...   \n",
       "856  The National Institute of Neurological Disorde...   \n",
       "\n",
       "                                               prompts  \n",
       "0    <|QUESTION|>Do you have information about A1C<...  \n",
       "1    <|QUESTION|>Do you have information about Acup...  \n",
       "2    <|QUESTION|>Do you have information about Adop...  \n",
       "3    <|QUESTION|>Do you have information about Adva...  \n",
       "4    <|QUESTION|>Do you have information about Afri...  \n",
       "..                                                 ...  \n",
       "852  <|QUESTION|>what research (or clinical trials)...  \n",
       "853  <|QUESTION|>what research (or clinical trials)...  \n",
       "854  <|QUESTION|>what research (or clinical trials)...  \n",
       "855  <|QUESTION|>what research (or clinical trials)...  \n",
       "856  <|QUESTION|>what research (or clinical trials)...  \n",
       "\n",
       "[14981 rows x 3 columns]"
      ]
     },
     "execution_count": 16,
     "metadata": {},
     "output_type": "execute_result"
    }
   ],
   "source": [
    "# step 2: checking answer quality\n",
    "qa_system_prompt = \"\"\"You are a highly intelligent assistant who reviews a medical related question answer dataset scraped \\\n",
    "from the web. Your job is to review the following answer for the provided question and determine if the answer \\\n",
    "properly answers the question.\\n\\nOutput instructions: you will only output a boolean value of 1 or 0, with 1 indicating \\\n",
    "to keep the sample, or 0 denoting to exclude it. The criteria for exclusion is simply based on whether the answer properly \\\n",
    "answers the question. If the answer is nonsensical or irrelevant, be sure to exclude it. Do not judge the answer based on \\\n",
    "correctness because you do not have medical knowledge. A valid answer includes those that admits there is currently no \\\n",
    "answer available to the question (for example, if a disease or condition has no cure or treatment available.)\"\"\" # last sentence added in v2\n",
    "\n",
    "def format_qa_input(inp):\n",
    "    return f\"<|QUESTION|>{inp['question']}<|QUESTION|>\\n\\n<|ANSWER|>{inp['answers']}<|ANSWER|>\"\n",
    "\n",
    "processed[\"prompts\"] = processed.apply(lambda x: format_qa_input(x), axis=1)\n",
    "processed"
   ]
  },
  {
   "cell_type": "code",
   "execution_count": null,
   "metadata": {
    "id": "mnq-dqzkIQLd"
   },
   "outputs": [],
   "source": [
    "# apply chat template\n",
    "processed[\"prompts\"] = processed[\"prompts\"].apply(lambda x: apply_template(qa_system_prompt, x))\n",
    "processed"
   ]
  },
  {
   "cell_type": "code",
   "execution_count": null,
   "metadata": {
    "id": "rsmL7AmiImRD",
    "outputId": "1ac8c517-d20c-40bf-ebb4-1011d863bb78"
   },
   "outputs": [
    {
     "data": {
      "text/plain": [
       "                                                question  \\\n",
       "0                      Do you have information about A1C   \n",
       "1              Do you have information about Acupuncture   \n",
       "2                 Do you have information about Adoption   \n",
       "3       Do you have information about Advance Directives   \n",
       "4      Do you have information about African American...   \n",
       "...                                                  ...   \n",
       "14976  what research (or clinical trials) is being do...   \n",
       "14977  what research (or clinical trials) is being do...   \n",
       "14978  what research (or clinical trials) is being do...   \n",
       "14979  what research (or clinical trials) is being do...   \n",
       "14980  what research (or clinical trials) is being do...   \n",
       "\n",
       "                                                 answers  \\\n",
       "0      Summary : A1C is a blood test for type 2 diabe...   \n",
       "1      Summary : Acupuncture has been practiced in Ch...   \n",
       "2      Summary : Adoption brings a child born to othe...   \n",
       "3      Summary : What kind of medical care would you ...   \n",
       "4      Summary : Every racial or ethnic group has spe...   \n",
       "...                                                  ...   \n",
       "14976  The National Institute on Deafness and Other C...   \n",
       "14977  Scientists continue to look at new ways to pre...   \n",
       "14978  Scientists who are working to better understan...   \n",
       "14979  Many Areas of Research Scientists are constant...   \n",
       "14980  The National Institute of Neurological Disorde...   \n",
       "\n",
       "                                                 prompts  \n",
       "0      <|im_start|>system\\nYou are a highly intellige...  \n",
       "1      <|im_start|>system\\nYou are a highly intellige...  \n",
       "2      <|im_start|>system\\nYou are a highly intellige...  \n",
       "3      <|im_start|>system\\nYou are a highly intellige...  \n",
       "4      <|im_start|>system\\nYou are a highly intellige...  \n",
       "...                                                  ...  \n",
       "14976  <|im_start|>system\\nYou are a highly intellige...  \n",
       "14977  <|im_start|>system\\nYou are a highly intellige...  \n",
       "14978  <|im_start|>system\\nYou are a highly intellige...  \n",
       "14979  <|im_start|>system\\nYou are a highly intellige...  \n",
       "14980  <|im_start|>system\\nYou are a highly intellige...  \n",
       "\n",
       "[14981 rows x 3 columns]"
      ]
     },
     "execution_count": 27,
     "metadata": {},
     "output_type": "execute_result"
    }
   ],
   "source": [
    "processed.drop(columns=[\"index\"], inplace=True)\n",
    "processed"
   ]
  },
  {
   "cell_type": "code",
   "execution_count": null,
   "metadata": {
    "id": "kYkIWbqhIy6b"
   },
   "outputs": [],
   "source": [
    "processed.to_csv(\"qa_inputs_v2.csv\", index=False)"
   ]
  },
  {
   "cell_type": "code",
   "execution_count": null,
   "metadata": {
    "id": "uJGi2MUWI4z7"
   },
   "outputs": [],
   "source": [
    "import pandas as pd\n",
    "\n",
    "processed = pd.read_csv(\"qa_inputs_v2.csv\")\n",
    "dataset = TextDataset(processed[\"prompts\"].tolist())\n",
    "dataloader = DataLoader(dataset, batch_size=8, shuffle=False)\n",
    "\n",
    "def generate(dataloader, tokenizer, model):\n",
    "    for batch_text in tqdm(dataloader):\n",
    "        model_inputs = tokenizer.batch_encode_plus(\n",
    "            batch_text,\n",
    "            padding=\"longest\",\n",
    "            padding_side=\"left\",\n",
    "            truncation=True,\n",
    "            return_tensors=\"pt\",\n",
    "        ).to(model.device)\n",
    "        with torch.no_grad():\n",
    "            yield model.generate(\n",
    "                **model_inputs,\n",
    "                temperature=0.8,\n",
    "                top_p=0.8,\n",
    "                top_k=20,\n",
    "                max_new_tokens=10\n",
    "            )\n",
    "\n",
    "out = []\n",
    "for batch in generate(dataloader, tokenizer, model):\n",
    "    decoded = tokenizer.batch_decode(\n",
    "        batch,\n",
    "        skip_special_tokens=True\n",
    "    )\n",
    "    out.extend(decoded)\n"
   ]
  },
  {
   "cell_type": "code",
   "execution_count": null,
   "metadata": {
    "id": "3Ufio0-PO4wE",
    "outputId": "eb32968d-3c34-46a4-b432-39ce1d019f6a"
   },
   "outputs": [
    {
     "data": {
      "text/plain": [
       "       Unnamed: 0                                           question  \\\n",
       "0               0                  Do you have information about A1C   \n",
       "1               1          Do you have information about Acupuncture   \n",
       "2               2             Do you have information about Adoption   \n",
       "3               3   Do you have information about Advance Directives   \n",
       "4               4  Do you have information about African American...   \n",
       "...           ...                                                ...   \n",
       "14976       14976  what research (or clinical trials) is being do...   \n",
       "14977       14977  what research (or clinical trials) is being do...   \n",
       "14978       14978  what research (or clinical trials) is being do...   \n",
       "14979       14979  what research (or clinical trials) is being do...   \n",
       "14980       14980  what research (or clinical trials) is being do...   \n",
       "\n",
       "                                                 answers  \\\n",
       "0      Summary : A1C is a blood test for type 2 diabe...   \n",
       "1      Summary : Acupuncture has been practiced in Ch...   \n",
       "2      Summary : Adoption brings a child born to othe...   \n",
       "3      Summary : What kind of medical care would you ...   \n",
       "4      Summary : Every racial or ethnic group has spe...   \n",
       "...                                                  ...   \n",
       "14976  The National Institute on Deafness and Other C...   \n",
       "14977  Scientists continue to look at new ways to pre...   \n",
       "14978  Scientists who are working to better understan...   \n",
       "14979  Many Areas of Research Scientists are constant...   \n",
       "14980  The National Institute of Neurological Disorde...   \n",
       "\n",
       "                                                 prompts outputs  \n",
       "0      <|im_start|>system\\nYou are a highly intellige...       1  \n",
       "1      <|im_start|>system\\nYou are a highly intellige...       1  \n",
       "2      <|im_start|>system\\nYou are a highly intellige...       1  \n",
       "3      <|im_start|>system\\nYou are a highly intellige...       1  \n",
       "4      <|im_start|>system\\nYou are a highly intellige...       1  \n",
       "...                                                  ...     ...  \n",
       "14976  <|im_start|>system\\nYou are a highly intellige...       1  \n",
       "14977  <|im_start|>system\\nYou are a highly intellige...       1  \n",
       "14978  <|im_start|>system\\nYou are a highly intellige...       1  \n",
       "14979  <|im_start|>system\\nYou are a highly intellige...       1  \n",
       "14980  <|im_start|>system\\nYou are a highly intellige...       1  \n",
       "\n",
       "[14981 rows x 5 columns]"
      ]
     },
     "execution_count": 32,
     "metadata": {},
     "output_type": "execute_result"
    }
   ],
   "source": [
    "# split the text at the asssistant response line and get the response.\n",
    "# 1 = keep, 0 = reject.\n",
    "def postprocess(outputs):\n",
    "    responses = []\n",
    "    for o in outputs:\n",
    "        res = o.split(\"assistant\\n\")[1]\n",
    "        responses.append(res)\n",
    "    return responses\n",
    "\n",
    "processed[\"outputs\"] = postprocess(out)\n",
    "processed"
   ]
  },
  {
   "cell_type": "code",
   "execution_count": 30,
   "metadata": {
    "id": "dSV-ScvxPLBX",
    "outputId": "5213d34a-a894-4b6c-ea95-2467a98a38e1"
   },
   "outputs": [
    {
     "data": {
      "text/plain": [
       "       Unnamed: 0.1  Unnamed: 0  \\\n",
       "111             111         111   \n",
       "404             404         404   \n",
       "486             486         486   \n",
       "532             532         532   \n",
       "614             614         614   \n",
       "...             ...         ...   \n",
       "14856         14856       14856   \n",
       "14877         14877       14877   \n",
       "14881         14881       14881   \n",
       "14902         14902       14902   \n",
       "14912         14912       14912   \n",
       "\n",
       "                                                question  \\\n",
       "111                  Do you have information about Fires   \n",
       "404    How many people are affected by Colorectal Can...   \n",
       "486    How many people are affected by IgA Nephropathy ?   \n",
       "532     How many people are affected by Lynch syndrome ?   \n",
       "614    How many people are affected by Prostate Cancer ?   \n",
       "...                                                  ...   \n",
       "14856                         What to do for Cystocele ?   \n",
       "14877                   What to do for Hyperthyroidism ?   \n",
       "14881                   What to do for Inguinal Hernia ?   \n",
       "14902       What to do for Primary Hyperparathyroidism ?   \n",
       "14912                 What to do for Urinary Retention ?   \n",
       "\n",
       "                                                 answers  \\\n",
       "111    Summary : Whether a fire happens in your home ...   \n",
       "404    Colorectal cancer accounts for almost ten perc...   \n",
       "486    IgA nephropathy is one of the most common kidn...   \n",
       "532    In the United States, about 140,000 new cases ...   \n",
       "614    Prostate cancer is one of the most common type...   \n",
       "...                                                  ...   \n",
       "14856  - A cystocele, also called a prolapsed or drop...   \n",
       "14877  - Hyperthyroidism is a disorder that occurs wh...   \n",
       "14881  - An inguinal hernia happens when contents of ...   \n",
       "14902  - Primary hyperparathyroidism is a disorder of...   \n",
       "14912  - Urinary retention is the inability to empty ...   \n",
       "\n",
       "                                                 prompts  outputs  \n",
       "111    <|im_start|>system\\nYou are a highly intellige...        0  \n",
       "404    <|im_start|>system\\nYou are a highly intellige...        0  \n",
       "486    <|im_start|>system\\nYou are a highly intellige...        0  \n",
       "532    <|im_start|>system\\nYou are a highly intellige...        0  \n",
       "614    <|im_start|>system\\nYou are a highly intellige...        0  \n",
       "...                                                  ...      ...  \n",
       "14856  <|im_start|>system\\nYou are a highly intellige...        0  \n",
       "14877  <|im_start|>system\\nYou are a highly intellige...        0  \n",
       "14881  <|im_start|>system\\nYou are a highly intellige...        0  \n",
       "14902  <|im_start|>system\\nYou are a highly intellige...        0  \n",
       "14912  <|im_start|>system\\nYou are a highly intellige...        0  \n",
       "\n",
       "[1502 rows x 6 columns]"
      ]
     },
     "execution_count": 30,
     "metadata": {},
     "output_type": "execute_result"
    }
   ],
   "source": [
    "# there are 1502 rejected samples\n",
    "processed = pd.read_csv(\"/content/qa_outputs_v2.csv\")\n",
    "rejected = processed.loc[processed[\"outputs\"] != 1]\n",
    "rejected"
   ]
  },
  {
   "cell_type": "code",
   "execution_count": 31,
   "metadata": {
    "id": "jdZEiOtAPOqE",
    "outputId": "88f4b245-9cb5-4854-aeb4-7bee6660af44"
   },
   "outputs": [
    {
     "name": "stdout",
     "output_type": "stream",
     "text": [
      "QUESTION: Do you have information about Fires\n",
      "ANSWER: Summary : Whether a fire happens in your home or in the wild, it can be very dangerous. Fire spreads quickly. There is no time to gather valuables or make a phone call. In just two minutes, a fire can become life-threatening. In five minutes, a home can be engulfed in flames.    Heat and smoke from fire can be more dangerous than the flames. Inhaling the super-hot air can burn your lungs. Fire produces poisonous gases that make you disoriented and drowsy. Instead of being awakened by a fire, you may fall into a deeper sleep. You can suffocate or be burned.    Preventing fires is an important part of fire safety. Although there are no guarantees of safety during a fire, you can take actions to protect yourself. You should have a disaster plan. Being prepared can help reduce fear, anxiety, and losses. If you do experience a disaster, it is normal to feel stressed. You may need help in finding ways to cope.    Federal Emergency Management Agency\n",
      "\n",
      "QUESTION: How many people are affected by Colorectal Cancer ?\n",
      "ANSWER: Colorectal cancer accounts for almost ten percent of all cancer deaths in the United States. The risk of developing colorectal cancer rises after age 50. It is common in both men and women.\n",
      "\n",
      "QUESTION: How many people are affected by IgA Nephropathy ?\n",
      "ANSWER: IgA nephropathy is one of the most common kidney diseases, other than those caused by diabetes or high blood pressure.1\n",
      "                \n",
      "IgA nephropathy can occur at any age, although the first evidence of kidney disease most frequently appears when people are in their teens to late 30s.2 IgA nephropathy in the United States is twice as likely to appear in men than in women.3 While found in people all over the world, IgA nephropathy is more common among Asians and Caucasians.4\n",
      "                \n",
      "A person may be more likely to develop IgA nephropathy if\n",
      "                \n",
      "- he or she has a family history of IgA nephropathy or Henoch-Schnlein purpuraa disease that causes small blood vessels in the body to become inflamed and leak  - he is a male in his teens to late 30s  - he or she is Asian or Caucasian\n",
      "\n",
      "QUESTION: How many people are affected by Lynch syndrome ?\n",
      "ANSWER: In the United States, about 140,000 new cases of colorectal cancer are diagnosed each year. Approximately 3 to 5 percent of these cancers are caused by Lynch syndrome.\n",
      "\n",
      "QUESTION: How many people are affected by Prostate Cancer ?\n",
      "ANSWER: Prostate cancer is one of the most common types of cancer among American men. It is a slow-growing disease that mostly affects older men. In fact, more than 60 percent of all prostate cancers are found in men over the age of 65. The disease rarely occurs in men younger than 40 years of age.\n",
      "\n"
     ]
    }
   ],
   "source": [
    "# inspection of rejected samples\n",
    "for i, row in rejected.head().iterrows():\n",
    "    print(f\"QUESTION: {row['question']}\")\n",
    "    print(f\"ANSWER: {row['answers']}\")\n",
    "    print()"
   ]
  },
  {
   "cell_type": "code",
   "execution_count": null,
   "metadata": {
    "id": "lBInjKpwPhXv"
   },
   "outputs": [],
   "source": [
    "processed.to_csv(\"qa_outputs_v2.csv\")"
   ]
  },
  {
   "cell_type": "markdown",
   "metadata": {
    "id": "lqR507e4z00K"
   },
   "source": [
    "# Merge and Process Dataset"
   ]
  },
  {
   "cell_type": "code",
   "execution_count": null,
   "metadata": {
    "id": "3bkMUE7aWbz_",
    "outputId": "f6e0f63f-7fe5-4b2c-c89e-35dcda31669c"
   },
   "outputs": [
    {
     "data": {
      "text/plain": [
       "README.md: 0.00B [00:00, ?B/s]"
      ]
     },
     "metadata": {},
     "output_type": "display_data"
    },
    {
     "data": {
      "text/plain": [
       "data/train-00000-of-00001-e36383d177026d(…):   0%|          | 0.00/10.7M [00:00<?, ?B/s]"
      ]
     },
     "metadata": {},
     "output_type": "display_data"
    },
    {
     "data": {
      "text/plain": [
       "Generating train split:   0%|          | 0/47441 [00:00<?, ? examples/s]"
      ]
     },
     "metadata": {},
     "output_type": "display_data"
    },
    {
     "data": {
      "text/plain": [
       "DatasetDict({\n",
       "    train: Dataset({\n",
       "        features: ['document_id', 'document_source', 'document_url', 'category', 'umls_cui', 'umls_semantic_types', 'umls_semantic_group', 'synonyms', 'question_id', 'question_focus', 'question_type', 'question', 'answer'],\n",
       "        num_rows: 47441\n",
       "    })\n",
       "})"
      ]
     },
     "execution_count": 47,
     "metadata": {},
     "output_type": "execute_result"
    }
   ],
   "source": [
    "# download MedQuAD dataset\n",
    "from datasets import load_dataset\n",
    "\n",
    "dataset = load_dataset(\"lavita/MedQuAD\")\n",
    "dataset"
   ]
  },
  {
   "cell_type": "code",
   "execution_count": null,
   "metadata": {
    "id": "u4w2-q5mWkwR",
    "outputId": "ffa0ba7d-28ab-4c34-d976-0b50e6aeeac0"
   },
   "outputs": [
    {
     "data": {
      "text/plain": [
       "                     question_focus          question_type  \\\n",
       "0      keratoderma with woolly hair            information   \n",
       "1      keratoderma with woolly hair              frequency   \n",
       "2      keratoderma with woolly hair        genetic changes   \n",
       "3      keratoderma with woolly hair            inheritance   \n",
       "4      keratoderma with woolly hair              treatment   \n",
       "...                             ...                    ...   \n",
       "47436                   Hydrocodone           side effects   \n",
       "47437                   Hydrocodone   storage and disposal   \n",
       "47438                   Hydrocodone  emergency or overdose   \n",
       "47439                   Hydrocodone      other information   \n",
       "47440                   Hydrocodone            brand names   \n",
       "\n",
       "                                                question  \\\n",
       "0           What is (are) keratoderma with woolly hair ?   \n",
       "1      How many people are affected by keratoderma wi...   \n",
       "2      What are the genetic changes related to kerato...   \n",
       "3            Is keratoderma with woolly hair inherited ?   \n",
       "4      What are the treatments for keratoderma with w...   \n",
       "...                                                  ...   \n",
       "47436  What are the side effects or risks of Hydrocod...   \n",
       "47437  What should I know about storage and disposal ...   \n",
       "47438  What to do in case of emergency or overdose of...   \n",
       "47439  What other information should I know about Hyd...   \n",
       "47440          What are the brand names of Hydrocodone ?   \n",
       "\n",
       "                                                 answers  \n",
       "0      Keratoderma with woolly hair is a group of rel...  \n",
       "1      Keratoderma with woolly hair is rare; its prev...  \n",
       "2      Mutations in the JUP, DSP, DSC2, and KANK2 gen...  \n",
       "3      Most cases of keratoderma with woolly hair hav...  \n",
       "4      These resources address the diagnosis or manag...  \n",
       "...                                                  ...  \n",
       "47436                                               None  \n",
       "47437                                               None  \n",
       "47438                                               None  \n",
       "47439                                               None  \n",
       "47440                                               None  \n",
       "\n",
       "[47441 rows x 4 columns]"
      ]
     },
     "execution_count": 50,
     "metadata": {},
     "output_type": "execute_result"
    }
   ],
   "source": [
    "# create a new dataframe with only desired fields\n",
    "data = pd.DataFrame(columns=[\"question_focus\", \"question_type\", \"question\", \"answers\"])\n",
    "data[\"question_focus\"] = dataset[\"train\"][\"question_focus\"]\n",
    "data[\"question_type\"] = dataset[\"train\"][\"question_type\"]\n",
    "data[\"question\"] = dataset[\"train\"][\"question\"]\n",
    "data[\"answers\"] = dataset[\"train\"][\"answer\"]\n",
    "data"
   ]
  },
  {
   "cell_type": "code",
   "execution_count": null,
   "metadata": {
    "id": "Q00kbu7-W_Qn",
    "outputId": "ebfd1020-059a-44e4-de83-53cf46c86e02"
   },
   "outputs": [
    {
     "data": {
      "text/plain": [
       "                                 question_focus    question_type  \\\n",
       "0                  keratoderma with woolly hair      information   \n",
       "1                  keratoderma with woolly hair        frequency   \n",
       "2                  keratoderma with woolly hair  genetic changes   \n",
       "3                  keratoderma with woolly hair      inheritance   \n",
       "4                  keratoderma with woolly hair        treatment   \n",
       "...                                         ...              ...   \n",
       "34547       What I need to know about Cirrhosis        treatment   \n",
       "34548       What I need to know about Cirrhosis        treatment   \n",
       "34549       What I need to know about Cirrhosis       prevention   \n",
       "34550       What I need to know about Cirrhosis   considerations   \n",
       "34551  4 Steps to Manage Your Diabetes for Life      information   \n",
       "\n",
       "                                                question  \\\n",
       "0           What is (are) keratoderma with woolly hair ?   \n",
       "1      How many people are affected by keratoderma wi...   \n",
       "2      What are the genetic changes related to kerato...   \n",
       "3            Is keratoderma with woolly hair inherited ?   \n",
       "4      What are the treatments for keratoderma with w...   \n",
       "...                                                  ...   \n",
       "34547  What are the treatments for What I need to kno...   \n",
       "34548  What are the treatments for What I need to kno...   \n",
       "34549  How to prevent What I need to know about Cirrh...   \n",
       "34550  What to do for What I need to know about Cirrh...   \n",
       "34551  What is (are) 4 Steps to Manage Your Diabetes ...   \n",
       "\n",
       "                                                 answers  \n",
       "0      Keratoderma with woolly hair is a group of rel...  \n",
       "1      Keratoderma with woolly hair is rare; its prev...  \n",
       "2      Mutations in the JUP, DSP, DSC2, and KANK2 gen...  \n",
       "3      Most cases of keratoderma with woolly hair hav...  \n",
       "4      These resources address the diagnosis or manag...  \n",
       "...                                                  ...  \n",
       "34547  Once you have cirrhosis, nothing can make all ...  \n",
       "34548  If too much scar tissue forms, your liver coul...  \n",
       "34549  To prevent cirrhosis,\\n                \\n- see...  \n",
       "34550  - Cirrhosis is scarring of the liver. Scar tis...  \n",
       "34551  What is diabetes?\\n                \\nThere are...  \n",
       "\n",
       "[16407 rows x 4 columns]"
      ]
     },
     "execution_count": 53,
     "metadata": {},
     "output_type": "execute_result"
    }
   ],
   "source": [
    "# drop all rows with \"None\" as the answer\n",
    "data[\"answers\"] = data[\"answers\"].apply(lambda x: str(x))\n",
    "data = data.loc[data[\"answers\"] != \"None\"]\n",
    "data"
   ]
  },
  {
   "cell_type": "code",
   "execution_count": null,
   "metadata": {
    "id": "n03HtUsUXYln",
    "outputId": "e1adddeb-1bc0-4c56-f027-ef30abda24f3"
   },
   "outputs": [
    {
     "data": {
      "text/plain": [
       "       Unnamed: 0.1  Unnamed: 0  \\\n",
       "0                 0           0   \n",
       "1                 1           1   \n",
       "2                 2           2   \n",
       "3                 3           3   \n",
       "4                 4           4   \n",
       "...             ...         ...   \n",
       "14976         14976       14976   \n",
       "14977         14977       14977   \n",
       "14978         14978       14978   \n",
       "14979         14979       14979   \n",
       "14980         14980       14980   \n",
       "\n",
       "                                                question  \\\n",
       "0                      Do you have information about A1C   \n",
       "1              Do you have information about Acupuncture   \n",
       "2                 Do you have information about Adoption   \n",
       "3       Do you have information about Advance Directives   \n",
       "4      Do you have information about African American...   \n",
       "...                                                  ...   \n",
       "14976  what research (or clinical trials) is being do...   \n",
       "14977  what research (or clinical trials) is being do...   \n",
       "14978  what research (or clinical trials) is being do...   \n",
       "14979  what research (or clinical trials) is being do...   \n",
       "14980  what research (or clinical trials) is being do...   \n",
       "\n",
       "                                                 answers  \\\n",
       "0      Summary : A1C is a blood test for type 2 diabe...   \n",
       "1      Summary : Acupuncture has been practiced in Ch...   \n",
       "2      Summary : Adoption brings a child born to othe...   \n",
       "3      Summary : What kind of medical care would you ...   \n",
       "4      Summary : Every racial or ethnic group has spe...   \n",
       "...                                                  ...   \n",
       "14976  The National Institute on Deafness and Other C...   \n",
       "14977  Scientists continue to look at new ways to pre...   \n",
       "14978  Scientists who are working to better understan...   \n",
       "14979  Many Areas of Research Scientists are constant...   \n",
       "14980  The National Institute of Neurological Disorde...   \n",
       "\n",
       "                                                 prompts  outputs  \n",
       "0      <|im_start|>system\\nYou are a highly intellige...        1  \n",
       "1      <|im_start|>system\\nYou are a highly intellige...        1  \n",
       "2      <|im_start|>system\\nYou are a highly intellige...        1  \n",
       "3      <|im_start|>system\\nYou are a highly intellige...        1  \n",
       "4      <|im_start|>system\\nYou are a highly intellige...        1  \n",
       "...                                                  ...      ...  \n",
       "14976  <|im_start|>system\\nYou are a highly intellige...        1  \n",
       "14977  <|im_start|>system\\nYou are a highly intellige...        1  \n",
       "14978  <|im_start|>system\\nYou are a highly intellige...        1  \n",
       "14979  <|im_start|>system\\nYou are a highly intellige...        1  \n",
       "14980  <|im_start|>system\\nYou are a highly intellige...        1  \n",
       "\n",
       "[14981 rows x 6 columns]"
      ]
     },
     "execution_count": 57,
     "metadata": {},
     "output_type": "execute_result"
    }
   ],
   "source": [
    "qa_processed = pd.read_csv(\"qa_outputs_v2.csv\")\n",
    "qa_processed"
   ]
  },
  {
   "cell_type": "code",
   "execution_count": null,
   "metadata": {
    "id": "EJcuWtcRZ3wM",
    "outputId": "1238079e-6072-44be-b25f-fe1e36e97c49"
   },
   "outputs": [
    {
     "data": {
      "text/plain": [
       "                                                question  \\\n",
       "0                      Do you have information about A1C   \n",
       "1              Do you have information about Acupuncture   \n",
       "2                 Do you have information about Adoption   \n",
       "3       Do you have information about Advance Directives   \n",
       "4      Do you have information about African American...   \n",
       "...                                                  ...   \n",
       "14976  what research (or clinical trials) is being do...   \n",
       "14977  what research (or clinical trials) is being do...   \n",
       "14978  what research (or clinical trials) is being do...   \n",
       "14979  what research (or clinical trials) is being do...   \n",
       "14980  what research (or clinical trials) is being do...   \n",
       "\n",
       "                                                 answers  \\\n",
       "0      Summary : A1C is a blood test for type 2 diabe...   \n",
       "1      Summary : Acupuncture has been practiced in Ch...   \n",
       "2      Summary : Adoption brings a child born to othe...   \n",
       "3      Summary : What kind of medical care would you ...   \n",
       "4      Summary : Every racial or ethnic group has spe...   \n",
       "...                                                  ...   \n",
       "14976  The National Institute on Deafness and Other C...   \n",
       "14977  Scientists continue to look at new ways to pre...   \n",
       "14978  Scientists who are working to better understan...   \n",
       "14979  Many Areas of Research Scientists are constant...   \n",
       "14980  The National Institute of Neurological Disorde...   \n",
       "\n",
       "                                                 prompts  outputs  \n",
       "0      <|im_start|>system\\nYou are a highly intellige...        1  \n",
       "1      <|im_start|>system\\nYou are a highly intellige...        1  \n",
       "2      <|im_start|>system\\nYou are a highly intellige...        1  \n",
       "3      <|im_start|>system\\nYou are a highly intellige...        1  \n",
       "4      <|im_start|>system\\nYou are a highly intellige...        1  \n",
       "...                                                  ...      ...  \n",
       "14976  <|im_start|>system\\nYou are a highly intellige...        1  \n",
       "14977  <|im_start|>system\\nYou are a highly intellige...        1  \n",
       "14978  <|im_start|>system\\nYou are a highly intellige...        1  \n",
       "14979  <|im_start|>system\\nYou are a highly intellige...        1  \n",
       "14980  <|im_start|>system\\nYou are a highly intellige...        1  \n",
       "\n",
       "[14981 rows x 4 columns]"
      ]
     },
     "execution_count": 58,
     "metadata": {},
     "output_type": "execute_result"
    }
   ],
   "source": [
    "qa_processed.drop(columns=[\"Unnamed: 0\", \"Unnamed: 0.1\"], inplace=True)\n",
    "qa_processed"
   ]
  },
  {
   "cell_type": "code",
   "execution_count": null,
   "metadata": {
    "id": "Q-b1-M3AZ_dt",
    "outputId": "6041ea97-aa2e-4e35-d2aa-1ae8c2037c9e"
   },
   "outputs": [
    {
     "data": {
      "text/plain": [
       "                                                question  \\\n",
       "0                      Do you have information about A1C   \n",
       "1              Do you have information about Acupuncture   \n",
       "2                 Do you have information about Adoption   \n",
       "3       Do you have information about Advance Directives   \n",
       "4      Do you have information about African American...   \n",
       "...                                                  ...   \n",
       "14976  what research (or clinical trials) is being do...   \n",
       "14977  what research (or clinical trials) is being do...   \n",
       "14978  what research (or clinical trials) is being do...   \n",
       "14979  what research (or clinical trials) is being do...   \n",
       "14980  what research (or clinical trials) is being do...   \n",
       "\n",
       "                                                 answers  \\\n",
       "0      Summary : A1C is a blood test for type 2 diabe...   \n",
       "1      Summary : Acupuncture has been practiced in Ch...   \n",
       "2      Summary : Adoption brings a child born to othe...   \n",
       "3      Summary : What kind of medical care would you ...   \n",
       "4      Summary : Every racial or ethnic group has spe...   \n",
       "...                                                  ...   \n",
       "14976  The National Institute on Deafness and Other C...   \n",
       "14977  Scientists continue to look at new ways to pre...   \n",
       "14978  Scientists who are working to better understan...   \n",
       "14979  Many Areas of Research Scientists are constant...   \n",
       "14980  The National Institute of Neurological Disorde...   \n",
       "\n",
       "                                                 prompts  outputs  \n",
       "0      <|im_start|>system\\nYou are a highly intellige...        1  \n",
       "1      <|im_start|>system\\nYou are a highly intellige...        1  \n",
       "2      <|im_start|>system\\nYou are a highly intellige...        1  \n",
       "3      <|im_start|>system\\nYou are a highly intellige...        1  \n",
       "4      <|im_start|>system\\nYou are a highly intellige...        1  \n",
       "...                                                  ...      ...  \n",
       "14976  <|im_start|>system\\nYou are a highly intellige...        1  \n",
       "14977  <|im_start|>system\\nYou are a highly intellige...        1  \n",
       "14978  <|im_start|>system\\nYou are a highly intellige...        1  \n",
       "14979  <|im_start|>system\\nYou are a highly intellige...        1  \n",
       "14980  <|im_start|>system\\nYou are a highly intellige...        1  \n",
       "\n",
       "[13479 rows x 4 columns]"
      ]
     },
     "execution_count": 59,
     "metadata": {},
     "output_type": "execute_result"
    }
   ],
   "source": [
    "# select only the rows that passed the vibe check\n",
    "qa_processed[\"outputs\"] = qa_processed[\"outputs\"].apply(lambda x: int(x))\n",
    "qa_processed = qa_processed.loc[qa_processed[\"outputs\"] == 1]\n",
    "qa_processed"
   ]
  },
  {
   "cell_type": "code",
   "execution_count": null,
   "metadata": {
    "id": "9r48syB7c58h",
    "outputId": "ad23c5e9-c73a-4cfe-f3c5-e06677c08ab8"
   },
   "outputs": [
    {
     "name": "stderr",
     "output_type": "stream",
     "text": [
      "/tmp/ipython-input-2089436392.py:1: SettingWithCopyWarning: \n",
      "A value is trying to be set on a copy of a slice from a DataFrame\n",
      "\n",
      "See the caveats in the documentation: https://pandas.pydata.org/pandas-docs/stable/user_guide/indexing.html#returning-a-view-versus-a-copy\n",
      "  qa_processed.dropna(inplace=True)\n"
     ]
    },
    {
     "data": {
      "text/plain": [
       "                                                question  \\\n",
       "0                      Do you have information about A1C   \n",
       "1              Do you have information about Acupuncture   \n",
       "2                 Do you have information about Adoption   \n",
       "3       Do you have information about Advance Directives   \n",
       "4      Do you have information about African American...   \n",
       "...                                                  ...   \n",
       "14976  what research (or clinical trials) is being do...   \n",
       "14977  what research (or clinical trials) is being do...   \n",
       "14978  what research (or clinical trials) is being do...   \n",
       "14979  what research (or clinical trials) is being do...   \n",
       "14980  what research (or clinical trials) is being do...   \n",
       "\n",
       "                                                 answers  \\\n",
       "0      Summary : A1C is a blood test for type 2 diabe...   \n",
       "1      Summary : Acupuncture has been practiced in Ch...   \n",
       "2      Summary : Adoption brings a child born to othe...   \n",
       "3      Summary : What kind of medical care would you ...   \n",
       "4      Summary : Every racial or ethnic group has spe...   \n",
       "...                                                  ...   \n",
       "14976  The National Institute on Deafness and Other C...   \n",
       "14977  Scientists continue to look at new ways to pre...   \n",
       "14978  Scientists who are working to better understan...   \n",
       "14979  Many Areas of Research Scientists are constant...   \n",
       "14980  The National Institute of Neurological Disorde...   \n",
       "\n",
       "                                                 prompts  outputs  \n",
       "0      <|im_start|>system\\nYou are a highly intellige...        1  \n",
       "1      <|im_start|>system\\nYou are a highly intellige...        1  \n",
       "2      <|im_start|>system\\nYou are a highly intellige...        1  \n",
       "3      <|im_start|>system\\nYou are a highly intellige...        1  \n",
       "4      <|im_start|>system\\nYou are a highly intellige...        1  \n",
       "...                                                  ...      ...  \n",
       "14976  <|im_start|>system\\nYou are a highly intellige...        1  \n",
       "14977  <|im_start|>system\\nYou are a highly intellige...        1  \n",
       "14978  <|im_start|>system\\nYou are a highly intellige...        1  \n",
       "14979  <|im_start|>system\\nYou are a highly intellige...        1  \n",
       "14980  <|im_start|>system\\nYou are a highly intellige...        1  \n",
       "\n",
       "[13476 rows x 4 columns]"
      ]
     },
     "execution_count": 68,
     "metadata": {},
     "output_type": "execute_result"
    }
   ],
   "source": [
    "# drop NaN rows\n",
    "qa_processed.dropna(inplace=True)\n",
    "qa_processed"
   ]
  },
  {
   "cell_type": "code",
   "execution_count": null,
   "metadata": {
    "id": "a4dNMxiHYTrU",
    "outputId": "31e2d443-78cc-4dbd-a19d-715cdffa445b"
   },
   "outputs": [
    {
     "data": {
      "text/plain": [
       "                                                question  \\\n",
       "0           What is (are) keratoderma with woolly hair ?   \n",
       "1      How many people are affected by keratoderma wi...   \n",
       "2      What are the genetic changes related to kerato...   \n",
       "3            Is keratoderma with woolly hair inherited ?   \n",
       "4                      What is (are) Knobloch syndrome ?   \n",
       "...                                                  ...   \n",
       "13495  What are the symptoms of What I need to know a...   \n",
       "13496  How to diagnose What I need to know about Cirr...   \n",
       "13497  What are the treatments for What I need to kno...   \n",
       "13498  How to prevent What I need to know about Cirrh...   \n",
       "13499  What to do for What I need to know about Cirrh...   \n",
       "\n",
       "                                                 answers    question_type  \\\n",
       "0      Keratoderma with woolly hair is a group of rel...      information   \n",
       "1      Keratoderma with woolly hair is rare; its prev...        frequency   \n",
       "2      Mutations in the JUP, DSP, DSC2, and KANK2 gen...  genetic changes   \n",
       "3      Most cases of keratoderma with woolly hair hav...      inheritance   \n",
       "4      Knobloch syndrome is a rare condition characte...      information   \n",
       "...                                                  ...              ...   \n",
       "13495  You may have no symptoms in the early stages o...         symptoms   \n",
       "13496  Your doctor will examine you and may perform\\n...  exams and tests   \n",
       "13497  Once you have cirrhosis, nothing can make all ...        treatment   \n",
       "13498  To prevent cirrhosis,\\n                \\n- see...       prevention   \n",
       "13499  - Cirrhosis is scarring of the liver. Scar tis...   considerations   \n",
       "\n",
       "                            question_focus  \n",
       "0             keratoderma with woolly hair  \n",
       "1             keratoderma with woolly hair  \n",
       "2             keratoderma with woolly hair  \n",
       "3             keratoderma with woolly hair  \n",
       "4                        Knobloch syndrome  \n",
       "...                                    ...  \n",
       "13495  What I need to know about Cirrhosis  \n",
       "13496  What I need to know about Cirrhosis  \n",
       "13497  What I need to know about Cirrhosis  \n",
       "13498  What I need to know about Cirrhosis  \n",
       "13499  What I need to know about Cirrhosis  \n",
       "\n",
       "[13500 rows x 4 columns]"
      ]
     },
     "execution_count": 69,
     "metadata": {},
     "output_type": "execute_result"
    }
   ],
   "source": [
    "keys = [\"question\", \"answers\"]\n",
    "\n",
    "# semi-join: keep only original rows whose (q,a) appear in processed\n",
    "matched = data.merge(qa_processed, on=keys, how=\"inner\")\n",
    "matched = matched[[\"question\", \"answers\", \"question_type\", \"question_focus\"]]\n",
    "matched"
   ]
  },
  {
   "cell_type": "code",
   "execution_count": null,
   "metadata": {
    "id": "NYOHajCxaeLF",
    "outputId": "c92b9907-1fdd-4709-de76-83ffa08a8270"
   },
   "outputs": [
    {
     "data": {
      "text/plain": [
       "                                                question  \\\n",
       "0           What is (are) keratoderma with woolly hair ?   \n",
       "1      How many people are affected by keratoderma wi...   \n",
       "2      What are the genetic changes related to kerato...   \n",
       "3            Is keratoderma with woolly hair inherited ?   \n",
       "4                      What is (are) Knobloch syndrome ?   \n",
       "...                                                  ...   \n",
       "13495  What are the symptoms of What I need to know a...   \n",
       "13496  How to diagnose What I need to know about Cirr...   \n",
       "13497  What are the treatments for What I need to kno...   \n",
       "13498  How to prevent What I need to know about Cirrh...   \n",
       "13499  What to do for What I need to know about Cirrh...   \n",
       "\n",
       "                                                 answers  \n",
       "0      Keratoderma with woolly hair is a group of rel...  \n",
       "1      Keratoderma with woolly hair is rare; its prev...  \n",
       "2      Mutations in the JUP, DSP, DSC2, and KANK2 gen...  \n",
       "3      Most cases of keratoderma with woolly hair hav...  \n",
       "4      Knobloch syndrome is a rare condition characte...  \n",
       "...                                                  ...  \n",
       "13495  You may have no symptoms in the early stages o...  \n",
       "13496  Your doctor will examine you and may perform\\n...  \n",
       "13497  Once you have cirrhosis, nothing can make all ...  \n",
       "13498  To prevent cirrhosis,\\n                \\n- see...  \n",
       "13499  - Cirrhosis is scarring of the liver. Scar tis...  \n",
       "\n",
       "[13474 rows x 2 columns]"
      ]
     },
     "execution_count": 70,
     "metadata": {},
     "output_type": "execute_result"
    }
   ],
   "source": [
    "matched[keys].drop_duplicates(keep=\"last\")"
   ]
  },
  {
   "cell_type": "code",
   "execution_count": null,
   "metadata": {
    "id": "SZkFn8RfbAJ3",
    "outputId": "66a0c250-bcc0-43d5-b2fe-5dafb5fc5e3a"
   },
   "outputs": [
    {
     "name": "stdout",
     "output_type": "stream",
     "text": [
      "processed unique pairs: 13476\n",
      "original  unique pairs: 16359\n",
      "duplicate pairs in original: 32\n"
     ]
    },
    {
     "data": {
      "text/plain": [
       "                              question  \\\n",
       "0     What causes Causes of Diabetes ?   \n",
       "1  What to do for Causes of Diabetes ?   \n",
       "2     What causes Causes of Diabetes ?   \n",
       "3     What causes Causes of Diabetes ?   \n",
       "4     What causes Causes of Diabetes ?   \n",
       "\n",
       "                                             answers  count  \n",
       "0  Other types of diabetes have a variety of poss...      8  \n",
       "1  - Diabetes is a complex group of diseases with...      4  \n",
       "2  Insulin Resistance and Beta Cell Dysfunction\\n...      4  \n",
       "3  Type 1 diabetes is caused by a lack of insulin...      4  \n",
       "4  Type 2 diabetesthe most common form of diabete...      4  "
      ]
     },
     "execution_count": 71,
     "metadata": {},
     "output_type": "execute_result"
    }
   ],
   "source": [
    "keys = [\"question\", \"answers\"] # columns I care about\n",
    "\n",
    "# inspect how many duplicate pairs exist in each (original and processed)\n",
    "print(\"processed unique pairs:\", qa_processed[keys].drop_duplicates().shape[0])\n",
    "print(\"original  unique pairs:\", data[keys].drop_duplicates().shape[0])\n",
    "\n",
    "# which (q,a) are duplicated in the original\n",
    "dupes_in_original = (\n",
    "    data[keys].value_counts().reset_index(name=\"count\").query(\"count > 1\")\n",
    ")\n",
    "print(\"duplicate pairs in original:\", len(dupes_in_original))\n",
    "dupes_in_original.head()\n"
   ]
  },
  {
   "cell_type": "code",
   "execution_count": null,
   "metadata": {
    "id": "HcQYIejHcHH3",
    "outputId": "269f3d87-d85c-46ef-adac-c8b5ba976dc9"
   },
   "outputs": [
    {
     "name": "stdout",
     "output_type": "stream",
     "text": [
      "processed pairs not found in original: 2\n"
     ]
    },
    {
     "data": {
      "text/plain": [
       "                                          question  \\\n",
       "1973  How to prevent Eastern Equine Encephalitis ?   \n",
       "1999       How to prevent La Crosse Encephalitis ?   \n",
       "\n",
       "                                                answers  \n",
       "1973  There is no vaccine against Eastern equine enc...  \n",
       "1999  There is no vaccine against La Crosse encephal...  "
      ]
     },
     "execution_count": 72,
     "metadata": {},
     "output_type": "execute_result"
    }
   ],
   "source": [
    "# find pairs in processed dataset not found in original\n",
    "missing = (\n",
    "    qa_processed[keys].drop_duplicates()\n",
    "    .merge(data[keys].drop_duplicates(), on=keys, how=\"left\", indicator=True)\n",
    ")\n",
    "not_found = missing[missing[\"_merge\"] == \"left_only\"][keys]\n",
    "print(\"processed pairs not found in original:\", len(not_found))\n",
    "not_found.head()\n"
   ]
  },
  {
   "cell_type": "code",
   "execution_count": null,
   "metadata": {
    "id": "MMXItCzVcTQe",
    "outputId": "f3f2a794-eb77-4f43-c032-d3c56a052cdd"
   },
   "outputs": [
    {
     "name": "stdout",
     "output_type": "stream",
     "text": [
      "processed rows: 13476\n",
      "matched rows:   13476\n",
      "missing rows:   2\n"
     ]
    }
   ],
   "source": [
    "# take original dataset, then merge only on items that are coinciding with the final processed dataset\n",
    "orig_meta = (\n",
    "    data\n",
    "    .drop_duplicates(subset=keys, keep=\"first\")\n",
    "    [[*keys, \"question_type\", \"question_focus\"]]\n",
    ")\n",
    "matched = qa_processed.merge(orig_meta, on=keys, how=\"left\")\n",
    "\n",
    "print(\"processed rows:\", len(qa_processed))\n",
    "print(\"matched rows:  \", len(matched))  # should equal processed\n",
    "print(\"missing rows:  \", matched[\"question_type\"].isna().sum())"
   ]
  },
  {
   "cell_type": "code",
   "execution_count": null,
   "metadata": {
    "id": "pXiY_EQodX2N"
   },
   "outputs": [],
   "source": [
    "matched.to_csv(\"medquad_processed_with_labels.csv\", index=False)"
   ]
  },
  {
   "cell_type": "code",
   "execution_count": null,
   "metadata": {
    "id": "iuChdgaQdytk",
    "outputId": "710638d7-eb0b-40a7-d984-003de65ab4ef"
   },
   "outputs": [
    {
     "data": {
      "text/plain": [
       "                                                question  \\\n",
       "0                      Do you have information about A1C   \n",
       "1              Do you have information about Acupuncture   \n",
       "2                 Do you have information about Adoption   \n",
       "3       Do you have information about Advance Directives   \n",
       "4      Do you have information about African American...   \n",
       "...                                                  ...   \n",
       "13471  what research (or clinical trials) is being do...   \n",
       "13472  what research (or clinical trials) is being do...   \n",
       "13473  what research (or clinical trials) is being do...   \n",
       "13474  what research (or clinical trials) is being do...   \n",
       "13475  what research (or clinical trials) is being do...   \n",
       "\n",
       "                                                 answers  \\\n",
       "0      Summary : A1C is a blood test for type 2 diabe...   \n",
       "1      Summary : Acupuncture has been practiced in Ch...   \n",
       "2      Summary : Adoption brings a child born to othe...   \n",
       "3      Summary : What kind of medical care would you ...   \n",
       "4      Summary : Every racial or ethnic group has spe...   \n",
       "...                                                  ...   \n",
       "13471  The National Institute on Deafness and Other C...   \n",
       "13472  Scientists continue to look at new ways to pre...   \n",
       "13473  Scientists who are working to better understan...   \n",
       "13474  Many Areas of Research Scientists are constant...   \n",
       "13475  The National Institute of Neurological Disorde...   \n",
       "\n",
       "                                                 prompts  outputs  \\\n",
       "0      <|im_start|>system\\nYou are a highly intellige...        1   \n",
       "1      <|im_start|>system\\nYou are a highly intellige...        1   \n",
       "2      <|im_start|>system\\nYou are a highly intellige...        1   \n",
       "3      <|im_start|>system\\nYou are a highly intellige...        1   \n",
       "4      <|im_start|>system\\nYou are a highly intellige...        1   \n",
       "...                                                  ...      ...   \n",
       "13471  <|im_start|>system\\nYou are a highly intellige...        1   \n",
       "13472  <|im_start|>system\\nYou are a highly intellige...        1   \n",
       "13473  <|im_start|>system\\nYou are a highly intellige...        1   \n",
       "13474  <|im_start|>system\\nYou are a highly intellige...        1   \n",
       "13475  <|im_start|>system\\nYou are a highly intellige...        1   \n",
       "\n",
       "      question_type           question_focus  \n",
       "0       information                      A1C  \n",
       "1       information              Acupuncture  \n",
       "2       information                 Adoption  \n",
       "3       information       Advance Directives  \n",
       "4       information  African American Health  \n",
       "...             ...                      ...  \n",
       "13471      research      Problems with Taste  \n",
       "13472      research          Prostate Cancer  \n",
       "13473      research                Psoriasis  \n",
       "13474      research              Skin Cancer  \n",
       "13475      research                   Stroke  \n",
       "\n",
       "[13476 rows x 6 columns]"
      ]
     },
     "execution_count": 76,
     "metadata": {},
     "output_type": "execute_result"
    }
   ],
   "source": [
    "matched = pd.read_csv(\"medquad_processed_with_labels.csv\")\n",
    "matched"
   ]
  },
  {
   "cell_type": "code",
   "execution_count": null,
   "metadata": {
    "id": "xaB6TuFqd_BI",
    "outputId": "bf35be96-352c-4c32-a8ba-7f5f9b87a776"
   },
   "outputs": [
    {
     "data": {
      "text/plain": [
       "question_type\n",
       "information        3697\n",
       "symptoms           2363\n",
       "treatment          1349\n",
       "inheritance        1348\n",
       "frequency          1107\n",
       "genetic changes    1057\n",
       "causes              639\n",
       "exams and tests     577\n",
       "outlook             351\n",
       "research            349\n",
       "susceptibility      235\n",
       "prevention          170\n",
       "considerations      121\n",
       "stages               68\n",
       "complications        42\n",
       "support groups        1\n",
       "Name: count, dtype: int64"
      ]
     },
     "execution_count": 80,
     "metadata": {},
     "output_type": "execute_result"
    }
   ],
   "source": [
    "matched[\"question_type\"].value_counts()"
   ]
  },
  {
   "cell_type": "code",
   "execution_count": null,
   "metadata": {
    "id": "OhSIvWvFeLLP",
    "outputId": "864c42bf-5fd9-46bc-b647-7f306dae7140"
   },
   "outputs": [
    {
     "data": {
      "text/plain": [
       "question_focus\n",
       "Prostate Cancer                                   10\n",
       "Skin Cancer                                       10\n",
       "Wilson Disease                                    10\n",
       "Shingles                                          10\n",
       "Breast Cancer                                     10\n",
       "                                                  ..\n",
       "Pediatric ulcerative colitis                       1\n",
       "Pelizaeus-Merzbacher-like disease                  1\n",
       "Pellagra like syndrome                             1\n",
       "Pelvic dysplasia arthrogryposis of lower limbs     1\n",
       "Ornithine translocase deficiency syndrome          1\n",
       "Name: count, Length: 4866, dtype: int64"
      ]
     },
     "execution_count": 81,
     "metadata": {},
     "output_type": "execute_result"
    }
   ],
   "source": [
    "matched[\"question_focus\"].value_counts()"
   ]
  },
  {
   "cell_type": "code",
   "execution_count": null,
   "metadata": {
    "id": "lBbsdUzveXT7",
    "outputId": "0d244669-3f83-4be7-ccb7-d31067832acd"
   },
   "outputs": [
    {
     "data": {
      "image/png": "[encoded data removed]",
      "text/plain": [
       "<Figure size 640x480 with 1 Axes>"
      ]
     },
     "metadata": {},
     "output_type": "display_data"
    }
   ],
   "source": [
    "import matplotlib.pyplot as plt\n",
    "\n",
    "ax = matched[\"question_type\"].value_counts().plot(kind=\"bar\")\n",
    "ax.set_xlabel(\"question type\")\n",
    "ax.set_ylabel(\"count\")\n",
    "ax.set_title(\"question type distribution\")\n",
    "plt.tight_layout()\n",
    "plt.show()\n"
   ]
  },
  {
   "cell_type": "code",
   "execution_count": null,
   "metadata": {
    "id": "93OJdGxyiNwA",
    "outputId": "199e3674-7942-4c65-ded1-f6fa8e001b76"
   },
   "outputs": [
    {
     "data": {
      "text/plain": [
       "['Many people with alcohol problems find it helpful to talk with others who have faced similar problems. Mutual help groups, such as Alcoholics Anonymous (AA) 12-step programs, help people recover from alcohol use disorder. AA meetings are open to anyone who wants to stop drinking. Attending mutual-help groups is beneficial for many people who want to stop drinking. Many people continue to go to support/mutual help groups even after medical treatment for their alcohol problems ends. There are other mutual help groups available such as Smart Recovery, Life Ring, and Moderation Management.  Learn more about available types of treatment for alcohol problems.']"
      ]
     },
     "execution_count": 87,
     "metadata": {},
     "output_type": "execute_result"
    }
   ],
   "source": [
    "matched.loc[matched[\"question_type\"] == \"support groups\"][\"answers\"].tolist()"
   ]
  },
  {
   "cell_type": "code",
   "execution_count": null,
   "metadata": {
    "id": "Zh_qMGgtiybl"
   },
   "outputs": [],
   "source": [
    "matched.to_csv(\"medquad_matched_processed.csv\", index=False)"
   ]
  },
  {
   "cell_type": "code",
   "execution_count": null,
   "metadata": {
    "id": "rTRwnCkslxtQ",
    "outputId": "c0789aaa-23ee-4430-a96b-a80364c92f9a"
   },
   "outputs": [
    {
     "data": {
      "text/plain": [
       "                                                question  \\\n",
       "0                      Do you have information about A1C   \n",
       "1              Do you have information about Acupuncture   \n",
       "2                 Do you have information about Adoption   \n",
       "3       Do you have information about Advance Directives   \n",
       "4      Do you have information about African American...   \n",
       "...                                                  ...   \n",
       "13471  what research (or clinical trials) is being do...   \n",
       "13472  what research (or clinical trials) is being do...   \n",
       "13473  what research (or clinical trials) is being do...   \n",
       "13474  what research (or clinical trials) is being do...   \n",
       "13475  what research (or clinical trials) is being do...   \n",
       "\n",
       "                                                 answers  \\\n",
       "0      Summary : A1C is a blood test for type 2 diabe...   \n",
       "1      Summary : Acupuncture has been practiced in Ch...   \n",
       "2      Summary : Adoption brings a child born to othe...   \n",
       "3      Summary : What kind of medical care would you ...   \n",
       "4      Summary : Every racial or ethnic group has spe...   \n",
       "...                                                  ...   \n",
       "13471  The National Institute on Deafness and Other C...   \n",
       "13472  Scientists continue to look at new ways to pre...   \n",
       "13473  Scientists who are working to better understan...   \n",
       "13474  Many Areas of Research Scientists are constant...   \n",
       "13475  The National Institute of Neurological Disorde...   \n",
       "\n",
       "                                                 prompts  outputs  \\\n",
       "0      <|im_start|>system\\nYou are a highly intellige...        1   \n",
       "1      <|im_start|>system\\nYou are a highly intellige...        1   \n",
       "2      <|im_start|>system\\nYou are a highly intellige...        1   \n",
       "3      <|im_start|>system\\nYou are a highly intellige...        1   \n",
       "4      <|im_start|>system\\nYou are a highly intellige...        1   \n",
       "...                                                  ...      ...   \n",
       "13471  <|im_start|>system\\nYou are a highly intellige...        1   \n",
       "13472  <|im_start|>system\\nYou are a highly intellige...        1   \n",
       "13473  <|im_start|>system\\nYou are a highly intellige...        1   \n",
       "13474  <|im_start|>system\\nYou are a highly intellige...        1   \n",
       "13475  <|im_start|>system\\nYou are a highly intellige...        1   \n",
       "\n",
       "      question_type           question_focus  \n",
       "0       information                      A1C  \n",
       "1       information              Acupuncture  \n",
       "2       information                 Adoption  \n",
       "3       information       Advance Directives  \n",
       "4       information  African American Health  \n",
       "...             ...                      ...  \n",
       "13471      research      Problems with Taste  \n",
       "13472      research          Prostate Cancer  \n",
       "13473      research                Psoriasis  \n",
       "13474      research              Skin Cancer  \n",
       "13475      research                   Stroke  \n",
       "\n",
       "[13476 rows x 6 columns]"
      ]
     },
     "execution_count": 4,
     "metadata": {},
     "output_type": "execute_result"
    }
   ],
   "source": [
    "import pandas as pd\n",
    "\n",
    "data = pd.read_csv(\"medquad_matched_processed.csv\")\n",
    "data"
   ]
  },
  {
   "cell_type": "markdown",
   "metadata": {
    "id": "BLQzUZqPz8G_"
   },
   "source": [
    "# Train-test-split"
   ]
  },
  {
   "cell_type": "code",
   "execution_count": null,
   "metadata": {
    "id": "OGdTRPEo4R8O",
    "outputId": "fa9db103-e41a-4057-9973-998801003906"
   },
   "outputs": [
    {
     "data": {
      "text/plain": [
       "                                                question  \\\n",
       "9413                     What is (are) Episodic ataxia ?   \n",
       "9042                 What is (are) Cat scratch disease ?   \n",
       "8687   What is (are) 3-hydroxy-3-methylglutaryl-CoA l...   \n",
       "11330  What is (are) hereditary neuropathy with liabi...   \n",
       "9982   What is (are) Limb-girdle muscular dystrophy t...   \n",
       "...                                                  ...   \n",
       "12394  what research (or clinical trials) is being do...   \n",
       "12481  what research (or clinical trials) is being do...   \n",
       "12479  what research (or clinical trials) is being do...   \n",
       "12499  what research (or clinical trials) is being do...   \n",
       "12626  what research (or clinical trials) is being do...   \n",
       "\n",
       "                                                 answers question_type  \n",
       "9413   Episodic ataxia refers to a group of related c...   information  \n",
       "9042   Cat scratch disease is an infectious illness c...   information  \n",
       "8687   3-hydroxy-3-methylglutaryl-CoA lyase deficienc...   information  \n",
       "11330  Hereditary neuropathy with liability to pressu...   information  \n",
       "9982   Limb-girdle muscular dystrophy type 2I (LGMD2I...   information  \n",
       "...                                                  ...           ...  \n",
       "12394  The mission of the National Institute of Neuro...      research  \n",
       "12481  The NINDS supports research on neurological di...      research  \n",
       "12479  The NINDS conducts and supports a wide range o...      research  \n",
       "12499  The mission of the National Institute of Neuro...      research  \n",
       "12626  New types of treatment are being tested in cli...      research  \n",
       "\n",
       "[2694 rows x 3 columns]"
      ]
     },
     "execution_count": 5,
     "metadata": {},
     "output_type": "execute_result"
    }
   ],
   "source": [
    "# take a stratified validation split by selecting 20% from each category\n",
    "val_split_by_category = pd.DataFrame(columns=[\"question\", \"answers\", \"question_type\"])\n",
    "for q_type in data[\"question_type\"].unique().tolist():\n",
    "    if q_type != \"support groups\":\n",
    "        sample = data.loc[data[\"question_type\"] == q_type].sample(frac=0.2, random_state=42)[[\"question\", \"answers\", \"question_type\"]]\n",
    "        val_split_by_category = pd.concat([val_split_by_category, sample])\n",
    "\n",
    "val_split_by_category\n",
    "\n"
   ]
  },
  {
   "cell_type": "code",
   "execution_count": null,
   "metadata": {
    "id": "QLFQm3aW4oVn"
   },
   "outputs": [],
   "source": [
    "val_split_by_category.to_csv(\"val_split_by_category.csv\", index=False)"
   ]
  },
  {
   "cell_type": "code",
   "execution_count": null,
   "metadata": {
    "id": "dmacI3ET7OsT",
    "outputId": "86287d5f-5895-4d9a-f851-aca8b424fa45"
   },
   "outputs": [
    {
     "data": {
      "text/plain": [
       "                                                question  \\\n",
       "1              Do you have information about Acupuncture   \n",
       "2                 Do you have information about Adoption   \n",
       "3       Do you have information about Advance Directives   \n",
       "4      Do you have information about African American...   \n",
       "5            Do you have information about Air Pollution   \n",
       "...                                                  ...   \n",
       "13471  what research (or clinical trials) is being do...   \n",
       "13472  what research (or clinical trials) is being do...   \n",
       "13473  what research (or clinical trials) is being do...   \n",
       "13474  what research (or clinical trials) is being do...   \n",
       "13475  what research (or clinical trials) is being do...   \n",
       "\n",
       "                                                 answers  \\\n",
       "1      Summary : Acupuncture has been practiced in Ch...   \n",
       "2      Summary : Adoption brings a child born to othe...   \n",
       "3      Summary : What kind of medical care would you ...   \n",
       "4      Summary : Every racial or ethnic group has spe...   \n",
       "5      Summary : Air pollution is a mixture of solid ...   \n",
       "...                                                  ...   \n",
       "13471  The National Institute on Deafness and Other C...   \n",
       "13472  Scientists continue to look at new ways to pre...   \n",
       "13473  Scientists who are working to better understan...   \n",
       "13474  Many Areas of Research Scientists are constant...   \n",
       "13475  The National Institute of Neurological Disorde...   \n",
       "\n",
       "                                                 prompts  outputs  \\\n",
       "1      <|im_start|>system\\nYou are a highly intellige...        1   \n",
       "2      <|im_start|>system\\nYou are a highly intellige...        1   \n",
       "3      <|im_start|>system\\nYou are a highly intellige...        1   \n",
       "4      <|im_start|>system\\nYou are a highly intellige...        1   \n",
       "5      <|im_start|>system\\nYou are a highly intellige...        1   \n",
       "...                                                  ...      ...   \n",
       "13471  <|im_start|>system\\nYou are a highly intellige...        1   \n",
       "13472  <|im_start|>system\\nYou are a highly intellige...        1   \n",
       "13473  <|im_start|>system\\nYou are a highly intellige...        1   \n",
       "13474  <|im_start|>system\\nYou are a highly intellige...        1   \n",
       "13475  <|im_start|>system\\nYou are a highly intellige...        1   \n",
       "\n",
       "      question_type           question_focus  \n",
       "1       information              Acupuncture  \n",
       "2       information                 Adoption  \n",
       "3       information       Advance Directives  \n",
       "4       information  African American Health  \n",
       "5       information            Air Pollution  \n",
       "...             ...                      ...  \n",
       "13471      research      Problems with Taste  \n",
       "13472      research          Prostate Cancer  \n",
       "13473      research                Psoriasis  \n",
       "13474      research              Skin Cancer  \n",
       "13475      research                   Stroke  \n",
       "\n",
       "[10782 rows x 6 columns]"
      ]
     },
     "execution_count": 7,
     "metadata": {},
     "output_type": "execute_result"
    }
   ],
   "source": [
    "# take a train split by excluding the validation selections\n",
    "train_split = data.loc[~data[\"question\"].isin(val_split_by_category[\"question\"])]\n",
    "train_split"
   ]
  },
  {
   "cell_type": "code",
   "execution_count": null,
   "metadata": {
    "id": "-uKLomgN715H"
   },
   "outputs": [],
   "source": [
    "train_split.to_csv(\"train_split.csv\", index=False)"
   ]
  },
  {
   "cell_type": "code",
   "execution_count": null,
   "metadata": {
    "id": "a2gjccSl3Xgw",
    "outputId": "36e4f6a2-d2b1-4a98-8d25-049bc11b8f32"
   },
   "outputs": [
    {
     "name": "stderr",
     "output_type": "stream",
     "text": [
      "wandb: Currently logged in as: banalyst to https://api.wandb.ai. Use `wandb login --relogin` to force relogin\n"
     ]
    },
    {
     "data": {
      "text/plain": [
       "True"
      ]
     },
     "execution_count": 3,
     "metadata": {},
     "output_type": "execute_result"
    }
   ],
   "source": [
    "import os, wandb\n",
    "os.environ[\"WANDB_PROJECT\"] = \"medquad-sft\"\n",
    "os.environ[\"WANDB_NAME\"]    = \"qwen-medquad-lora\"\n",
    "os.environ[\"WANDB_LOG_MODEL\"] = \"false\"\n",
    "os.environ[\"WANDB_WATCH\"]     = \"false\"\n",
    "\n",
    "wandb.login()"
   ]
  },
  {
   "cell_type": "markdown",
   "metadata": {
    "id": "JLUkL9MZz__g"
   },
   "source": [
    "# Evaluation (SQuAD EM and f1-score)"
   ]
  },
  {
   "cell_type": "code",
   "execution_count": null,
   "metadata": {
    "id": "HP6fa-Iw78hU",
    "outputId": "2e8e5031-032f-425e-b607-568b81089280"
   },
   "outputs": [
    {
     "name": "stderr",
     "output_type": "stream",
     "text": [
      "/usr/local/lib/python3.12/dist-packages/huggingface_hub/utils/_auth.py:94: UserWarning: \n",
      "The secret `HF_TOKEN` does not exist in your Colab secrets.\n",
      "To authenticate with the Hugging Face Hub, create a token in your settings tab (https://huggingface.co/settings/tokens), set it as secret in your Google Colab and restart your session.\n",
      "You will be able to reuse this secret in all of your notebooks.\n",
      "Please note that authentication is recommended but still optional to access public models or datasets.\n",
      "  warnings.warn(\n"
     ]
    },
    {
     "data": {
      "text/plain": [
       "Downloading builder script: 0.00B [00:00, ?B/s]"
      ]
     },
     "metadata": {},
     "output_type": "display_data"
    },
    {
     "data": {
      "text/plain": [
       "Downloading extra modules: 0.00B [00:00, ?B/s]"
      ]
     },
     "metadata": {},
     "output_type": "display_data"
    }
   ],
   "source": [
    "import evaluate\n",
    "import pandas as pd\n",
    "\n",
    "val_split_by_category = pd.read_csv(\"val_split_by_category.csv\")\n",
    "\n",
    "metric = evaluate.load(\"squad\") # uses squad v1\n",
    "\n",
    "def squad_em_f1(eval: pd.DataFrame):\n",
    "    # format to feed into evaluate\n",
    "    preds = [\n",
    "        {\"id\": str(i), \"prediction_text\": (p if isinstance(p, str) else \"\")}\n",
    "        for i, p in enumerate(eval[\"answer_pred\"])\n",
    "    ]\n",
    "\n",
    "    # take the first answer as gold answer\n",
    "    refs  = [\n",
    "        {\"id\": str(i), \"answers\": {\"text\": [g if isinstance(g, str) else \"\"], \"answer_start\": [0]}}\n",
    "        for i, g in enumerate(eval[\"answer_gold\"])\n",
    "    ]\n",
    "    return metric.compute(predictions=preds, references=refs)\n",
    "\n",
    "\n"
   ]
  },
  {
   "cell_type": "code",
   "execution_count": null,
   "metadata": {
    "id": "q1sbN3DGD04P",
    "outputId": "41a4f5d5-abb1-4e1b-aa0e-c5a7c5f02076"
   },
   "outputs": [
    {
     "data": {
      "text/plain": [
       "                                               question  \\\n",
       "0                       What is (are) Episodic ataxia ?   \n",
       "1                   What is (are) Cat scratch disease ?   \n",
       "2     What is (are) 3-hydroxy-3-methylglutaryl-CoA l...   \n",
       "3     What is (are) hereditary neuropathy with liabi...   \n",
       "4     What is (are) Limb-girdle muscular dystrophy t...   \n",
       "...                                                 ...   \n",
       "2689  what research (or clinical trials) is being do...   \n",
       "2690  what research (or clinical trials) is being do...   \n",
       "2691  what research (or clinical trials) is being do...   \n",
       "2692  what research (or clinical trials) is being do...   \n",
       "2693  what research (or clinical trials) is being do...   \n",
       "\n",
       "                                                answers question_type  \\\n",
       "0     Episodic ataxia refers to a group of related c...   information   \n",
       "1     Cat scratch disease is an infectious illness c...   information   \n",
       "2     3-hydroxy-3-methylglutaryl-CoA lyase deficienc...   information   \n",
       "3     Hereditary neuropathy with liability to pressu...   information   \n",
       "4     Limb-girdle muscular dystrophy type 2I (LGMD2I...   information   \n",
       "...                                                 ...           ...   \n",
       "2689  The mission of the National Institute of Neuro...      research   \n",
       "2690  The NINDS supports research on neurological di...      research   \n",
       "2691  The NINDS conducts and supports a wide range o...      research   \n",
       "2692  The mission of the National Institute of Neuro...      research   \n",
       "2693  New types of treatment are being tested in cli...      research   \n",
       "\n",
       "                                                prompts  \n",
       "0             Question: What is (are) Episodic ataxia ?  \n",
       "1         Question: What is (are) Cat scratch disease ?  \n",
       "2     Question: What is (are) 3-hydroxy-3-methylglut...  \n",
       "3     Question: What is (are) hereditary neuropathy ...  \n",
       "4     Question: What is (are) Limb-girdle muscular d...  \n",
       "...                                                 ...  \n",
       "2689  Question: what research (or clinical trials) i...  \n",
       "2690  Question: what research (or clinical trials) i...  \n",
       "2691  Question: what research (or clinical trials) i...  \n",
       "2692  Question: what research (or clinical trials) i...  \n",
       "2693  Question: what research (or clinical trials) i...  \n",
       "\n",
       "[2694 rows x 4 columns]"
      ]
     },
     "execution_count": 4,
     "metadata": {},
     "output_type": "execute_result"
    }
   ],
   "source": [
    "SYSTEM_PROMPT = \"\"\"You are a medical question answering assistant. Answer the user’s question concisely and accurately.\"\"\"\n",
    "\n",
    "def format_input(inp):\n",
    "    return f\"Question: {inp}\"\n",
    "\n",
    "val_split_by_category[\"prompts\"] = val_split_by_category[\"question\"].apply(lambda x: format_input(x))\n",
    "val_split_by_category\n"
   ]
  },
  {
   "cell_type": "code",
   "execution_count": null,
   "metadata": {
    "id": "e_zzk_YMuw6N"
   },
   "outputs": [],
   "source": [
    "# model_name = \"banalyst/medquad-qwen3-4b-instruct\",\n",
    "# model_name = \"/content/lora_model_medquad_v2\","
   ]
  },
  {
   "cell_type": "code",
   "execution_count": null,
   "metadata": {
    "id": "oSZaGqpgdIZi",
    "outputId": "4ef4bbbc-abca-4ec5-9f6e-5cb0d9432049"
   },
   "outputs": [
    {
     "data": {
      "text/plain": [
       "VBox(children=(HTML(value='<center> <img\\nsrc=https://huggingface.co/front/assets/huggingface_logo-noborder.sv…"
      ]
     },
     "metadata": {},
     "output_type": "display_data"
    }
   ],
   "source": [
    "from huggingface_hub import notebook_login\n",
    "notebook_login()"
   ]
  },
  {
   "cell_type": "code",
   "execution_count": null,
   "metadata": {
    "id": "Bg2UsGiNWPA7",
    "outputId": "0ed75c9c-8238-4fe0-c30e-a9d2c2c8f745"
   },
   "outputs": [
    {
     "name": "stdout",
     "output_type": "stream",
     "text": [
      "🦥 Unsloth: Will patch your computer to enable 2x faster free finetuning.\n",
      "🦥 Unsloth Zoo will now patch everything to make training faster!\n",
      "==((====))==  Unsloth 2025.8.10: Fast Qwen3 patching. Transformers: 4.55.4.\n",
      "   \\\\   /|    NVIDIA A100-SXM4-40GB. Num GPUs = 1. Max memory: 39.557 GB. Platform: Linux.\n",
      "O^O/ \\_/ \\    Torch: 2.8.0+cu126. CUDA: 8.0. CUDA Toolkit: 12.6. Triton: 3.4.0\n",
      "\\        /    Bfloat16 = TRUE. FA [Xformers = None. FA2 = True]\n",
      " \"-____-\"     Free license: http://github.com/unslothai/unsloth\n",
      "Unsloth: Fast downloading is enabled - ignore downloading bars which are red colored!\n"
     ]
    },
    {
     "data": {
      "text/plain": [
       "model.safetensors:   0%|          | 0.00/3.55G [00:00<?, ?B/s]"
      ]
     },
     "metadata": {},
     "output_type": "display_data"
    },
    {
     "data": {
      "text/plain": [
       "generation_config.json:   0%|          | 0.00/237 [00:00<?, ?B/s]"
      ]
     },
     "metadata": {},
     "output_type": "display_data"
    },
    {
     "data": {
      "text/plain": [
       "tokenizer_config.json: 0.00B [00:00, ?B/s]"
      ]
     },
     "metadata": {},
     "output_type": "display_data"
    },
    {
     "data": {
      "text/plain": [
       "vocab.json: 0.00B [00:00, ?B/s]"
      ]
     },
     "metadata": {},
     "output_type": "display_data"
    },
    {
     "data": {
      "text/plain": [
       "merges.txt: 0.00B [00:00, ?B/s]"
      ]
     },
     "metadata": {},
     "output_type": "display_data"
    },
    {
     "data": {
      "text/plain": [
       "tokenizer.json:   0%|          | 0.00/11.4M [00:00<?, ?B/s]"
      ]
     },
     "metadata": {},
     "output_type": "display_data"
    },
    {
     "data": {
      "text/plain": [
       "added_tokens.json:   0%|          | 0.00/707 [00:00<?, ?B/s]"
      ]
     },
     "metadata": {},
     "output_type": "display_data"
    },
    {
     "data": {
      "text/plain": [
       "special_tokens_map.json:   0%|          | 0.00/614 [00:00<?, ?B/s]"
      ]
     },
     "metadata": {},
     "output_type": "display_data"
    },
    {
     "data": {
      "text/plain": [
       "chat_template.jinja: 0.00B [00:00, ?B/s]"
      ]
     },
     "metadata": {},
     "output_type": "display_data"
    },
    {
     "data": {
      "text/plain": [
       "adapter_model.safetensors:   0%|          | 0.00/132M [00:00<?, ?B/s]"
      ]
     },
     "metadata": {},
     "output_type": "display_data"
    }
   ],
   "source": [
    "from unsloth import FastModel\n",
    "import torch\n",
    "\n",
    "# load base model again\n",
    "model, tokenizer = FastModel.from_pretrained(\n",
    "    model_name = \"unsloth/Qwen3-4B-Instruct-2507\",\n",
    "    max_seq_length = 4096,\n",
    "    load_in_4bit = True,\n",
    "    load_in_8bit = False,\n",
    "    full_finetuning = False,\n",
    "    torch_dtype=\"auto\",\n",
    "    device_map=\"auto\",\n",
    "    attn_implementation=\"flash_attention_2\"\n",
    ")\n"
   ]
  },
  {
   "cell_type": "code",
   "execution_count": null,
   "metadata": {
    "id": "g56d9J9mqsQu",
    "outputId": "854f96fe-7290-48db-827e-57450db788fb"
   },
   "outputs": [
    {
     "name": "stdout",
     "output_type": "stream",
     "text": [
      "GenerationConfig {\n",
      "  \"bos_token_id\": 151643,\n",
      "  \"do_sample\": true,\n",
      "  \"eos_token_id\": [\n",
      "    151645,\n",
      "    151643\n",
      "  ],\n",
      "  \"max_length\": 262144,\n",
      "  \"pad_token_id\": 151654,\n",
      "  \"temperature\": 0.7,\n",
      "  \"top_k\": 20,\n",
      "  \"top_p\": 0.8\n",
      "}\n",
      "\n"
     ]
    }
   ],
   "source": [
    "print(model.generation_config)"
   ]
  },
  {
   "cell_type": "code",
   "execution_count": null,
   "metadata": {
    "id": "ZFBtrEfIqxFm"
   },
   "outputs": [],
   "source": [
    "# enforce eos and pad tokens (caused issues on first iteration)\n",
    "if tokenizer.pad_token is None:\n",
    "    tokenizer.pad_token = tokenizer.eos_token\n",
    "\n",
    "eot_id = tokenizer.convert_tokens_to_ids(\"<|im_end|>\")\n",
    "eos_ids = [tok_id for tok_id in [eot_id, tokenizer.eos_token_id] if tok_id is not None]\n",
    "\n",
    "model.config.pad_token_id = tokenizer.eos_token_id\n",
    "model.config.eos_token_id = eos_ids if len(eos_ids) > 1 else eos_ids[0]\n"
   ]
  },
  {
   "cell_type": "code",
   "execution_count": null,
   "metadata": {
    "id": "LaW-lDDdJrRE",
    "outputId": "d0ac51e1-68fb-4f9e-bf6f-0fa6862a5af3"
   },
   "outputs": [
    {
     "data": {
      "text/plain": [
       "                                               question  \\\n",
       "0                       What is (are) Episodic ataxia ?   \n",
       "1                   What is (are) Cat scratch disease ?   \n",
       "2     What is (are) 3-hydroxy-3-methylglutaryl-CoA l...   \n",
       "3     What is (are) hereditary neuropathy with liabi...   \n",
       "4     What is (are) Limb-girdle muscular dystrophy t...   \n",
       "...                                                 ...   \n",
       "2689  what research (or clinical trials) is being do...   \n",
       "2690  what research (or clinical trials) is being do...   \n",
       "2691  what research (or clinical trials) is being do...   \n",
       "2692  what research (or clinical trials) is being do...   \n",
       "2693  what research (or clinical trials) is being do...   \n",
       "\n",
       "                                                answers question_type  \\\n",
       "0     Episodic ataxia refers to a group of related c...   information   \n",
       "1     Cat scratch disease is an infectious illness c...   information   \n",
       "2     3-hydroxy-3-methylglutaryl-CoA lyase deficienc...   information   \n",
       "3     Hereditary neuropathy with liability to pressu...   information   \n",
       "4     Limb-girdle muscular dystrophy type 2I (LGMD2I...   information   \n",
       "...                                                 ...           ...   \n",
       "2689  The mission of the National Institute of Neuro...      research   \n",
       "2690  The NINDS supports research on neurological di...      research   \n",
       "2691  The NINDS conducts and supports a wide range o...      research   \n",
       "2692  The mission of the National Institute of Neuro...      research   \n",
       "2693  New types of treatment are being tested in cli...      research   \n",
       "\n",
       "                                                prompts  \\\n",
       "0             Question: What is (are) Episodic ataxia ?   \n",
       "1         Question: What is (are) Cat scratch disease ?   \n",
       "2     Question: What is (are) 3-hydroxy-3-methylglut...   \n",
       "3     Question: What is (are) hereditary neuropathy ...   \n",
       "4     Question: What is (are) Limb-girdle muscular d...   \n",
       "...                                                 ...   \n",
       "2689  Question: what research (or clinical trials) i...   \n",
       "2690  Question: what research (or clinical trials) i...   \n",
       "2691  Question: what research (or clinical trials) i...   \n",
       "2692  Question: what research (or clinical trials) i...   \n",
       "2693  Question: what research (or clinical trials) i...   \n",
       "\n",
       "                                           model_inputs  \n",
       "0     <|im_start|>system\\nYou are a medical question...  \n",
       "1     <|im_start|>system\\nYou are a medical question...  \n",
       "2     <|im_start|>system\\nYou are a medical question...  \n",
       "3     <|im_start|>system\\nYou are a medical question...  \n",
       "4     <|im_start|>system\\nYou are a medical question...  \n",
       "...                                                 ...  \n",
       "2689  <|im_start|>system\\nYou are a medical question...  \n",
       "2690  <|im_start|>system\\nYou are a medical question...  \n",
       "2691  <|im_start|>system\\nYou are a medical question...  \n",
       "2692  <|im_start|>system\\nYou are a medical question...  \n",
       "2693  <|im_start|>system\\nYou are a medical question...  \n",
       "\n",
       "[2694 rows x 5 columns]"
      ]
     },
     "execution_count": 8,
     "metadata": {},
     "output_type": "execute_result"
    }
   ],
   "source": [
    "# apply chat template\n",
    "val_split_by_category[\"model_inputs\"] = val_split_by_category[\"prompts\"].apply(lambda x: apply_template(SYSTEM_PROMPT, x))\n",
    "val_split_by_category"
   ]
  },
  {
   "cell_type": "code",
   "execution_count": null,
   "metadata": {
    "id": "YHF3YRZmKZHN",
    "outputId": "93e4547b-0633-483b-dab8-ccfc227e4d00"
   },
   "outputs": [
    {
     "data": {
      "text/plain": [
       "  0%|          | 0/22 [00:00<?, ?it/s]"
      ]
     },
     "metadata": {},
     "output_type": "display_data"
    },
    {
     "data": {
      "text/plain": [
       "  0%|          | 0/22 [00:00<?, ?it/s]"
      ]
     },
     "metadata": {},
     "output_type": "display_data"
    },
    {
     "name": "stderr",
     "output_type": "stream",
     "text": [
      "`generation_config` default values have been modified to match model-specific defaults: {'max_length': 262144, 'do_sample': True, 'temperature': 0.7, 'top_k': 20, 'top_p': 0.8, 'bos_token_id': 151643}. If this is not desired, please set these values explicitly.\n"
     ]
    },
    {
     "data": {
      "text/plain": [
       "                                               question  \\\n",
       "0                       What is (are) Episodic ataxia ?   \n",
       "1                   What is (are) Cat scratch disease ?   \n",
       "2     What is (are) 3-hydroxy-3-methylglutaryl-CoA l...   \n",
       "3     What is (are) hereditary neuropathy with liabi...   \n",
       "4     What is (are) Limb-girdle muscular dystrophy t...   \n",
       "...                                                 ...   \n",
       "2689  what research (or clinical trials) is being do...   \n",
       "2690  what research (or clinical trials) is being do...   \n",
       "2691  what research (or clinical trials) is being do...   \n",
       "2692  what research (or clinical trials) is being do...   \n",
       "2693  what research (or clinical trials) is being do...   \n",
       "\n",
       "                                                answers question_type  \\\n",
       "0     Episodic ataxia refers to a group of related c...   information   \n",
       "1     Cat scratch disease is an infectious illness c...   information   \n",
       "2     3-hydroxy-3-methylglutaryl-CoA lyase deficienc...   information   \n",
       "3     Hereditary neuropathy with liability to pressu...   information   \n",
       "4     Limb-girdle muscular dystrophy type 2I (LGMD2I...   information   \n",
       "...                                                 ...           ...   \n",
       "2689  The mission of the National Institute of Neuro...      research   \n",
       "2690  The NINDS supports research on neurological di...      research   \n",
       "2691  The NINDS conducts and supports a wide range o...      research   \n",
       "2692  The mission of the National Institute of Neuro...      research   \n",
       "2693  New types of treatment are being tested in cli...      research   \n",
       "\n",
       "                                                prompts  \\\n",
       "0             Question: What is (are) Episodic ataxia ?   \n",
       "1         Question: What is (are) Cat scratch disease ?   \n",
       "2     Question: What is (are) 3-hydroxy-3-methylglut...   \n",
       "3     Question: What is (are) hereditary neuropathy ...   \n",
       "4     Question: What is (are) Limb-girdle muscular d...   \n",
       "...                                                 ...   \n",
       "2689  Question: what research (or clinical trials) i...   \n",
       "2690  Question: what research (or clinical trials) i...   \n",
       "2691  Question: what research (or clinical trials) i...   \n",
       "2692  Question: what research (or clinical trials) i...   \n",
       "2693  Question: what research (or clinical trials) i...   \n",
       "\n",
       "                                           model_inputs  \\\n",
       "0     <|im_start|>system\\nYou are a medical question...   \n",
       "1     <|im_start|>system\\nYou are a medical question...   \n",
       "2     <|im_start|>system\\nYou are a medical question...   \n",
       "3     <|im_start|>system\\nYou are a medical question...   \n",
       "4     <|im_start|>system\\nYou are a medical question...   \n",
       "...                                                 ...   \n",
       "2689  <|im_start|>system\\nYou are a medical question...   \n",
       "2690  <|im_start|>system\\nYou are a medical question...   \n",
       "2691  <|im_start|>system\\nYou are a medical question...   \n",
       "2692  <|im_start|>system\\nYou are a medical question...   \n",
       "2693  <|im_start|>system\\nYou are a medical question...   \n",
       "\n",
       "                                            answer_pred  \n",
       "0     system\\nYou are a medical question answering a...  \n",
       "1     system\\nYou are a medical question answering a...  \n",
       "2     system\\nYou are a medical question answering a...  \n",
       "3     system\\nYou are a medical question answering a...  \n",
       "4     system\\nYou are a medical question answering a...  \n",
       "...                                                 ...  \n",
       "2689  system\\nYou are a medical question answering a...  \n",
       "2690  system\\nYou are a medical question answering a...  \n",
       "2691  system\\nYou are a medical question answering a...  \n",
       "2692  system\\nYou are a medical question answering a...  \n",
       "2693  system\\nYou are a medical question answering a...  \n",
       "\n",
       "[2694 rows x 6 columns]"
      ]
     },
     "execution_count": 10,
     "metadata": {},
     "output_type": "execute_result"
    }
   ],
   "source": [
    "### eval run for base model ###\n",
    "\n",
    "dataset = TextDataset(val_split_by_category[\"model_inputs\"].tolist())\n",
    "dataloader = DataLoader(dataset, batch_size=128, shuffle=False)\n",
    "\n",
    "from transformers import GenerationConfig\n",
    "\n",
    "gen_cfg = GenerationConfig(\n",
    "    max_new_tokens=512,              # QA answers are short\n",
    "    eos_token_id=model.config.eos_token_id,\n",
    "    pad_token_id=model.config.pad_token_id,\n",
    "    temperature=0.7,\n",
    "    top_p=0.8,\n",
    "    top_k=20,\n",
    "    repetition_penalty=1.1,\n",
    "    no_repeat_ngram_size=4,\n",
    "    use_cache=True,\n",
    ")\n",
    "\n",
    "def generate(dataloader, tokenizer, model):\n",
    "    inputs = []\n",
    "    for batch_text in tqdm(dataloader):\n",
    "        model_inputs = tokenizer.batch_encode_plus(\n",
    "            batch_text,\n",
    "            padding=\"longest\",\n",
    "            padding_side=\"left\",\n",
    "            truncation=True,\n",
    "            return_tensors=\"pt\",\n",
    "        ).to(model.device)\n",
    "        inputs.append(model_inputs)\n",
    "    model.eval()\n",
    "    torch.set_grad_enabled(False)\n",
    "    for inp in tqdm(inputs):\n",
    "        with torch.inference_mode():\n",
    "            yield model.generate(\n",
    "                **inp,\n",
    "                generation_config=gen_cfg\n",
    "            )\n",
    "out = []\n",
    "for batch in generate(dataloader, tokenizer, model):\n",
    "    out.append(batch)\n",
    "\n",
    "final = []\n",
    "for output in out:\n",
    "    decoded = tokenizer.batch_decode(\n",
    "        output,\n",
    "        skip_special_tokens=True\n",
    "    )\n",
    "    final.extend(decoded)\n",
    "val_split_by_category[\"answer_pred\"] = final\n",
    "val_split_by_category"
   ]
  },
  {
   "cell_type": "code",
   "execution_count": null,
   "metadata": {
    "id": "6rBe3FDLAdax",
    "outputId": "4e090280-b4e7-4d3d-e80e-b4007cf123be"
   },
   "outputs": [
    {
     "name": "stdout",
     "output_type": "stream",
     "text": [
      "Input token stats: {'count': 10782, 'mean': 284.5247634947134, 'p50': 195.0, 'p75': 347.0, 'p90': 553.0, 'p95': 772.0, 'max': 5704}\n"
     ]
    }
   ],
   "source": [
    "### Average token counts statistics ###\n",
    "\n",
    "import numpy as np\n",
    "train_split = pd.read_csv(\"train_split.csv\")\n",
    "lens = [len(tokenizer(ans, add_special_tokens=False)[\"input_ids\"]) for ans in train_split[\"answers\"]]\n",
    "def summarize(arr):\n",
    "    arr = np.array(arr)\n",
    "    return {\n",
    "        \"count\": len(arr),\n",
    "        \"mean\": float(arr.mean()),\n",
    "        \"p50\": float(np.percentile(arr, 50)),\n",
    "        \"p75\": float(np.percentile(arr, 75)),\n",
    "        \"p90\": float(np.percentile(arr, 90)),\n",
    "        \"p95\": float(np.percentile(arr, 95)),\n",
    "        \"max\": int(arr.max())\n",
    "    }\n",
    "\n",
    "# for train split\n",
    "print(\"Input token stats:\", summarize(lens))"
   ]
  },
  {
   "cell_type": "code",
   "execution_count": null,
   "metadata": {
    "id": "Y1gRg7yoBrTH",
    "outputId": "e4f6cf29-2eb4-4dac-cb93-9d43262b3bf1"
   },
   "outputs": [
    {
     "name": "stdout",
     "output_type": "stream",
     "text": [
      "Output token stats: {'count': 2694, 'mean': 288.7958426132146, 'p50': 269.0, 'p75': 379.0, 'p90': 503.7000000000003, 'p95': 512.0, 'max': 514}\n"
     ]
    }
   ],
   "source": [
    "# eval output token count distribution\n",
    "model_outputs = [ans.split(\"assistant\\n\")[1] for ans in final]\n",
    "lens = [len(tokenizer(ans, add_special_tokens=False)[\"input_ids\"]) for ans in model_outputs]\n",
    "print(\"Output token stats:\", summarize(lens))"
   ]
  },
  {
   "cell_type": "code",
   "execution_count": null,
   "metadata": {
    "id": "hK1ouOzsCGAk",
    "outputId": "3e028ba7-e5f7-41eb-cc33-e9a91054a053"
   },
   "outputs": [
    {
     "data": {
      "text/plain": [
       "{'exact_match': 0.0, 'f1': 30.69809418663648}"
      ]
     },
     "execution_count": 6,
     "metadata": {},
     "output_type": "execute_result"
    }
   ],
   "source": [
    "import pandas as pd\n",
    "\n",
    "### evaluate and compare the baseline and finetuned model performance on eval dataset ###\n",
    "\n",
    "# val_split_by_category = pd.read_csv(\"/content/base_instruct_model_eval_outputs.csv\")\n",
    "val_split_by_category = pd.read_csv(\"/content/finetuned_instruct_model_eval_outputs.csv\")\n",
    "squad_em_f1(val_split_by_category)"
   ]
  },
  {
   "cell_type": "code",
   "execution_count": null,
   "metadata": {
    "id": "suO0POpcanKB"
   },
   "outputs": [],
   "source": [
    "val_split_by_category.to_csv(\"base_instruct_model_eval_outputs.csv\", index=False)"
   ]
  },
  {
   "cell_type": "markdown",
   "metadata": {
    "id": "TuLodv-i1q9-"
   },
   "source": [
    "# Training"
   ]
  },
  {
   "cell_type": "code",
   "execution_count": null,
   "metadata": {
    "id": "Fqe3Gb7mESfp",
    "outputId": "afc510f7-36e8-4f9c-aa17-9e4f6ae90e3d"
   },
   "outputs": [
    {
     "data": {
      "text/plain": [
       "'Question: Do you have information about Acupuncture'"
      ]
     },
     "execution_count": 11,
     "metadata": {},
     "output_type": "execute_result"
    }
   ],
   "source": [
    "# format input for training\n",
    "train_split[\"prompts\"] = train_split[\"question\"].apply(lambda x: format_input(x))\n",
    "train_split[\"prompts\"][0]"
   ]
  },
  {
   "cell_type": "code",
   "execution_count": null,
   "metadata": {
    "id": "NOF-WD7-EYsa",
    "outputId": "fe53e157-e8e0-4ead-9dbb-a13c6033f12d"
   },
   "outputs": [
    {
     "data": {
      "text/plain": [
       "                                                question  \\\n",
       "0              Do you have information about Acupuncture   \n",
       "1                 Do you have information about Adoption   \n",
       "2       Do you have information about Advance Directives   \n",
       "3      Do you have information about African American...   \n",
       "4            Do you have information about Air Pollution   \n",
       "...                                                  ...   \n",
       "10777  what research (or clinical trials) is being do...   \n",
       "10778  what research (or clinical trials) is being do...   \n",
       "10779  what research (or clinical trials) is being do...   \n",
       "10780  what research (or clinical trials) is being do...   \n",
       "10781  what research (or clinical trials) is being do...   \n",
       "\n",
       "                                                 answers  \\\n",
       "0      Summary : Acupuncture has been practiced in Ch...   \n",
       "1      Summary : Adoption brings a child born to othe...   \n",
       "2      Summary : What kind of medical care would you ...   \n",
       "3      Summary : Every racial or ethnic group has spe...   \n",
       "4      Summary : Air pollution is a mixture of solid ...   \n",
       "...                                                  ...   \n",
       "10777  The National Institute on Deafness and Other C...   \n",
       "10778  Scientists continue to look at new ways to pre...   \n",
       "10779  Scientists who are working to better understan...   \n",
       "10780  Many Areas of Research Scientists are constant...   \n",
       "10781  The National Institute of Neurological Disorde...   \n",
       "\n",
       "                                                 prompts  outputs  \\\n",
       "0      Question: Do you have information about Acupun...        1   \n",
       "1       Question: Do you have information about Adoption        1   \n",
       "2      Question: Do you have information about Advanc...        1   \n",
       "3      Question: Do you have information about Africa...        1   \n",
       "4      Question: Do you have information about Air Po...        1   \n",
       "...                                                  ...      ...   \n",
       "10777  Question: what research (or clinical trials) i...        1   \n",
       "10778  Question: what research (or clinical trials) i...        1   \n",
       "10779  Question: what research (or clinical trials) i...        1   \n",
       "10780  Question: what research (or clinical trials) i...        1   \n",
       "10781  Question: what research (or clinical trials) i...        1   \n",
       "\n",
       "      question_type           question_focus  \\\n",
       "0       information              Acupuncture   \n",
       "1       information                 Adoption   \n",
       "2       information       Advance Directives   \n",
       "3       information  African American Health   \n",
       "4       information            Air Pollution   \n",
       "...             ...                      ...   \n",
       "10777      research      Problems with Taste   \n",
       "10778      research          Prostate Cancer   \n",
       "10779      research                Psoriasis   \n",
       "10780      research              Skin Cancer   \n",
       "10781      research                   Stroke   \n",
       "\n",
       "                                            model_inputs  \n",
       "0      <|im_start|>system\\nYou are a medical question...  \n",
       "1      <|im_start|>system\\nYou are a medical question...  \n",
       "2      <|im_start|>system\\nYou are a medical question...  \n",
       "3      <|im_start|>system\\nYou are a medical question...  \n",
       "4      <|im_start|>system\\nYou are a medical question...  \n",
       "...                                                  ...  \n",
       "10777  <|im_start|>system\\nYou are a medical question...  \n",
       "10778  <|im_start|>system\\nYou are a medical question...  \n",
       "10779  <|im_start|>system\\nYou are a medical question...  \n",
       "10780  <|im_start|>system\\nYou are a medical question...  \n",
       "10781  <|im_start|>system\\nYou are a medical question...  \n",
       "\n",
       "[10782 rows x 7 columns]"
      ]
     },
     "execution_count": 12,
     "metadata": {},
     "output_type": "execute_result"
    }
   ],
   "source": [
    "# apply train template (key difference is the additional assistant role input in messages, and add_generation_prompt=False)\n",
    "def apply_train_template(syst\n",
    "    return tokenizer.apply_chat_template(\n",
    "        message,\n",
    "        tokenize=False,\n",
    "        add_generation_prompt=Fem_prompt, question, answer):\n",
    "    message = [\n",
    "        {\"role\": \"system\", \"content\": system_prompt},\n",
    "        {\"role\": \"user\", \"content\": question},\n",
    "        {\"role\": \"assistant\", \"content\": answer}\n",
    "    ]alse,\n",
    "        enable_thinking=False\n",
    "    )\n",
    "\n",
    "inputs = zip(train_split[\"question\"], train_split[\"answers\"])\n",
    "train_split[\"model_inputs\"] = [apply_train_template(SYSTEM_PROMPT, q, a) for q, a in inputs]\n",
    "train_split"
   ]
  },
  {
   "cell_type": "code",
   "execution_count": null,
   "metadata": {
    "id": "CuUxfbOWEnnL",
    "outputId": "dda33209-423d-4b4d-a8ee-2d6938086082"
   },
   "outputs": [
    {
     "data": {
      "text/plain": [
       "\"<|im_start|>system\\nYou are a medical question answering assistant. Answer the user’s question concisely and accurately.<|im_end|>\\n<|im_start|>user\\nDo you have information about Acupuncture<|im_end|>\\n<|im_start|>assistant\\n<think>\\n\\n</think>\\n\\nSummary : Acupuncture has been practiced in China and other Asian countries for thousands of years. Acupuncture involves stimulating specific points on the body. This is most often done by inserting thin needles through the skin, to cause a change in the physical functions of the body.    Research has shown that acupuncture reduces nausea and vomiting after surgery and chemotherapy. It can also relieve pain. Researchers don't fully understand how acupuncture works. It might aid the activity of your body's pain-killing chemicals. It also might affect how you release chemicals that regulate blood pressure and flow.    NIH: National Center for Complementary and Integrative Health<|im_end|>\\n\""
      ]
     },
     "execution_count": 13,
     "metadata": {},
     "output_type": "execute_result"
    }
   ],
   "source": [
    "train_split[\"model_inputs\"][0]"
   ]
  },
  {
   "cell_type": "code",
   "execution_count": null,
   "metadata": {
    "id": "EiQ5riDTp8Av",
    "outputId": "d1e5fcb6-c85e-4aa2-8a4f-4cfbf0f21b72"
   },
   "outputs": [
    {
     "data": {
      "text/plain": [
       "\"<|im_start|>system\\nYou are a medical question answering assistant. Answer the user’s question concisely and accurately.<|im_end|>\\n<|im_start|>user\\nDo you have information about Acupuncture<|im_end|>\\n<|im_start|>assistant\\nSummary : Acupuncture has been practiced in China and other Asian countries for thousands of years. Acupuncture involves stimulating specific points on the body. This is most often done by inserting thin needles through the skin, to cause a change in the physical functions of the body.    Research has shown that acupuncture reduces nausea and vomiting after surgery and chemotherapy. It can also relieve pain. Researchers don't fully understand how acupuncture works. It might aid the activity of your body's pain-killing chemicals. It also might affect how you release chemicals that regulate blood pressure and flow.    NIH: National Center for Complementary and Integrative Health<|im_end|>\\n\""
      ]
     },
     "execution_count": 14,
     "metadata": {},
     "output_type": "execute_result"
    }
   ],
   "source": [
    "# I noticed even though this is a non-thinking model, the <think> tokens are present.\n",
    "# I remove them just so the training will be slightly more stable.\n",
    "def replace_think(row):\n",
    "    row[\"model_inputs\"] = row[\"model_inputs\"].replace(\"<think>\\n\\n</think>\\n\\n\", \"\")\n",
    "    return row\n",
    "\n",
    "train_split = train_split.apply(replace_think, axis=1)\n",
    "train_split[\"model_inputs\"][0]"
   ]
  },
  {
   "cell_type": "code",
   "execution_count": null,
   "metadata": {
    "id": "fTQxd5KRHNgT",
    "outputId": "e8145534-f396-4ad4-fd59-0f49c86b8fc7"
   },
   "outputs": [
    {
     "data": {
      "text/plain": [
       "'<|im_start|>system\\nYou are a medical question answering assistant. Answer the user’s question concisely and accurately.<|im_end|>\\n<|im_start|>user\\nQuestion: What is (are) Episodic ataxia ?<|im_end|>\\n<|im_start|>assistant\\n'"
      ]
     },
     "execution_count": 15,
     "metadata": {},
     "output_type": "execute_result"
    }
   ],
   "source": [
    "val_split_by_category[\"model_inputs\"][0]"
   ]
  },
  {
   "cell_type": "code",
   "execution_count": null,
   "metadata": {
    "id": "ZqA0JHYwIOq1"
   },
   "outputs": [],
   "source": [
    "from datasets import Dataset\n",
    "\n",
    "train_ds = Dataset.from_pandas(train_split[[\"model_inputs\"]])\n",
    "val_ds = Dataset.from_pandas(val_split_by_category[[\"model_inputs\"]])\n"
   ]
  },
  {
   "cell_type": "code",
   "execution_count": null,
   "metadata": {
    "id": "IGOB5kwB2cUq",
    "outputId": "dbe599da-42c7-4f90-87a9-27a5907afd14"
   },
   "outputs": [
    {
     "name": "stderr",
     "output_type": "stream",
     "text": [
      "Unsloth: Dropout = 0 is supported for fast patching. You are using dropout = 0.05.\n",
      "Unsloth will patch all other layers, except LoRA matrices, causing a performance hit.\n"
     ]
    },
    {
     "name": "stdout",
     "output_type": "stream",
     "text": [
      "Unsloth: Making `model.base_model.model.model` require gradients\n"
     ]
    }
   ],
   "source": [
    "### Add QLoRA adapter ###\n",
    "model = FastModel.get_peft_model(\n",
    "    model,\n",
    "    r = 16, # this is enough. 32 was overfitting on first iteration.\n",
    "    target_modules = [\n",
    "        \"q_proj\", \"k_proj\", \"v_proj\", \"o_proj\",\n",
    "        \"gate_proj\", \"up_proj\", \"down_proj\",\n",
    "    ],\n",
    "    lora_alpha = 32,\n",
    "    lora_dropout = 0.05, # this was helpful to avoid overfitting\n",
    "    bias = \"none\",\n",
    "    use_gradient_checkpointing = True,\n",
    "    random_state = 4788,\n",
    "    use_rslora = False,\n",
    "    loftq_config = None,\n",
    ")\n",
    "\n"
   ]
  },
  {
   "cell_type": "code",
   "execution_count": null,
   "metadata": {
    "id": "9gBSmljMIpyT",
    "outputId": "6236a1df-8178-4f79-867e-1c334ead350a"
   },
   "outputs": [
    {
     "data": {
      "text/plain": [
       "Unsloth: Tokenizing [\"model_inputs\"] (num_proc=16):   0%|          | 0/10782 [00:00<?, ? examples/s]"
      ]
     },
     "metadata": {},
     "output_type": "display_data"
    },
    {
     "data": {
      "text/plain": [
       "Unsloth: Tokenizing [\"model_inputs\"] (num_proc=16):   0%|          | 0/2694 [00:00<?, ? examples/s]"
      ]
     },
     "metadata": {},
     "output_type": "display_data"
    }
   ],
   "source": [
    "from trl import SFTTrainer, SFTConfig\n",
    "from transformers import EarlyStoppingCallback\n",
    "\n",
    "trainer = SFTTrainer(\n",
    "    model = model,\n",
    "    tokenizer = tokenizer,\n",
    "    train_dataset = train_ds,\n",
    "    eval_dataset = val_ds,\n",
    "    do_formatting_func=False,\n",
    "    args = SFTConfig(\n",
    "        dataset_text_field = \"model_inputs\",\n",
    "        per_device_train_batch_size = 32,\n",
    "        gradient_accumulation_steps = 8,\n",
    "        warmup_ratio = 0.03,\n",
    "        num_train_epochs = 2,\n",
    "        max_seq_length = 1024,\n",
    "        learning_rate = 5e-5,\n",
    "        logging_steps = 8,\n",
    "        optim = \"adamw_8bit\",\n",
    "        weight_decay = 0.01,\n",
    "        lr_scheduler_type = \"cosine\",\n",
    "        eval_strategy=\"steps\",\n",
    "        eval_steps=32,\n",
    "        save_strategy=\"steps\",\n",
    "        save_steps=32,\n",
    "        load_best_model_at_end=True,\n",
    "        metric_for_best_model=\"eval_loss\",\n",
    "        greater_is_better=False,\n",
    "        seed = 3407,\n",
    "        bf16=True,\n",
    "        report_to=\"wandb\",\n",
    "        run_name=os.environ.get(\"WANDB_NAME\", \"run\"),\n",
    "    ),\n",
    "    callbacks=[EarlyStoppingCallback(early_stopping_patience=2, early_stopping_threshold=0.0)],\n",
    ")"
   ]
  },
  {
   "cell_type": "code",
   "execution_count": null,
   "metadata": {
    "id": "P8tKKFHxFwVl",
    "outputId": "8de9e37f-b408-4e0e-f4e0-df0b474f52b1"
   },
   "outputs": [
    {
     "data": {
      "text/plain": [
       "Map (num_proc=12):   0%|          | 0/10782 [00:00<?, ? examples/s]"
      ]
     },
     "metadata": {},
     "output_type": "display_data"
    },
    {
     "data": {
      "text/plain": [
       "Map (num_proc=12):   0%|          | 0/2694 [00:00<?, ? examples/s]"
      ]
     },
     "metadata": {},
     "output_type": "display_data"
    }
   ],
   "source": [
    "from unsloth.chat_templates import train_on_responses_only\n",
    "trainer = train_on_responses_only(\n",
    "    trainer,\n",
    "    instruction_part = \"<|im_start|>user\\n\",\n",
    "    response_part = \"<|im_start|>assistant\\n\",\n",
    ")"
   ]
  },
  {
   "cell_type": "code",
   "execution_count": null,
   "metadata": {
    "id": "177iVIKWF5oP",
    "outputId": "3b145902-275b-4a88-9145-bb62be94cef7"
   },
   "outputs": [
    {
     "data": {
      "text/plain": [
       "\"<|im_start|>system\\nYou are a medical question answering assistant. Answer the user’s question concisely and accurately.<|im_end|>\\n<|im_start|>user\\nDo you have information about Hazardous Waste<|im_end|>\\n<|im_start|>assistant\\nSummary : Even if you use them properly, many chemicals can still harm human health and the environment. When you throw these substances away, they become hazardous waste. Some hazardous wastes come from products in our homes. Our garbage can include such hazardous wastes as old batteries, bug spray cans and paint thinner. U.S. residents generate 1.6 million tons of household hazardous waste per year. Hazardous waste is also a by-product of manufacturing.     You may have hazardous wastes in your basement or garage. How do you get rid of them? Don't pour them down the drain, flush them, or put them in the garbage. See if you can donate or recycle. Many communities have household hazardous waste collection programs. Check to see if there is one in your area.    Environmental Protection Agency<|im_end|>\\n\""
      ]
     },
     "execution_count": 20,
     "metadata": {},
     "output_type": "execute_result"
    }
   ],
   "source": [
    "tokenizer.decode(trainer.train_dataset[100][\"input_ids\"])"
   ]
  },
  {
   "cell_type": "code",
   "execution_count": null,
   "metadata": {
    "id": "flCMD71LKCEw",
    "outputId": "1b257876-1692-42f6-d2e7-9f5e402b76a3"
   },
   "outputs": [
    {
     "data": {
      "text/plain": [
       "\"                                        Summary : Even if you use them properly, many chemicals can still harm human health and the environment. When you throw these substances away, they become hazardous waste. Some hazardous wastes come from products in our homes. Our garbage can include such hazardous wastes as old batteries, bug spray cans and paint thinner. U.S. residents generate 1.6 million tons of household hazardous waste per year. Hazardous waste is also a by-product of manufacturing.     You may have hazardous wastes in your basement or garage. How do you get rid of them? Don't pour them down the drain, flush them, or put them in the garbage. See if you can donate or recycle. Many communities have household hazardous waste collection programs. Check to see if there is one in your area.    Environmental Protection Agency<|im_end|>\\n\""
      ]
     },
     "execution_count": 21,
     "metadata": {},
     "output_type": "execute_result"
    }
   ],
   "source": [
    "tokenizer.decode([tokenizer.pad_token_id if x == -100 else x for x in trainer.train_dataset[100][\"labels\"]]).replace(tokenizer.pad_token, \" \")"
   ]
  },
  {
   "cell_type": "code",
   "execution_count": null,
   "metadata": {
    "id": "RoxzEoH2KI2a",
    "outputId": "58dae8ee-723b-4d67-f96e-c2469ccb5c02"
   },
   "outputs": [
    {
     "name": "stderr",
     "output_type": "stream",
     "text": [
      "==((====))==  Unsloth - 2x faster free finetuning | Num GPUs used = 1\n",
      "   \\\\   /|    Num examples = 10,782 | Num Epochs = 2 | Total steps = 86\n",
      "O^O/ \\_/ \\    Batch size per device = 32 | Gradient accumulation steps = 8\n",
      "\\        /    Data Parallel GPUs = 1 | Total batch size (32 x 8 x 1) = 256\n",
      " \"-____-\"     Trainable parameters = 33,030,144 of 4,055,498,240 (0.81% trained)\n"
     ]
    },
    {
     "data": {
      "text/plain": [
       "<IPython.core.display.HTML object>"
      ]
     },
     "metadata": {},
     "output_type": "display_data"
    },
    {
     "data": {
      "text/plain": [
       "<IPython.core.display.HTML object>"
      ]
     },
     "metadata": {},
     "output_type": "display_data"
    },
    {
     "data": {
      "text/plain": [
       "<IPython.core.display.HTML object>"
      ]
     },
     "metadata": {},
     "output_type": "display_data"
    },
    {
     "data": {
      "text/plain": [
       "<IPython.core.display.HTML object>"
      ]
     },
     "metadata": {},
     "output_type": "display_data"
    },
    {
     "data": {
      "text/plain": [
       "<IPython.core.display.HTML object>"
      ]
     },
     "metadata": {},
     "output_type": "display_data"
    },
    {
     "data": {
      "text/plain": [
       "<IPython.core.display.HTML object>"
      ]
     },
     "metadata": {},
     "output_type": "display_data"
    },
    {
     "name": "stdout",
     "output_type": "stream",
     "text": [
      "Unsloth: Will smartly offload gradients to save VRAM!\n"
     ]
    },
    {
     "data": {
      "text/plain": [
       "<IPython.core.display.HTML object>"
      ]
     },
     "metadata": {},
     "output_type": "display_data"
    },
    {
     "name": "stderr",
     "output_type": "stream",
     "text": [
      "Unsloth: Not an error, but Qwen3ForCausalLM does not accept `num_items_in_batch`.\n",
      "Using gradient accumulation will be very slightly less accurate.\n",
      "Read more on gradient accumulation issues here: https://unsloth.ai/blog/gradient\n"
     ]
    }
   ],
   "source": [
    "trainer_stats = trainer.train()"
   ]
  },
  {
   "cell_type": "code",
   "execution_count": null,
   "metadata": {
    "id": "GAKDTquRKRfV"
   },
   "outputs": [],
   "source": [
    "model.save_pretrained(\"lora_model_medquad_v2\")"
   ]
  },
  {
   "cell_type": "code",
   "execution_count": null,
   "metadata": {
    "id": "_0WApxAJbeYn",
    "outputId": "04821ca2-0d07-4011-c7da-1b07a77c7d29"
   },
   "outputs": [
    {
     "data": {
      "text/plain": [
       "('lora_model_medquad_v2/tokenizer_config.json',\n",
       " 'lora_model_medquad_v2/special_tokens_map.json',\n",
       " 'lora_model_medquad_v2/chat_template.jinja',\n",
       " 'lora_model_medquad_v2/vocab.json',\n",
       " 'lora_model_medquad_v2/merges.txt',\n",
       " 'lora_model_medquad_v2/added_tokens.json',\n",
       " 'lora_model_medquad_v2/tokenizer.json')"
      ]
     },
     "execution_count": 27,
     "metadata": {},
     "output_type": "execute_result"
    }
   ],
   "source": [
    "tokenizer.save_pretrained(\"lora_model_medquad_v2\")"
   ]
  },
  {
   "cell_type": "code",
   "execution_count": null,
   "metadata": {
    "id": "zgonpFIWblAK",
    "outputId": "1b46c37a-c82e-4c5e-c5d6-e6095f328c9b"
   },
   "outputs": [
    {
     "name": "stderr",
     "output_type": "stream",
     "text": [
      "No files have been modified since last commit. Skipping to prevent empty commit.\n",
      "WARNING:huggingface_hub.hf_api:No files have been modified since last commit. Skipping to prevent empty commit.\n"
     ]
    },
    {
     "data": {
      "text/plain": [
       "CommitInfo(commit_url='https://huggingface.co/banalyst/medquad-qwen3-4b-instruct/commit/1418353ad1285b374ab37b5527ef55507f08127f', commit_message='Upload folder using huggingface_hub', commit_description='', oid='1418353ad1285b374ab37b5527ef55507f08127f', pr_url=None, repo_url=RepoUrl('https://huggingface.co/banalyst/medquad-qwen3-4b-instruct', endpoint='https://huggingface.co', repo_type='model', repo_id='banalyst/medquad-qwen3-4b-instruct'), pr_revision=None, pr_num=None)"
      ]
     },
     "execution_count": 28,
     "metadata": {},
     "output_type": "execute_result"
    }
   ],
   "source": [
    "from huggingface_hub import HfApi\n",
    "\n",
    "api = HfApi(token=\"<|API KEY|>\")\n",
    "api.upload_folder(\n",
    "    folder_path=\"/content/lora_model_medquad_v2\",\n",
    "    repo_id=\"banalyst/medquad-qwen3-4b-instruct\",\n",
    "    repo_type=\"model\",\n",
    ")\n"
   ]
  },
  {
   "cell_type": "markdown",
   "metadata": {
    "id": "rdSjQ_iR2S-W"
   },
   "source": [
    "# Example Interactions"
   ]
  },
  {
   "cell_type": "code",
   "execution_count": null,
   "metadata": {
    "id": "ei-L086Y8kfN",
    "outputId": "c777b2ed-43c9-4770-82d0-c478fbbf7451"
   },
   "outputs": [
    {
     "name": "stdout",
     "output_type": "stream",
     "text": [
      "<|im_start|>system\n",
      "You are a medical question answering assistant. Answer the user’s question concisely and accurately.<|im_end|>\n",
      "<|im_start|>user\n",
      "Question: What is a cyst?<|im_end|>\n",
      "<|im_start|>assistant\n",
      "\n",
      "<|im_start|>system\n",
      "You are a medical question answering assistant. Answer the user’s question concisely and accurately.<|im_end|>\n",
      "<|im_start|>user\n",
      "Question: What are the differences between the stages of breast cancer?<|im_end|>\n",
      "<|im_start|>assistant\n",
      "\n",
      "<|im_start|>system\n",
      "You are a medical question answering assistant. Answer the user’s question concisely and accurately.<|im_end|>\n",
      "<|im_start|>user\n",
      "Question: How to treat an infection?<|im_end|>\n",
      "<|im_start|>assistant\n",
      "\n"
     ]
    },
    {
     "data": {
      "text/plain": [
       "[\"system\\nYou are a medical question answering assistant. Answer the user’s question concisely and accurately.\\nuser\\nQuestion: What is a cyst?\\nassistant\\nA cyst is an abnormal sac or cavity that forms in the skin, glands, or internal organs. Cysts may contain fluid, air, pus, hair, fat, or other materials. Some cysts have no symptoms; others cause pain or swelling. Most cysts do not require treatment. A doctor may drain or remove a cyst if it becomes large or painful.  Cystic acne is a type of acne that occurs when a clogged pore fills with oil (sebum), dead skin cells, bacteria, and debris. This material causes inflammation, forming a pimple or bump under the surface of the skin. Sometimes, this inflamed area fills with fluid to form a cyst. Cystic nodules and cystic acne are more common among people who have severe acne. The exact cause of cystic acne is unknown. It is likely caused by hormonal changes during puberty. Cystinosis is a rare condition that affects how your body breaks down proteins and fats. People with cystinosis often develop cysts filled with a substance called cystine. These cysts can form in many parts of the body. Symptoms of cystinosis vary widely from person to person. Some people never develop cysts or only develop small ones. Other people develop many cysts and experience serious health problems as a result. Cystitis is inflammation of the bladder lining. This inflammation usually results from infection with bacteria, but can also be due to irritation from chemicals found in urine or medicines. Symptoms of acute cystitis include burning sensation during urination, frequent urge to urinate, passing small amounts of urine, cloudy or strong-smelling urine, and lower abdominal pain. Acute cystitis often responds quickly to antibiotics. If you suspect cystitis, see a doctor for diagnosis and treatment. Cystocele is a condition in which part of the bladder pushes into the vagina. It is a common pelvic floor disorder affecting women after childbirth. Cystoscopy is examination of the inside of the bladder using a thin tube called a cystoscope. A cystoscope has a light at one end and a lens at the other so that the doctor can see what's happening inside the bladder. The cystoscope is inserted through the urethra into the bladder. A doctor uses cystoscopy to diagnose and treat problems involving the urinary tract. For example, a doctor might use cystoscopy with a laser to cut away tissue or stones. Cystotomy is surgery to open or make an incision into a cyst.\",\n",
       " 'system\\nYou are a medical question answering assistant. Answer the user’s question concisely and accurately.\\nuser\\nQuestion: What are the differences between the stages of breast cancer?\\nassistant\\nBreast cancer is staged from 0 to 4, depending on how far it has spread. The stage also helps determine what treatments may be best for you.   Stage 0 (Carcinoma in situ)  Cancer cells are found only in the ducts or lobules of the breast tissue, but have not broken through the basement membrane into surrounding tissues. They have not spread beyond the breast. This stage includes atypical hyperplasia and ductal carcinoma in situ (DCIS).  Stage I  Cancer has grown slightly outside the basement membrane, but not yet invaded surrounding breast tissue. It can often be cured with surgery alone.  Stage II  Cancer has spread deeper into the breast, and sometimes to nearby lymph nodes. It may require surgery and radiation therapy.  Stage III  Cancer has extended into nearby lymph nodes and/or chest wall or skin. Surgery and radiation therapy are usually needed. Some patients may need chemotherapy as well.  Stage IV  Cancer has traveled to other parts of the body, such as the bones, liver, lungs, or brain. Treatment focuses on slowing or stopping tumor growth and relieving symptoms.',\n",
       " \"system\\nYou are a medical question answering assistant. Answer the user’s question concisely and accurately.\\nuser\\nQuestion: How to treat an infection?\\nassistant\\nInfections are caused by germs such as bacteria, viruses or fungi. Some infections go away on their own in a few days. Other infections need antibiotics, antivirals or antifungals. You can also treat some infections with over-the-counter medicines like acetaminophen (Tylenol) or ibuprofen (Advil). For example, you might use these medicines if you have a fever from an infection.  Antibiotics kill certain types of germs called bacteria. They do not work against viruses. Antibiotics come in different forms, including pills, liquids, ointments and eye drops. Your doctor will tell you how to take them.  Antiviral medicines are used to fight off viral infections. Examples include HIV/AIDS medicines and flu vaccines. Antiviral drugs are usually prescribed for people who are at high risk of serious complications. Your doctor may recommend that you take antivirally drugs before exposure to prevent illness.  Antifungal medicines treat fungal infections. Examples of fungal infections include athlete's foot, ringworm, yeast infections and thrush. Over-the-counter antifungal creams, powders or sprays can treat mild fungal infections. Severe fungal infections often require prescription antifungal medicines.  Always follow your doctor's advice about treating infections. Never share your antibiotics, antifungics or antivirials with others, even if they have similar symptoms. Sharing these medicines increases the chance of developing drug-resistant strains of germs.\"]"
      ]
     },
     "execution_count": 10,
     "metadata": {},
     "output_type": "execute_result"
    }
   ],
   "source": [
    "SYSTEM_PROMPT = \"\"\"You are a medical question answering assistant. Answer the user’s question concisely and accurately.\"\"\"\n",
    "\n",
    "three_examples = [\n",
    "    \"Question: What is a cyst?\",\n",
    "    \"Question: What are the differences between the stages of breast cancer?\",\n",
    "    \"Question: How to treat an infection?\"\n",
    "]\n",
    "\n",
    "def generate(system_prompt, user_prompts):\n",
    "    outs = []\n",
    "    for user_prompt in user_prompts:\n",
    "        messages = [\n",
    "            {\"role\" : \"system\", \"content\" : system_prompt},\n",
    "            {\"role\" : \"user\", \"content\" : user_prompt}\n",
    "        ]\n",
    "        text = tokenizer.apply_chat_template(\n",
    "            messages,\n",
    "            tokenize = False,\n",
    "            add_generation_prompt = True,\n",
    "        )\n",
    "        print(text)\n",
    "        inputs = tokenizer(\n",
    "            text,\n",
    "            padding=True,\n",
    "            padding_side=\"left\",\n",
    "            truncation=True,\n",
    "            return_tensors = \"pt\"\n",
    "        ).to(\"cuda\")\n",
    "\n",
    "        out = model.generate(\n",
    "            **inputs,\n",
    "            max_new_tokens = 512,\n",
    "            temperature = 0.7,\n",
    "            top_p = 0.8,\n",
    "            top_k = 20,\n",
    "            repetition_penalty=1.1,\n",
    "            no_repeat_ngram_size=4,\n",
    "            use_cache=False,\n",
    "        )\n",
    "        outs.append(tokenizer.decode(out[0], skip_special_tokens = True))\n",
    "    return outs\n",
    "\n",
    "outs = generate(SYSTEM_PROMPT, three_examples)\n",
    "outs"
   ]
  },
  {
   "cell_type": "code",
   "execution_count": null,
   "metadata": {
    "id": "b7r5jFN7D2u2"
   },
   "outputs": [],
   "source": []
  }
 ],
 "metadata": {
  "accelerator": "GPU",
  "kernelspec": {
   "display_name": ".venv",
   "language": "python",
   "name": "python3"
  },
  "language_info": {
   "codemirror_mode": {
    "name": "ipython",
    "version": 3
   },
   "file_extension": ".py",
   "mimetype": "text/x-python",
   "name": "python",
   "nbconvert_exporter": "python",
   "pygments_lexer": "ipython3",
   "version": "3.12.6"
  }
 },
 "nbformat": 4,
 "nbformat_minor": 0
}
